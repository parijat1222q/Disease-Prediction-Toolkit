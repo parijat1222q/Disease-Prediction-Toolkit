{
  "nbformat": 4,
  "nbformat_minor": 0,
  "metadata": {
    "colab": {
      "provenance": []
    },
    "kernelspec": {
      "name": "python3",
      "display_name": "Python 3"
    },
    "language_info": {
      "name": "python"
    }
  },
  "cells": [
    {
      "cell_type": "code",
      "source": [
        "!pip install scikit-learn pandas matplotlib seaborn"
      ],
      "metadata": {
        "colab": {
          "base_uri": "https://localhost:8080/"
        },
        "id": "BJjn9TH28TyE",
        "outputId": "09716757-acb4-4cad-8d73-7e4d30178a44"
      },
      "execution_count": 25,
      "outputs": [
        {
          "output_type": "stream",
          "name": "stdout",
          "text": [
            "Requirement already satisfied: scikit-learn in /usr/local/lib/python3.12/dist-packages (1.6.1)\n",
            "Requirement already satisfied: pandas in /usr/local/lib/python3.12/dist-packages (2.2.2)\n",
            "Requirement already satisfied: matplotlib in /usr/local/lib/python3.12/dist-packages (3.10.0)\n",
            "Requirement already satisfied: seaborn in /usr/local/lib/python3.12/dist-packages (0.13.2)\n",
            "Requirement already satisfied: numpy>=1.19.5 in /usr/local/lib/python3.12/dist-packages (from scikit-learn) (2.0.2)\n",
            "Requirement already satisfied: scipy>=1.6.0 in /usr/local/lib/python3.12/dist-packages (from scikit-learn) (1.16.1)\n",
            "Requirement already satisfied: joblib>=1.2.0 in /usr/local/lib/python3.12/dist-packages (from scikit-learn) (1.5.1)\n",
            "Requirement already satisfied: threadpoolctl>=3.1.0 in /usr/local/lib/python3.12/dist-packages (from scikit-learn) (3.6.0)\n",
            "Requirement already satisfied: python-dateutil>=2.8.2 in /usr/local/lib/python3.12/dist-packages (from pandas) (2.9.0.post0)\n",
            "Requirement already satisfied: pytz>=2020.1 in /usr/local/lib/python3.12/dist-packages (from pandas) (2025.2)\n",
            "Requirement already satisfied: tzdata>=2022.7 in /usr/local/lib/python3.12/dist-packages (from pandas) (2025.2)\n",
            "Requirement already satisfied: contourpy>=1.0.1 in /usr/local/lib/python3.12/dist-packages (from matplotlib) (1.3.3)\n",
            "Requirement already satisfied: cycler>=0.10 in /usr/local/lib/python3.12/dist-packages (from matplotlib) (0.12.1)\n",
            "Requirement already satisfied: fonttools>=4.22.0 in /usr/local/lib/python3.12/dist-packages (from matplotlib) (4.59.1)\n",
            "Requirement already satisfied: kiwisolver>=1.3.1 in /usr/local/lib/python3.12/dist-packages (from matplotlib) (1.4.9)\n",
            "Requirement already satisfied: packaging>=20.0 in /usr/local/lib/python3.12/dist-packages (from matplotlib) (25.0)\n",
            "Requirement already satisfied: pillow>=8 in /usr/local/lib/python3.12/dist-packages (from matplotlib) (11.3.0)\n",
            "Requirement already satisfied: pyparsing>=2.3.1 in /usr/local/lib/python3.12/dist-packages (from matplotlib) (3.2.3)\n",
            "Requirement already satisfied: six>=1.5 in /usr/local/lib/python3.12/dist-packages (from python-dateutil>=2.8.2->pandas) (1.17.0)\n"
          ]
        }
      ]
    },
    {
      "cell_type": "code",
      "source": [
        "import pandas as pd\n",
        "import numpy as np\n",
        "import matplotlib.pyplot as plt\n",
        "import seaborn as sns\n",
        "from sklearn.model_selection import train_test_split\n",
        "from sklearn.preprocessing import StandardScaler\n",
        "from sklearn.metrics import accuracy_score, precision_score, recall_score, f1_score, roc_auc_score, confusion_matrix, RocCurveDisplay\n",
        "from sklearn.linear_model import LogisticRegression\n",
        "from sklearn.tree import DecisionTreeClassifier\n",
        "from sklearn.ensemble import RandomForestClassifier"
      ],
      "metadata": {
        "id": "ttmfWjHy8a5F"
      },
      "execution_count": 27,
      "outputs": []
    },
    {
      "cell_type": "code",
      "source": [
        "from google.colab import files\n",
        "files.upload()"
      ],
      "metadata": {
        "colab": {
          "base_uri": "https://localhost:8080/",
          "height": 1000
        },
        "id": "3lkGB_zt8h4c",
        "outputId": "50245760-2c3c-45ba-bb31-a828a7f5d9c9"
      },
      "execution_count": 28,
      "outputs": [
        {
          "output_type": "display_data",
          "data": {
            "text/plain": [
              "<IPython.core.display.HTML object>"
            ],
            "text/html": [
              "\n",
              "     <input type=\"file\" id=\"files-bbe57afa-7d4c-4223-aaf6-e42a04cd3a01\" name=\"files[]\" multiple disabled\n",
              "        style=\"border:none\" />\n",
              "     <output id=\"result-bbe57afa-7d4c-4223-aaf6-e42a04cd3a01\">\n",
              "      Upload widget is only available when the cell has been executed in the\n",
              "      current browser session. Please rerun this cell to enable.\n",
              "      </output>\n",
              "      <script>// Copyright 2017 Google LLC\n",
              "//\n",
              "// Licensed under the Apache License, Version 2.0 (the \"License\");\n",
              "// you may not use this file except in compliance with the License.\n",
              "// You may obtain a copy of the License at\n",
              "//\n",
              "//      http://www.apache.org/licenses/LICENSE-2.0\n",
              "//\n",
              "// Unless required by applicable law or agreed to in writing, software\n",
              "// distributed under the License is distributed on an \"AS IS\" BASIS,\n",
              "// WITHOUT WARRANTIES OR CONDITIONS OF ANY KIND, either express or implied.\n",
              "// See the License for the specific language governing permissions and\n",
              "// limitations under the License.\n",
              "\n",
              "/**\n",
              " * @fileoverview Helpers for google.colab Python module.\n",
              " */\n",
              "(function(scope) {\n",
              "function span(text, styleAttributes = {}) {\n",
              "  const element = document.createElement('span');\n",
              "  element.textContent = text;\n",
              "  for (const key of Object.keys(styleAttributes)) {\n",
              "    element.style[key] = styleAttributes[key];\n",
              "  }\n",
              "  return element;\n",
              "}\n",
              "\n",
              "// Max number of bytes which will be uploaded at a time.\n",
              "const MAX_PAYLOAD_SIZE = 100 * 1024;\n",
              "\n",
              "function _uploadFiles(inputId, outputId) {\n",
              "  const steps = uploadFilesStep(inputId, outputId);\n",
              "  const outputElement = document.getElementById(outputId);\n",
              "  // Cache steps on the outputElement to make it available for the next call\n",
              "  // to uploadFilesContinue from Python.\n",
              "  outputElement.steps = steps;\n",
              "\n",
              "  return _uploadFilesContinue(outputId);\n",
              "}\n",
              "\n",
              "// This is roughly an async generator (not supported in the browser yet),\n",
              "// where there are multiple asynchronous steps and the Python side is going\n",
              "// to poll for completion of each step.\n",
              "// This uses a Promise to block the python side on completion of each step,\n",
              "// then passes the result of the previous step as the input to the next step.\n",
              "function _uploadFilesContinue(outputId) {\n",
              "  const outputElement = document.getElementById(outputId);\n",
              "  const steps = outputElement.steps;\n",
              "\n",
              "  const next = steps.next(outputElement.lastPromiseValue);\n",
              "  return Promise.resolve(next.value.promise).then((value) => {\n",
              "    // Cache the last promise value to make it available to the next\n",
              "    // step of the generator.\n",
              "    outputElement.lastPromiseValue = value;\n",
              "    return next.value.response;\n",
              "  });\n",
              "}\n",
              "\n",
              "/**\n",
              " * Generator function which is called between each async step of the upload\n",
              " * process.\n",
              " * @param {string} inputId Element ID of the input file picker element.\n",
              " * @param {string} outputId Element ID of the output display.\n",
              " * @return {!Iterable<!Object>} Iterable of next steps.\n",
              " */\n",
              "function* uploadFilesStep(inputId, outputId) {\n",
              "  const inputElement = document.getElementById(inputId);\n",
              "  inputElement.disabled = false;\n",
              "\n",
              "  const outputElement = document.getElementById(outputId);\n",
              "  outputElement.innerHTML = '';\n",
              "\n",
              "  const pickedPromise = new Promise((resolve) => {\n",
              "    inputElement.addEventListener('change', (e) => {\n",
              "      resolve(e.target.files);\n",
              "    });\n",
              "  });\n",
              "\n",
              "  const cancel = document.createElement('button');\n",
              "  inputElement.parentElement.appendChild(cancel);\n",
              "  cancel.textContent = 'Cancel upload';\n",
              "  const cancelPromise = new Promise((resolve) => {\n",
              "    cancel.onclick = () => {\n",
              "      resolve(null);\n",
              "    };\n",
              "  });\n",
              "\n",
              "  // Wait for the user to pick the files.\n",
              "  const files = yield {\n",
              "    promise: Promise.race([pickedPromise, cancelPromise]),\n",
              "    response: {\n",
              "      action: 'starting',\n",
              "    }\n",
              "  };\n",
              "\n",
              "  cancel.remove();\n",
              "\n",
              "  // Disable the input element since further picks are not allowed.\n",
              "  inputElement.disabled = true;\n",
              "\n",
              "  if (!files) {\n",
              "    return {\n",
              "      response: {\n",
              "        action: 'complete',\n",
              "      }\n",
              "    };\n",
              "  }\n",
              "\n",
              "  for (const file of files) {\n",
              "    const li = document.createElement('li');\n",
              "    li.append(span(file.name, {fontWeight: 'bold'}));\n",
              "    li.append(span(\n",
              "        `(${file.type || 'n/a'}) - ${file.size} bytes, ` +\n",
              "        `last modified: ${\n",
              "            file.lastModifiedDate ? file.lastModifiedDate.toLocaleDateString() :\n",
              "                                    'n/a'} - `));\n",
              "    const percent = span('0% done');\n",
              "    li.appendChild(percent);\n",
              "\n",
              "    outputElement.appendChild(li);\n",
              "\n",
              "    const fileDataPromise = new Promise((resolve) => {\n",
              "      const reader = new FileReader();\n",
              "      reader.onload = (e) => {\n",
              "        resolve(e.target.result);\n",
              "      };\n",
              "      reader.readAsArrayBuffer(file);\n",
              "    });\n",
              "    // Wait for the data to be ready.\n",
              "    let fileData = yield {\n",
              "      promise: fileDataPromise,\n",
              "      response: {\n",
              "        action: 'continue',\n",
              "      }\n",
              "    };\n",
              "\n",
              "    // Use a chunked sending to avoid message size limits. See b/62115660.\n",
              "    let position = 0;\n",
              "    do {\n",
              "      const length = Math.min(fileData.byteLength - position, MAX_PAYLOAD_SIZE);\n",
              "      const chunk = new Uint8Array(fileData, position, length);\n",
              "      position += length;\n",
              "\n",
              "      const base64 = btoa(String.fromCharCode.apply(null, chunk));\n",
              "      yield {\n",
              "        response: {\n",
              "          action: 'append',\n",
              "          file: file.name,\n",
              "          data: base64,\n",
              "        },\n",
              "      };\n",
              "\n",
              "      let percentDone = fileData.byteLength === 0 ?\n",
              "          100 :\n",
              "          Math.round((position / fileData.byteLength) * 100);\n",
              "      percent.textContent = `${percentDone}% done`;\n",
              "\n",
              "    } while (position < fileData.byteLength);\n",
              "  }\n",
              "\n",
              "  // All done.\n",
              "  yield {\n",
              "    response: {\n",
              "      action: 'complete',\n",
              "    }\n",
              "  };\n",
              "}\n",
              "\n",
              "scope.google = scope.google || {};\n",
              "scope.google.colab = scope.google.colab || {};\n",
              "scope.google.colab._files = {\n",
              "  _uploadFiles,\n",
              "  _uploadFilesContinue,\n",
              "};\n",
              "})(self);\n",
              "</script> "
            ]
          },
          "metadata": {}
        },
        {
          "output_type": "stream",
          "name": "stdout",
          "text": [
            "Saving heart_disease_uci.csv to heart_disease_uci.csv\n"
          ]
        },
        {
          "output_type": "execute_result",
          "data": {
            "text/plain": [
              "{'heart_disease_uci.csv': b'id,age,sex,dataset,cp,trestbps,chol,fbs,restecg,thalch,exang,oldpeak,slope,ca,thal,num\\n1,63,Male,Cleveland,typical angina,145,233,TRUE,lv hypertrophy,150,FALSE,2.3,downsloping,0,fixed defect,0\\n2,67,Male,Cleveland,asymptomatic,160,286,FALSE,lv hypertrophy,108,TRUE,1.5,flat,3,normal,2\\n3,67,Male,Cleveland,asymptomatic,120,229,FALSE,lv hypertrophy,129,TRUE,2.6,flat,2,reversable defect,1\\n4,37,Male,Cleveland,non-anginal,130,250,FALSE,normal,187,FALSE,3.5,downsloping,0,normal,0\\n5,41,Female,Cleveland,atypical angina,130,204,FALSE,lv hypertrophy,172,FALSE,1.4,upsloping,0,normal,0\\n6,56,Male,Cleveland,atypical angina,120,236,FALSE,normal,178,FALSE,0.8,upsloping,0,normal,0\\n7,62,Female,Cleveland,asymptomatic,140,268,FALSE,lv hypertrophy,160,FALSE,3.6,downsloping,2,normal,3\\n8,57,Female,Cleveland,asymptomatic,120,354,FALSE,normal,163,TRUE,0.6,upsloping,0,normal,0\\n9,63,Male,Cleveland,asymptomatic,130,254,FALSE,lv hypertrophy,147,FALSE,1.4,flat,1,reversable defect,2\\n10,53,Male,Cleveland,asymptomatic,140,203,TRUE,lv hypertrophy,155,TRUE,3.1,downsloping,0,reversable defect,1\\n11,57,Male,Cleveland,asymptomatic,140,192,FALSE,normal,148,FALSE,0.4,flat,0,fixed defect,0\\n12,56,Female,Cleveland,atypical angina,140,294,FALSE,lv hypertrophy,153,FALSE,1.3,flat,0,normal,0\\n13,56,Male,Cleveland,non-anginal,130,256,TRUE,lv hypertrophy,142,TRUE,0.6,flat,1,fixed defect,2\\n14,44,Male,Cleveland,atypical angina,120,263,FALSE,normal,173,FALSE,0,upsloping,0,reversable defect,0\\n15,52,Male,Cleveland,non-anginal,172,199,TRUE,normal,162,FALSE,0.5,upsloping,0,reversable defect,0\\n16,57,Male,Cleveland,non-anginal,150,168,FALSE,normal,174,FALSE,1.6,upsloping,0,normal,0\\n17,48,Male,Cleveland,atypical angina,110,229,FALSE,normal,168,FALSE,1,downsloping,0,reversable defect,1\\n18,54,Male,Cleveland,asymptomatic,140,239,FALSE,normal,160,FALSE,1.2,upsloping,0,normal,0\\n19,48,Female,Cleveland,non-anginal,130,275,FALSE,normal,139,FALSE,0.2,upsloping,0,normal,0\\n20,49,Male,Cleveland,atypical angina,130,266,FALSE,normal,171,FALSE,0.6,upsloping,0,normal,0\\n21,64,Male,Cleveland,typical angina,110,211,FALSE,lv hypertrophy,144,TRUE,1.8,flat,0,normal,0\\n22,58,Female,Cleveland,typical angina,150,283,TRUE,lv hypertrophy,162,FALSE,1,upsloping,0,normal,0\\n23,58,Male,Cleveland,atypical angina,120,284,FALSE,lv hypertrophy,160,FALSE,1.8,flat,0,normal,1\\n24,58,Male,Cleveland,non-anginal,132,224,FALSE,lv hypertrophy,173,FALSE,3.2,upsloping,2,reversable defect,3\\n25,60,Male,Cleveland,asymptomatic,130,206,FALSE,lv hypertrophy,132,TRUE,2.4,flat,2,reversable defect,4\\n26,50,Female,Cleveland,non-anginal,120,219,FALSE,normal,158,FALSE,1.6,flat,0,normal,0\\n27,58,Female,Cleveland,non-anginal,120,340,FALSE,normal,172,FALSE,0,upsloping,0,normal,0\\n28,66,Female,Cleveland,typical angina,150,226,FALSE,normal,114,FALSE,2.6,downsloping,0,normal,0\\n29,43,Male,Cleveland,asymptomatic,150,247,FALSE,normal,171,FALSE,1.5,upsloping,0,normal,0\\n30,40,Male,Cleveland,asymptomatic,110,167,FALSE,lv hypertrophy,114,TRUE,2,flat,0,reversable defect,3\\n31,69,Female,Cleveland,typical angina,140,239,FALSE,normal,151,FALSE,1.8,upsloping,2,normal,0\\n32,60,Male,Cleveland,asymptomatic,117,230,TRUE,normal,160,TRUE,1.4,upsloping,2,reversable defect,2\\n33,64,Male,Cleveland,non-anginal,140,335,FALSE,normal,158,FALSE,0,upsloping,0,normal,1\\n34,59,Male,Cleveland,asymptomatic,135,234,FALSE,normal,161,FALSE,0.5,flat,0,reversable defect,0\\n35,44,Male,Cleveland,non-anginal,130,233,FALSE,normal,179,TRUE,0.4,upsloping,0,normal,0\\n36,42,Male,Cleveland,asymptomatic,140,226,FALSE,normal,178,FALSE,0,upsloping,0,normal,0\\n37,43,Male,Cleveland,asymptomatic,120,177,FALSE,lv hypertrophy,120,TRUE,2.5,flat,0,reversable defect,3\\n38,57,Male,Cleveland,asymptomatic,150,276,FALSE,lv hypertrophy,112,TRUE,0.6,flat,1,fixed defect,1\\n39,55,Male,Cleveland,asymptomatic,132,353,FALSE,normal,132,TRUE,1.2,flat,1,reversable defect,3\\n40,61,Male,Cleveland,non-anginal,150,243,TRUE,normal,137,TRUE,1,flat,0,normal,0\\n41,65,Female,Cleveland,asymptomatic,150,225,FALSE,lv hypertrophy,114,FALSE,1,flat,3,reversable defect,4\\n42,40,Male,Cleveland,typical angina,140,199,FALSE,normal,178,TRUE,1.4,upsloping,0,reversable defect,0\\n43,71,Female,Cleveland,atypical angina,160,302,FALSE,normal,162,FALSE,0.4,upsloping,2,normal,0\\n44,59,Male,Cleveland,non-anginal,150,212,TRUE,normal,157,FALSE,1.6,upsloping,0,normal,0\\n45,61,Female,Cleveland,asymptomatic,130,330,FALSE,lv hypertrophy,169,FALSE,0,upsloping,0,normal,1\\n46,58,Male,Cleveland,non-anginal,112,230,FALSE,lv hypertrophy,165,FALSE,2.5,flat,1,reversable defect,4\\n47,51,Male,Cleveland,non-anginal,110,175,FALSE,normal,123,FALSE,0.6,upsloping,0,normal,0\\n48,50,Male,Cleveland,asymptomatic,150,243,FALSE,lv hypertrophy,128,FALSE,2.6,flat,0,reversable defect,4\\n49,65,Female,Cleveland,non-anginal,140,417,TRUE,lv hypertrophy,157,FALSE,0.8,upsloping,1,normal,0\\n50,53,Male,Cleveland,non-anginal,130,197,TRUE,lv hypertrophy,152,FALSE,1.2,downsloping,0,normal,0\\n51,41,Female,Cleveland,atypical angina,105,198,FALSE,normal,168,FALSE,0,upsloping,1,normal,0\\n52,65,Male,Cleveland,asymptomatic,120,177,FALSE,normal,140,FALSE,0.4,upsloping,0,reversable defect,0\\n53,44,Male,Cleveland,asymptomatic,112,290,FALSE,lv hypertrophy,153,FALSE,0,upsloping,1,normal,2\\n54,44,Male,Cleveland,atypical angina,130,219,FALSE,lv hypertrophy,188,FALSE,0,upsloping,0,normal,0\\n55,60,Male,Cleveland,asymptomatic,130,253,FALSE,normal,144,TRUE,1.4,upsloping,1,reversable defect,1\\n56,54,Male,Cleveland,asymptomatic,124,266,FALSE,lv hypertrophy,109,TRUE,2.2,flat,1,reversable defect,1\\n57,50,Male,Cleveland,non-anginal,140,233,FALSE,normal,163,FALSE,0.6,flat,1,reversable defect,1\\n58,41,Male,Cleveland,asymptomatic,110,172,FALSE,lv hypertrophy,158,FALSE,0,upsloping,0,reversable defect,1\\n59,54,Male,Cleveland,non-anginal,125,273,FALSE,lv hypertrophy,152,FALSE,0.5,downsloping,1,normal,0\\n60,51,Male,Cleveland,typical angina,125,213,FALSE,lv hypertrophy,125,TRUE,1.4,upsloping,1,normal,0\\n61,51,Female,Cleveland,asymptomatic,130,305,FALSE,normal,142,TRUE,1.2,flat,0,reversable defect,2\\n62,46,Female,Cleveland,non-anginal,142,177,FALSE,lv hypertrophy,160,TRUE,1.4,downsloping,0,normal,0\\n63,58,Male,Cleveland,asymptomatic,128,216,FALSE,lv hypertrophy,131,TRUE,2.2,flat,3,reversable defect,1\\n64,54,Female,Cleveland,non-anginal,135,304,TRUE,normal,170,FALSE,0,upsloping,0,normal,0\\n65,54,Male,Cleveland,asymptomatic,120,188,FALSE,normal,113,FALSE,1.4,flat,1,reversable defect,2\\n66,60,Male,Cleveland,asymptomatic,145,282,FALSE,lv hypertrophy,142,TRUE,2.8,flat,2,reversable defect,2\\n67,60,Male,Cleveland,non-anginal,140,185,FALSE,lv hypertrophy,155,FALSE,3,flat,0,normal,1\\n68,54,Male,Cleveland,non-anginal,150,232,FALSE,lv hypertrophy,165,FALSE,1.6,upsloping,0,reversable defect,0\\n69,59,Male,Cleveland,asymptomatic,170,326,FALSE,lv hypertrophy,140,TRUE,3.4,downsloping,0,reversable defect,2\\n70,46,Male,Cleveland,non-anginal,150,231,FALSE,normal,147,FALSE,3.6,flat,0,normal,1\\n71,65,Female,Cleveland,non-anginal,155,269,FALSE,normal,148,FALSE,0.8,upsloping,0,normal,0\\n72,67,Male,Cleveland,asymptomatic,125,254,TRUE,normal,163,FALSE,0.2,flat,2,reversable defect,3\\n73,62,Male,Cleveland,asymptomatic,120,267,FALSE,normal,99,TRUE,1.8,flat,2,reversable defect,1\\n74,65,Male,Cleveland,asymptomatic,110,248,FALSE,lv hypertrophy,158,FALSE,0.6,upsloping,2,fixed defect,1\\n75,44,Male,Cleveland,asymptomatic,110,197,FALSE,lv hypertrophy,177,FALSE,0,upsloping,1,normal,1\\n76,65,Female,Cleveland,non-anginal,160,360,FALSE,lv hypertrophy,151,FALSE,0.8,upsloping,0,normal,0\\n77,60,Male,Cleveland,asymptomatic,125,258,FALSE,lv hypertrophy,141,TRUE,2.8,flat,1,reversable defect,1\\n78,51,Female,Cleveland,non-anginal,140,308,FALSE,lv hypertrophy,142,FALSE,1.5,upsloping,1,normal,0\\n79,48,Male,Cleveland,atypical angina,130,245,FALSE,lv hypertrophy,180,FALSE,0.2,flat,0,normal,0\\n80,58,Male,Cleveland,asymptomatic,150,270,FALSE,lv hypertrophy,111,TRUE,0.8,upsloping,0,reversable defect,3\\n81,45,Male,Cleveland,asymptomatic,104,208,FALSE,lv hypertrophy,148,TRUE,3,flat,0,normal,0\\n82,53,Female,Cleveland,asymptomatic,130,264,FALSE,lv hypertrophy,143,FALSE,0.4,flat,0,normal,0\\n83,39,Male,Cleveland,non-anginal,140,321,FALSE,lv hypertrophy,182,FALSE,0,upsloping,0,normal,0\\n84,68,Male,Cleveland,non-anginal,180,274,TRUE,lv hypertrophy,150,TRUE,1.6,flat,0,reversable defect,3\\n85,52,Male,Cleveland,atypical angina,120,325,FALSE,normal,172,FALSE,0.2,upsloping,0,normal,0\\n86,44,Male,Cleveland,non-anginal,140,235,FALSE,lv hypertrophy,180,FALSE,0,upsloping,0,normal,0\\n87,47,Male,Cleveland,non-anginal,138,257,FALSE,lv hypertrophy,156,FALSE,0,upsloping,0,normal,0\\n88,53,Female,Cleveland,non-anginal,128,216,FALSE,lv hypertrophy,115,FALSE,0,upsloping,0,,0\\n89,53,Female,Cleveland,asymptomatic,138,234,FALSE,lv hypertrophy,160,FALSE,0,upsloping,0,normal,0\\n90,51,Female,Cleveland,non-anginal,130,256,FALSE,lv hypertrophy,149,FALSE,0.5,upsloping,0,normal,0\\n91,66,Male,Cleveland,asymptomatic,120,302,FALSE,lv hypertrophy,151,FALSE,0.4,flat,0,normal,0\\n92,62,Female,Cleveland,asymptomatic,160,164,FALSE,lv hypertrophy,145,FALSE,6.2,downsloping,3,reversable defect,3\\n93,62,Male,Cleveland,non-anginal,130,231,FALSE,normal,146,FALSE,1.8,flat,3,reversable defect,0\\n94,44,Female,Cleveland,non-anginal,108,141,FALSE,normal,175,FALSE,0.6,flat,0,normal,0\\n95,63,Female,Cleveland,non-anginal,135,252,FALSE,lv hypertrophy,172,FALSE,0,upsloping,0,normal,0\\n96,52,Male,Cleveland,asymptomatic,128,255,FALSE,normal,161,TRUE,0,upsloping,1,reversable defect,1\\n97,59,Male,Cleveland,asymptomatic,110,239,FALSE,lv hypertrophy,142,TRUE,1.2,flat,1,reversable defect,2\\n98,60,Female,Cleveland,asymptomatic,150,258,FALSE,lv hypertrophy,157,FALSE,2.6,flat,2,reversable defect,3\\n99,52,Male,Cleveland,atypical angina,134,201,FALSE,normal,158,FALSE,0.8,upsloping,1,normal,0\\n100,48,Male,Cleveland,asymptomatic,122,222,FALSE,lv hypertrophy,186,FALSE,0,upsloping,0,normal,0\\n101,45,Male,Cleveland,asymptomatic,115,260,FALSE,lv hypertrophy,185,FALSE,0,upsloping,0,normal,0\\n102,34,Male,Cleveland,typical angina,118,182,FALSE,lv hypertrophy,174,FALSE,0,upsloping,0,normal,0\\n103,57,Female,Cleveland,asymptomatic,128,303,FALSE,lv hypertrophy,159,FALSE,0,upsloping,1,normal,0\\n104,71,Female,Cleveland,non-anginal,110,265,TRUE,lv hypertrophy,130,FALSE,0,upsloping,1,normal,0\\n105,49,Male,Cleveland,non-anginal,120,188,FALSE,normal,139,FALSE,2,flat,3,reversable defect,3\\n106,54,Male,Cleveland,atypical angina,108,309,FALSE,normal,156,FALSE,0,upsloping,0,reversable defect,0\\n107,59,Male,Cleveland,asymptomatic,140,177,FALSE,normal,162,TRUE,0,upsloping,1,reversable defect,2\\n108,57,Male,Cleveland,non-anginal,128,229,FALSE,lv hypertrophy,150,FALSE,0.4,flat,1,reversable defect,1\\n109,61,Male,Cleveland,asymptomatic,120,260,FALSE,normal,140,TRUE,3.6,flat,1,reversable defect,2\\n110,39,Male,Cleveland,asymptomatic,118,219,FALSE,normal,140,FALSE,1.2,flat,0,reversable defect,3\\n111,61,Female,Cleveland,asymptomatic,145,307,FALSE,lv hypertrophy,146,TRUE,1,flat,0,reversable defect,1\\n112,56,Male,Cleveland,asymptomatic,125,249,TRUE,lv hypertrophy,144,TRUE,1.2,flat,1,normal,1\\n113,52,Male,Cleveland,typical angina,118,186,FALSE,lv hypertrophy,190,FALSE,0,flat,0,fixed defect,0\\n114,43,Female,Cleveland,asymptomatic,132,341,TRUE,lv hypertrophy,136,TRUE,3,flat,0,reversable defect,2\\n115,62,Female,Cleveland,non-anginal,130,263,FALSE,normal,97,FALSE,1.2,flat,1,reversable defect,2\\n116,41,Male,Cleveland,atypical angina,135,203,FALSE,normal,132,FALSE,0,flat,0,fixed defect,0\\n117,58,Male,Cleveland,non-anginal,140,211,TRUE,lv hypertrophy,165,FALSE,0,upsloping,0,normal,0\\n118,35,Female,Cleveland,asymptomatic,138,183,FALSE,normal,182,FALSE,1.4,upsloping,0,normal,0\\n119,63,Male,Cleveland,asymptomatic,130,330,TRUE,lv hypertrophy,132,TRUE,1.8,upsloping,3,reversable defect,3\\n120,65,Male,Cleveland,asymptomatic,135,254,FALSE,lv hypertrophy,127,FALSE,2.8,flat,1,reversable defect,2\\n121,48,Male,Cleveland,asymptomatic,130,256,TRUE,lv hypertrophy,150,TRUE,0,upsloping,2,reversable defect,3\\n122,63,Female,Cleveland,asymptomatic,150,407,FALSE,lv hypertrophy,154,FALSE,4,flat,3,reversable defect,4\\n123,51,Male,Cleveland,non-anginal,100,222,FALSE,normal,143,TRUE,1.2,flat,0,normal,0\\n124,55,Male,Cleveland,asymptomatic,140,217,FALSE,normal,111,TRUE,5.6,downsloping,0,reversable defect,3\\n125,65,Male,Cleveland,typical angina,138,282,TRUE,lv hypertrophy,174,FALSE,1.4,flat,1,normal,1\\n126,45,Female,Cleveland,atypical angina,130,234,FALSE,lv hypertrophy,175,FALSE,0.6,flat,0,normal,0\\n127,56,Female,Cleveland,asymptomatic,200,288,TRUE,lv hypertrophy,133,TRUE,4,downsloping,2,reversable defect,3\\n128,54,Male,Cleveland,asymptomatic,110,239,FALSE,normal,126,TRUE,2.8,flat,1,reversable defect,3\\n129,44,Male,Cleveland,atypical angina,120,220,FALSE,normal,170,FALSE,0,upsloping,0,normal,0\\n130,62,Female,Cleveland,asymptomatic,124,209,FALSE,normal,163,FALSE,0,upsloping,0,normal,0\\n131,54,Male,Cleveland,non-anginal,120,258,FALSE,lv hypertrophy,147,FALSE,0.4,flat,0,reversable defect,0\\n132,51,Male,Cleveland,non-anginal,94,227,FALSE,normal,154,TRUE,0,upsloping,1,reversable defect,0\\n133,29,Male,Cleveland,atypical angina,130,204,FALSE,lv hypertrophy,202,FALSE,0,upsloping,0,normal,0\\n134,51,Male,Cleveland,asymptomatic,140,261,FALSE,lv hypertrophy,186,TRUE,0,upsloping,0,normal,0\\n135,43,Female,Cleveland,non-anginal,122,213,FALSE,normal,165,FALSE,0.2,flat,0,normal,0\\n136,55,Female,Cleveland,atypical angina,135,250,FALSE,lv hypertrophy,161,FALSE,1.4,flat,0,normal,0\\n137,70,Male,Cleveland,asymptomatic,145,174,FALSE,normal,125,TRUE,2.6,downsloping,0,reversable defect,4\\n138,62,Male,Cleveland,atypical angina,120,281,FALSE,lv hypertrophy,103,FALSE,1.4,flat,1,reversable defect,3\\n139,35,Male,Cleveland,asymptomatic,120,198,FALSE,normal,130,TRUE,1.6,flat,0,reversable defect,1\\n140,51,Male,Cleveland,non-anginal,125,245,TRUE,lv hypertrophy,166,FALSE,2.4,flat,0,normal,0\\n141,59,Male,Cleveland,atypical angina,140,221,FALSE,normal,164,TRUE,0,upsloping,0,normal,0\\n142,59,Male,Cleveland,typical angina,170,288,FALSE,lv hypertrophy,159,FALSE,0.2,flat,0,reversable defect,1\\n143,52,Male,Cleveland,atypical angina,128,205,TRUE,normal,184,FALSE,0,upsloping,0,normal,0\\n144,64,Male,Cleveland,non-anginal,125,309,FALSE,normal,131,TRUE,1.8,flat,0,reversable defect,1\\n145,58,Male,Cleveland,non-anginal,105,240,FALSE,lv hypertrophy,154,TRUE,0.6,flat,0,reversable defect,0\\n146,47,Male,Cleveland,non-anginal,108,243,FALSE,normal,152,FALSE,0,upsloping,0,normal,1\\n147,57,Male,Cleveland,asymptomatic,165,289,TRUE,lv hypertrophy,124,FALSE,1,flat,3,reversable defect,4\\n148,41,Male,Cleveland,non-anginal,112,250,FALSE,normal,179,FALSE,0,upsloping,0,normal,0\\n149,45,Male,Cleveland,atypical angina,128,308,FALSE,lv hypertrophy,170,FALSE,0,upsloping,0,normal,0\\n150,60,Female,Cleveland,non-anginal,102,318,FALSE,normal,160,FALSE,0,upsloping,1,normal,0\\n151,52,Male,Cleveland,typical angina,152,298,TRUE,normal,178,FALSE,1.2,flat,0,reversable defect,0\\n152,42,Female,Cleveland,asymptomatic,102,265,FALSE,lv hypertrophy,122,FALSE,0.6,flat,0,normal,0\\n153,67,Female,Cleveland,non-anginal,115,564,FALSE,lv hypertrophy,160,FALSE,1.6,flat,0,reversable defect,0\\n154,55,Male,Cleveland,asymptomatic,160,289,FALSE,lv hypertrophy,145,TRUE,0.8,flat,1,reversable defect,4\\n155,64,Male,Cleveland,asymptomatic,120,246,FALSE,lv hypertrophy,96,TRUE,2.2,downsloping,1,normal,3\\n156,70,Male,Cleveland,asymptomatic,130,322,FALSE,lv hypertrophy,109,FALSE,2.4,flat,3,normal,1\\n157,51,Male,Cleveland,asymptomatic,140,299,FALSE,normal,173,TRUE,1.6,upsloping,0,reversable defect,1\\n158,58,Male,Cleveland,asymptomatic,125,300,FALSE,lv hypertrophy,171,FALSE,0,upsloping,2,reversable defect,1\\n159,60,Male,Cleveland,asymptomatic,140,293,FALSE,lv hypertrophy,170,FALSE,1.2,flat,2,reversable defect,2\\n160,68,Male,Cleveland,non-anginal,118,277,FALSE,normal,151,FALSE,1,upsloping,1,reversable defect,0\\n161,46,Male,Cleveland,atypical angina,101,197,TRUE,normal,156,FALSE,0,upsloping,0,reversable defect,0\\n162,77,Male,Cleveland,asymptomatic,125,304,FALSE,lv hypertrophy,162,TRUE,0,upsloping,3,normal,4\\n163,54,Female,Cleveland,non-anginal,110,214,FALSE,normal,158,FALSE,1.6,flat,0,normal,0\\n164,58,Female,Cleveland,asymptomatic,100,248,FALSE,lv hypertrophy,122,FALSE,1,flat,0,normal,0\\n165,48,Male,Cleveland,non-anginal,124,255,TRUE,normal,175,FALSE,0,upsloping,2,normal,0\\n166,57,Male,Cleveland,asymptomatic,132,207,FALSE,normal,168,TRUE,0,upsloping,0,reversable defect,0\\n167,52,Male,Cleveland,non-anginal,138,223,FALSE,normal,169,FALSE,0,upsloping,,normal,0\\n168,54,Female,Cleveland,atypical angina,132,288,TRUE,lv hypertrophy,159,TRUE,0,upsloping,1,normal,0\\n169,35,Male,Cleveland,asymptomatic,126,282,FALSE,lv hypertrophy,156,TRUE,0,upsloping,0,reversable defect,1\\n170,45,Female,Cleveland,atypical angina,112,160,FALSE,normal,138,FALSE,0,flat,0,normal,0\\n171,70,Male,Cleveland,non-anginal,160,269,FALSE,normal,112,TRUE,2.9,flat,1,reversable defect,3\\n172,53,Male,Cleveland,asymptomatic,142,226,FALSE,lv hypertrophy,111,TRUE,0,upsloping,0,reversable defect,0\\n173,59,Female,Cleveland,asymptomatic,174,249,FALSE,normal,143,TRUE,0,flat,0,normal,1\\n174,62,Female,Cleveland,asymptomatic,140,394,FALSE,lv hypertrophy,157,FALSE,1.2,flat,0,normal,0\\n175,64,Male,Cleveland,asymptomatic,145,212,FALSE,lv hypertrophy,132,FALSE,2,flat,2,fixed defect,4\\n176,57,Male,Cleveland,asymptomatic,152,274,FALSE,normal,88,TRUE,1.2,flat,1,reversable defect,1\\n177,52,Male,Cleveland,asymptomatic,108,233,TRUE,normal,147,FALSE,0.1,upsloping,3,reversable defect,0\\n178,56,Male,Cleveland,asymptomatic,132,184,FALSE,lv hypertrophy,105,TRUE,2.1,flat,1,fixed defect,1\\n179,43,Male,Cleveland,non-anginal,130,315,FALSE,normal,162,FALSE,1.9,upsloping,1,normal,0\\n180,53,Male,Cleveland,non-anginal,130,246,TRUE,lv hypertrophy,173,FALSE,0,upsloping,3,normal,0\\n181,48,Male,Cleveland,asymptomatic,124,274,FALSE,lv hypertrophy,166,FALSE,0.5,flat,0,reversable defect,3\\n182,56,Female,Cleveland,asymptomatic,134,409,FALSE,lv hypertrophy,150,TRUE,1.9,flat,2,reversable defect,2\\n183,42,Male,Cleveland,typical angina,148,244,FALSE,lv hypertrophy,178,FALSE,0.8,upsloping,2,normal,0\\n184,59,Male,Cleveland,typical angina,178,270,FALSE,lv hypertrophy,145,FALSE,4.2,downsloping,0,reversable defect,0\\n185,60,Female,Cleveland,asymptomatic,158,305,FALSE,lv hypertrophy,161,FALSE,0,upsloping,0,normal,1\\n186,63,Female,Cleveland,atypical angina,140,195,FALSE,normal,179,FALSE,0,upsloping,2,normal,0\\n187,42,Male,Cleveland,non-anginal,120,240,TRUE,normal,194,FALSE,0.8,downsloping,0,reversable defect,0\\n188,66,Male,Cleveland,atypical angina,160,246,FALSE,normal,120,TRUE,0,flat,3,fixed defect,2\\n189,54,Male,Cleveland,atypical angina,192,283,FALSE,lv hypertrophy,195,FALSE,0,upsloping,1,reversable defect,1\\n190,69,Male,Cleveland,non-anginal,140,254,FALSE,lv hypertrophy,146,FALSE,2,flat,3,reversable defect,2\\n191,50,Male,Cleveland,non-anginal,129,196,FALSE,normal,163,FALSE,0,upsloping,0,normal,0\\n192,51,Male,Cleveland,asymptomatic,140,298,FALSE,normal,122,TRUE,4.2,flat,3,reversable defect,3\\n193,43,Male,Cleveland,asymptomatic,132,247,TRUE,lv hypertrophy,143,TRUE,0.1,flat,,reversable defect,1\\n194,62,Female,Cleveland,asymptomatic,138,294,TRUE,normal,106,FALSE,1.9,flat,3,normal,2\\n195,68,Female,Cleveland,non-anginal,120,211,FALSE,lv hypertrophy,115,FALSE,1.5,flat,0,normal,0\\n196,67,Male,Cleveland,asymptomatic,100,299,FALSE,lv hypertrophy,125,TRUE,0.9,flat,2,normal,3\\n197,69,Male,Cleveland,typical angina,160,234,TRUE,lv hypertrophy,131,FALSE,0.1,flat,1,normal,0\\n198,45,Female,Cleveland,asymptomatic,138,236,FALSE,lv hypertrophy,152,TRUE,0.2,flat,0,normal,0\\n199,50,Female,Cleveland,atypical angina,120,244,FALSE,normal,162,FALSE,1.1,upsloping,0,normal,0\\n200,59,Male,Cleveland,typical angina,160,273,FALSE,lv hypertrophy,125,FALSE,0,upsloping,0,normal,1\\n201,50,Female,Cleveland,asymptomatic,110,254,FALSE,lv hypertrophy,159,FALSE,0,upsloping,0,normal,0\\n202,64,Female,Cleveland,asymptomatic,180,325,FALSE,normal,154,TRUE,0,upsloping,0,normal,0\\n203,57,Male,Cleveland,non-anginal,150,126,TRUE,normal,173,FALSE,0.2,upsloping,1,reversable defect,0\\n204,64,Female,Cleveland,non-anginal,140,313,FALSE,normal,133,FALSE,0.2,upsloping,0,reversable defect,0\\n205,43,Male,Cleveland,asymptomatic,110,211,FALSE,normal,161,FALSE,0,upsloping,0,reversable defect,0\\n206,45,Male,Cleveland,asymptomatic,142,309,FALSE,lv hypertrophy,147,TRUE,0,flat,3,reversable defect,3\\n207,58,Male,Cleveland,asymptomatic,128,259,FALSE,lv hypertrophy,130,TRUE,3,flat,2,reversable defect,3\\n208,50,Male,Cleveland,asymptomatic,144,200,FALSE,lv hypertrophy,126,TRUE,0.9,flat,0,reversable defect,3\\n209,55,Male,Cleveland,atypical angina,130,262,FALSE,normal,155,FALSE,0,upsloping,0,normal,0\\n210,62,Female,Cleveland,asymptomatic,150,244,FALSE,normal,154,TRUE,1.4,flat,0,normal,1\\n211,37,Female,Cleveland,non-anginal,120,215,FALSE,normal,170,FALSE,0,upsloping,0,normal,0\\n212,38,Male,Cleveland,typical angina,120,231,FALSE,normal,182,TRUE,3.8,flat,0,reversable defect,4\\n213,41,Male,Cleveland,non-anginal,130,214,FALSE,lv hypertrophy,168,FALSE,2,flat,0,normal,0\\n214,66,Female,Cleveland,asymptomatic,178,228,TRUE,normal,165,TRUE,1,flat,2,reversable defect,3\\n215,52,Male,Cleveland,asymptomatic,112,230,FALSE,normal,160,FALSE,0,upsloping,1,normal,1\\n216,56,Male,Cleveland,typical angina,120,193,FALSE,lv hypertrophy,162,FALSE,1.9,flat,0,reversable defect,0\\n217,46,Female,Cleveland,atypical angina,105,204,FALSE,normal,172,FALSE,0,upsloping,0,normal,0\\n218,46,Female,Cleveland,asymptomatic,138,243,FALSE,lv hypertrophy,152,TRUE,0,flat,0,normal,0\\n219,64,Female,Cleveland,asymptomatic,130,303,FALSE,normal,122,FALSE,2,flat,2,normal,0\\n220,59,Male,Cleveland,asymptomatic,138,271,FALSE,lv hypertrophy,182,FALSE,0,upsloping,0,normal,0\\n221,41,Female,Cleveland,non-anginal,112,268,FALSE,lv hypertrophy,172,TRUE,0,upsloping,0,normal,0\\n222,54,Female,Cleveland,non-anginal,108,267,FALSE,lv hypertrophy,167,FALSE,0,upsloping,0,normal,0\\n223,39,Female,Cleveland,non-anginal,94,199,FALSE,normal,179,FALSE,0,upsloping,0,normal,0\\n224,53,Male,Cleveland,asymptomatic,123,282,FALSE,normal,95,TRUE,2,flat,2,reversable defect,3\\n225,63,Female,Cleveland,asymptomatic,108,269,FALSE,normal,169,TRUE,1.8,flat,2,normal,1\\n226,34,Female,Cleveland,atypical angina,118,210,FALSE,normal,192,FALSE,0.7,upsloping,0,normal,0\\n227,47,Male,Cleveland,asymptomatic,112,204,FALSE,normal,143,FALSE,0.1,upsloping,0,normal,0\\n228,67,Female,Cleveland,non-anginal,152,277,FALSE,normal,172,FALSE,0,upsloping,1,normal,0\\n229,54,Male,Cleveland,asymptomatic,110,206,FALSE,lv hypertrophy,108,TRUE,0,flat,1,normal,3\\n230,66,Male,Cleveland,asymptomatic,112,212,FALSE,lv hypertrophy,132,TRUE,0.1,upsloping,1,normal,2\\n231,52,Female,Cleveland,non-anginal,136,196,FALSE,lv hypertrophy,169,FALSE,0.1,flat,0,normal,0\\n232,55,Female,Cleveland,asymptomatic,180,327,FALSE,st-t abnormality,117,TRUE,3.4,flat,0,normal,2\\n233,49,Male,Cleveland,non-anginal,118,149,FALSE,lv hypertrophy,126,FALSE,0.8,upsloping,3,normal,1\\n234,74,Female,Cleveland,atypical angina,120,269,FALSE,lv hypertrophy,121,TRUE,0.2,upsloping,1,normal,0\\n235,54,Female,Cleveland,non-anginal,160,201,FALSE,normal,163,FALSE,0,upsloping,1,normal,0\\n236,54,Male,Cleveland,asymptomatic,122,286,FALSE,lv hypertrophy,116,TRUE,3.2,flat,2,normal,3\\n237,56,Male,Cleveland,asymptomatic,130,283,TRUE,lv hypertrophy,103,TRUE,1.6,downsloping,0,reversable defect,2\\n238,46,Male,Cleveland,asymptomatic,120,249,FALSE,lv hypertrophy,144,FALSE,0.8,upsloping,0,reversable defect,1\\n239,49,Female,Cleveland,atypical angina,134,271,FALSE,normal,162,FALSE,0,flat,0,normal,0\\n240,42,Male,Cleveland,atypical angina,120,295,FALSE,normal,162,FALSE,0,upsloping,0,normal,0\\n241,41,Male,Cleveland,atypical angina,110,235,FALSE,normal,153,FALSE,0,upsloping,0,normal,0\\n242,41,Female,Cleveland,atypical angina,126,306,FALSE,normal,163,FALSE,0,upsloping,0,normal,0\\n243,49,Female,Cleveland,asymptomatic,130,269,FALSE,normal,163,FALSE,0,upsloping,0,normal,0\\n244,61,Male,Cleveland,typical angina,134,234,FALSE,normal,145,FALSE,2.6,flat,2,normal,2\\n245,60,Female,Cleveland,non-anginal,120,178,TRUE,normal,96,FALSE,0,upsloping,0,normal,0\\n246,67,Male,Cleveland,asymptomatic,120,237,FALSE,normal,71,FALSE,1,flat,0,normal,2\\n247,58,Male,Cleveland,asymptomatic,100,234,FALSE,normal,156,FALSE,0.1,upsloping,1,reversable defect,2\\n248,47,Male,Cleveland,asymptomatic,110,275,FALSE,lv hypertrophy,118,TRUE,1,flat,1,normal,1\\n249,52,Male,Cleveland,asymptomatic,125,212,FALSE,normal,168,FALSE,1,upsloping,2,reversable defect,3\\n250,62,Male,Cleveland,atypical angina,128,208,TRUE,lv hypertrophy,140,FALSE,0,upsloping,0,normal,0\\n251,57,Male,Cleveland,asymptomatic,110,201,FALSE,normal,126,TRUE,1.5,flat,0,fixed defect,0\\n252,58,Male,Cleveland,asymptomatic,146,218,FALSE,normal,105,FALSE,2,flat,1,reversable defect,1\\n253,64,Male,Cleveland,asymptomatic,128,263,FALSE,normal,105,TRUE,0.2,flat,1,reversable defect,0\\n254,51,Female,Cleveland,non-anginal,120,295,FALSE,lv hypertrophy,157,FALSE,0.6,upsloping,0,normal,0\\n255,43,Male,Cleveland,asymptomatic,115,303,FALSE,normal,181,FALSE,1.2,flat,0,normal,0\\n256,42,Female,Cleveland,non-anginal,120,209,FALSE,normal,173,FALSE,0,flat,0,normal,0\\n257,67,Female,Cleveland,asymptomatic,106,223,FALSE,normal,142,FALSE,0.3,upsloping,2,normal,0\\n258,76,Female,Cleveland,non-anginal,140,197,FALSE,st-t abnormality,116,FALSE,1.1,flat,0,normal,0\\n259,70,Male,Cleveland,atypical angina,156,245,FALSE,lv hypertrophy,143,FALSE,0,upsloping,0,normal,0\\n260,57,Male,Cleveland,atypical angina,124,261,FALSE,normal,141,FALSE,0.3,upsloping,0,reversable defect,1\\n261,44,Female,Cleveland,non-anginal,118,242,FALSE,normal,149,FALSE,0.3,flat,1,normal,0\\n262,58,Female,Cleveland,atypical angina,136,319,TRUE,lv hypertrophy,152,FALSE,0,upsloping,2,normal,3\\n263,60,Female,Cleveland,typical angina,150,240,FALSE,normal,171,FALSE,0.9,upsloping,0,normal,0\\n264,44,Male,Cleveland,non-anginal,120,226,FALSE,normal,169,FALSE,0,upsloping,0,normal,0\\n265,61,Male,Cleveland,asymptomatic,138,166,FALSE,lv hypertrophy,125,TRUE,3.6,flat,1,normal,4\\n266,42,Male,Cleveland,asymptomatic,136,315,FALSE,normal,125,TRUE,1.8,flat,0,fixed defect,2\\n267,52,Male,Cleveland,asymptomatic,128,204,TRUE,normal,156,TRUE,1,flat,0,,2\\n268,59,Male,Cleveland,non-anginal,126,218,TRUE,normal,134,FALSE,2.2,flat,1,fixed defect,2\\n269,40,Male,Cleveland,asymptomatic,152,223,FALSE,normal,181,FALSE,0,upsloping,0,reversable defect,1\\n270,42,Male,Cleveland,non-anginal,130,180,FALSE,normal,150,FALSE,0,upsloping,0,normal,0\\n271,61,Male,Cleveland,asymptomatic,140,207,FALSE,lv hypertrophy,138,TRUE,1.9,upsloping,1,reversable defect,1\\n272,66,Male,Cleveland,asymptomatic,160,228,FALSE,lv hypertrophy,138,FALSE,2.3,upsloping,0,fixed defect,0\\n273,46,Male,Cleveland,asymptomatic,140,311,FALSE,normal,120,TRUE,1.8,flat,2,reversable defect,2\\n274,71,Female,Cleveland,asymptomatic,112,149,FALSE,normal,125,FALSE,1.6,flat,0,normal,0\\n275,59,Male,Cleveland,typical angina,134,204,FALSE,normal,162,FALSE,0.8,upsloping,2,normal,1\\n276,64,Male,Cleveland,typical angina,170,227,FALSE,lv hypertrophy,155,FALSE,0.6,flat,0,reversable defect,0\\n277,66,Female,Cleveland,non-anginal,146,278,FALSE,lv hypertrophy,152,FALSE,0,flat,1,normal,0\\n278,39,Female,Cleveland,non-anginal,138,220,FALSE,normal,152,FALSE,0,flat,0,normal,0\\n279,57,Male,Cleveland,atypical angina,154,232,FALSE,lv hypertrophy,164,FALSE,0,upsloping,1,normal,1\\n280,58,Female,Cleveland,asymptomatic,130,197,FALSE,normal,131,FALSE,0.6,flat,0,normal,0\\n281,57,Male,Cleveland,asymptomatic,110,335,FALSE,normal,143,TRUE,3,flat,1,reversable defect,2\\n282,47,Male,Cleveland,non-anginal,130,253,FALSE,normal,179,FALSE,0,upsloping,0,normal,0\\n283,55,Female,Cleveland,asymptomatic,128,205,FALSE,st-t abnormality,130,TRUE,2,flat,1,reversable defect,3\\n284,35,Male,Cleveland,atypical angina,122,192,FALSE,normal,174,FALSE,0,upsloping,0,normal,0\\n285,61,Male,Cleveland,asymptomatic,148,203,FALSE,normal,161,FALSE,0,upsloping,1,reversable defect,2\\n286,58,Male,Cleveland,asymptomatic,114,318,FALSE,st-t abnormality,140,FALSE,4.4,downsloping,3,fixed defect,4\\n287,58,Female,Cleveland,asymptomatic,170,225,TRUE,lv hypertrophy,146,TRUE,2.8,flat,2,fixed defect,2\\n288,58,Male,Cleveland,atypical angina,125,220,FALSE,normal,144,FALSE,0.4,flat,,reversable defect,0\\n289,56,Male,Cleveland,atypical angina,130,221,FALSE,lv hypertrophy,163,FALSE,0,upsloping,0,reversable defect,0\\n290,56,Male,Cleveland,atypical angina,120,240,FALSE,normal,169,FALSE,0,downsloping,0,normal,0\\n291,67,Male,Cleveland,non-anginal,152,212,FALSE,lv hypertrophy,150,FALSE,0.8,flat,0,reversable defect,1\\n292,55,Female,Cleveland,atypical angina,132,342,FALSE,normal,166,FALSE,1.2,upsloping,0,normal,0\\n293,44,Male,Cleveland,asymptomatic,120,169,FALSE,normal,144,TRUE,2.8,downsloping,0,fixed defect,2\\n294,63,Male,Cleveland,asymptomatic,140,187,FALSE,lv hypertrophy,144,TRUE,4,upsloping,2,reversable defect,2\\n295,63,Female,Cleveland,asymptomatic,124,197,FALSE,normal,136,TRUE,0,flat,0,normal,1\\n296,41,Male,Cleveland,atypical angina,120,157,FALSE,normal,182,FALSE,0,upsloping,0,normal,0\\n297,59,Male,Cleveland,asymptomatic,164,176,TRUE,lv hypertrophy,90,FALSE,1,flat,2,fixed defect,3\\n298,57,Female,Cleveland,asymptomatic,140,241,FALSE,normal,123,TRUE,0.2,flat,0,reversable defect,1\\n299,45,Male,Cleveland,typical angina,110,264,FALSE,normal,132,FALSE,1.2,flat,0,reversable defect,1\\n300,68,Male,Cleveland,asymptomatic,144,193,TRUE,normal,141,FALSE,3.4,flat,2,reversable defect,2\\n301,57,Male,Cleveland,asymptomatic,130,131,FALSE,normal,115,TRUE,1.2,flat,1,reversable defect,3\\n302,57,Female,Cleveland,atypical angina,130,236,FALSE,lv hypertrophy,174,FALSE,0,flat,1,normal,1\\n303,38,Male,Cleveland,non-anginal,138,175,FALSE,normal,173,FALSE,0,upsloping,,normal,0\\n304,28,Male,Cleveland,atypical angina,130,132,FALSE,lv hypertrophy,185,FALSE,0,,,,0\\n305,29,Male,Hungary,atypical angina,120,243,FALSE,normal,160,FALSE,0,,,,0\\n306,29,Male,Hungary,atypical angina,140,,FALSE,normal,170,FALSE,0,,,,0\\n307,30,Female,Hungary,typical angina,170,237,FALSE,st-t abnormality,170,FALSE,0,,,fixed defect,0\\n308,31,Female,Hungary,atypical angina,100,219,FALSE,st-t abnormality,150,FALSE,0,,,,0\\n309,32,Female,Hungary,atypical angina,105,198,FALSE,normal,165,FALSE,0,,,,0\\n310,32,Male,Hungary,atypical angina,110,225,FALSE,normal,184,FALSE,0,,,,0\\n311,32,Male,Hungary,atypical angina,125,254,FALSE,normal,155,FALSE,0,,,,0\\n312,33,Male,Hungary,non-anginal,120,298,FALSE,normal,185,FALSE,0,,,,0\\n313,34,Female,Hungary,atypical angina,130,161,FALSE,normal,190,FALSE,0,,,,0\\n314,34,Male,Hungary,atypical angina,150,214,FALSE,st-t abnormality,168,FALSE,0,,,,0\\n315,34,Male,Hungary,atypical angina,98,220,FALSE,normal,150,FALSE,0,,,,0\\n316,35,Female,Hungary,typical angina,120,160,FALSE,st-t abnormality,185,FALSE,0,,,,0\\n317,35,Female,Hungary,asymptomatic,140,167,FALSE,normal,150,FALSE,0,,,,0\\n318,35,Male,Hungary,atypical angina,120,308,FALSE,lv hypertrophy,180,FALSE,0,,,,0\\n319,35,Male,Hungary,atypical angina,150,264,FALSE,normal,168,FALSE,0,,,,0\\n320,36,Male,Hungary,atypical angina,120,166,FALSE,normal,180,FALSE,0,,,,0\\n321,36,Male,Hungary,non-anginal,112,340,FALSE,normal,184,FALSE,1,flat,,normal,0\\n322,36,Male,Hungary,non-anginal,130,209,FALSE,normal,178,FALSE,0,,,,0\\n323,36,Male,Hungary,non-anginal,150,160,FALSE,normal,172,FALSE,0,,,,0\\n324,37,Female,Hungary,atypical angina,120,260,FALSE,normal,130,FALSE,0,,,,0\\n325,37,Female,Hungary,non-anginal,130,211,FALSE,normal,142,FALSE,0,,,,0\\n326,37,Female,Hungary,asymptomatic,130,173,FALSE,st-t abnormality,184,FALSE,0,,,,0\\n327,37,Male,Hungary,atypical angina,130,283,FALSE,st-t abnormality,98,FALSE,0,,,,0\\n328,37,Male,Hungary,non-anginal,130,194,FALSE,normal,150,FALSE,0,,,,0\\n329,37,Male,Hungary,asymptomatic,120,223,FALSE,normal,168,FALSE,0,,,normal,0\\n330,37,Male,Hungary,asymptomatic,130,315,FALSE,normal,158,FALSE,0,,,,0\\n331,38,Female,Hungary,atypical angina,120,275,,normal,129,FALSE,0,,,,0\\n332,38,Male,Hungary,atypical angina,140,297,FALSE,normal,150,FALSE,0,,,,0\\n333,38,Male,Hungary,non-anginal,145,292,FALSE,normal,130,FALSE,0,,,,0\\n334,39,Female,Hungary,non-anginal,110,182,FALSE,st-t abnormality,180,FALSE,0,,,,0\\n335,39,Male,Hungary,atypical angina,120,,FALSE,st-t abnormality,146,FALSE,2,upsloping,,,0\\n336,39,Male,Hungary,atypical angina,120,200,FALSE,normal,160,TRUE,1,flat,,,0\\n337,39,Male,Hungary,atypical angina,120,204,FALSE,normal,145,FALSE,0,,,,0\\n338,39,Male,Hungary,atypical angina,130,,FALSE,normal,120,FALSE,0,,,,0\\n339,39,Male,Hungary,atypical angina,190,241,FALSE,normal,106,FALSE,0,,,,0\\n340,39,Male,Hungary,non-anginal,120,339,FALSE,normal,170,FALSE,0,,,,0\\n341,39,Male,Hungary,non-anginal,160,147,TRUE,normal,160,FALSE,0,,,,0\\n342,39,Male,Hungary,asymptomatic,110,273,FALSE,normal,132,FALSE,0,,,,0\\n343,39,Male,Hungary,asymptomatic,130,307,FALSE,normal,140,FALSE,0,,,,0\\n344,40,Male,Hungary,atypical angina,130,275,FALSE,normal,150,FALSE,0,,,,0\\n345,40,Male,Hungary,atypical angina,140,289,FALSE,normal,172,FALSE,0,,,,0\\n346,40,Male,Hungary,non-anginal,130,215,FALSE,normal,138,FALSE,0,,,,0\\n347,40,Male,Hungary,non-anginal,130,281,FALSE,normal,167,FALSE,0,,,,0\\n348,40,Male,Hungary,non-anginal,140,,FALSE,normal,188,FALSE,0,,,,0\\n349,41,Female,Hungary,atypical angina,110,250,FALSE,st-t abnormality,142,FALSE,0,,,,0\\n350,41,Female,Hungary,atypical angina,125,184,FALSE,normal,180,FALSE,0,,,,0\\n351,41,Female,Hungary,atypical angina,130,245,FALSE,normal,150,FALSE,0,,,,0\\n352,41,Male,Hungary,atypical angina,120,291,FALSE,st-t abnormality,160,FALSE,0,,,,0\\n353,41,Male,Hungary,atypical angina,120,295,FALSE,normal,170,FALSE,0,,,,0\\n354,41,Male,Hungary,atypical angina,125,269,FALSE,normal,144,FALSE,0,,,,0\\n355,41,Male,Hungary,asymptomatic,112,250,FALSE,normal,142,FALSE,0,,,,0\\n356,42,Female,Hungary,non-anginal,115,211,FALSE,st-t abnormality,137,FALSE,0,,,,0\\n357,42,Male,Hungary,atypical angina,120,196,FALSE,normal,150,FALSE,0,,,,0\\n358,42,Male,Hungary,atypical angina,120,198,FALSE,normal,155,FALSE,0,,,,0\\n359,42,Male,Hungary,atypical angina,150,268,FALSE,normal,136,FALSE,0,,,,0\\n360,42,Male,Hungary,non-anginal,120,228,FALSE,normal,152,TRUE,1.5,flat,,,0\\n361,42,Male,Hungary,non-anginal,160,147,FALSE,normal,146,FALSE,0,,,,0\\n362,42,Male,Hungary,asymptomatic,140,358,FALSE,normal,170,FALSE,0,,,,0\\n363,43,Female,Hungary,typical angina,100,223,FALSE,normal,142,FALSE,0,,,,0\\n364,43,Female,Hungary,atypical angina,120,201,FALSE,normal,165,FALSE,0,,,,0\\n365,43,Female,Hungary,atypical angina,120,215,FALSE,st-t abnormality,175,FALSE,0,,,,0\\n366,43,Female,Hungary,atypical angina,120,249,FALSE,st-t abnormality,176,FALSE,0,,,,0\\n367,43,Female,Hungary,atypical angina,120,266,FALSE,normal,118,FALSE,0,,,,0\\n368,43,Female,Hungary,atypical angina,150,186,FALSE,normal,154,FALSE,0,,,,0\\n369,43,Female,Hungary,non-anginal,150,,FALSE,normal,175,FALSE,0,,,normal,0\\n370,43,Male,Hungary,atypical angina,142,207,FALSE,normal,138,FALSE,0,,,,0\\n371,44,Female,Hungary,asymptomatic,120,218,FALSE,st-t abnormality,115,FALSE,0,,,,0\\n372,44,Male,Hungary,atypical angina,120,184,FALSE,normal,142,FALSE,1,flat,,,0\\n373,44,Male,Hungary,atypical angina,130,215,FALSE,normal,135,FALSE,0,,,,0\\n374,44,Male,Hungary,asymptomatic,150,412,FALSE,normal,170,FALSE,0,,,,0\\n375,45,Female,Hungary,atypical angina,130,237,FALSE,normal,170,FALSE,0,,,,0\\n376,45,Female,Hungary,atypical angina,180,,FALSE,normal,180,FALSE,0,,,,0\\n377,45,Female,Hungary,asymptomatic,132,297,FALSE,normal,144,FALSE,0,,,,0\\n378,45,Male,Hungary,atypical angina,140,224,TRUE,normal,122,FALSE,0,,,,0\\n379,45,Male,Hungary,non-anginal,135,,FALSE,normal,110,FALSE,0,,,,0\\n380,45,Male,Hungary,asymptomatic,120,225,FALSE,normal,140,FALSE,0,,,,0\\n381,45,Male,Hungary,asymptomatic,140,224,FALSE,normal,144,FALSE,0,,,,0\\n382,46,Female,Hungary,asymptomatic,130,238,FALSE,normal,90,FALSE,0,,,,0\\n383,46,Male,Hungary,atypical angina,140,275,FALSE,normal,165,TRUE,0,,,,0\\n384,46,Male,Hungary,non-anginal,120,230,FALSE,normal,150,FALSE,0,,,,0\\n385,46,Male,Hungary,non-anginal,150,163,,normal,116,FALSE,0,,,,0\\n386,46,Male,Hungary,asymptomatic,110,238,FALSE,st-t abnormality,140,TRUE,1,flat,,normal,0\\n387,46,Male,Hungary,asymptomatic,110,240,FALSE,st-t abnormality,140,FALSE,0,,,normal,0\\n388,46,Male,Hungary,asymptomatic,180,280,FALSE,st-t abnormality,120,FALSE,0,,,,0\\n389,47,Female,Hungary,atypical angina,140,257,FALSE,normal,135,FALSE,1,upsloping,,,0\\n390,47,Female,Hungary,non-anginal,130,,FALSE,normal,145,FALSE,2,flat,,,0\\n391,47,Male,Hungary,typical angina,110,249,FALSE,normal,150,FALSE,0,,,,0\\n392,47,Male,Hungary,atypical angina,160,263,FALSE,normal,174,FALSE,0,,,,0\\n393,47,Male,Hungary,asymptomatic,140,276,TRUE,normal,125,TRUE,0,,,,0\\n394,48,Female,Hungary,atypical angina,,308,FALSE,st-t abnormality,,,2,upsloping,,,0\\n395,48,Female,Hungary,atypical angina,120,,TRUE,st-t abnormality,148,FALSE,0,,,,0\\n396,48,Female,Hungary,atypical angina,120,284,FALSE,normal,120,FALSE,0,,,,0\\n397,48,Female,Hungary,non-anginal,120,195,FALSE,normal,125,FALSE,0,,,,0\\n398,48,Female,Hungary,asymptomatic,108,163,FALSE,normal,175,FALSE,2,upsloping,,,0\\n399,48,Female,Hungary,asymptomatic,120,254,FALSE,st-t abnormality,110,FALSE,0,,,,0\\n400,48,Female,Hungary,asymptomatic,150,227,FALSE,normal,130,TRUE,1,flat,,,0\\n401,48,Male,Hungary,atypical angina,100,,FALSE,normal,100,FALSE,0,,,,0\\n402,48,Male,Hungary,atypical angina,130,245,FALSE,normal,160,FALSE,0,,,,0\\n403,48,Male,Hungary,atypical angina,140,238,FALSE,normal,118,FALSE,0,,,,0\\n404,48,Male,Hungary,non-anginal,110,211,FALSE,normal,138,FALSE,0,,,fixed defect,0\\n405,49,Female,Hungary,atypical angina,110,,FALSE,normal,160,FALSE,0,,,,0\\n406,49,Female,Hungary,atypical angina,110,,FALSE,normal,160,FALSE,0,,,,0\\n407,49,Female,Hungary,atypical angina,124,201,FALSE,normal,164,FALSE,0,,,,0\\n408,49,Female,Hungary,non-anginal,130,207,FALSE,st-t abnormality,135,FALSE,0,,,,0\\n409,49,Male,Hungary,atypical angina,100,253,FALSE,normal,174,FALSE,0,,,,0\\n410,49,Male,Hungary,non-anginal,140,187,FALSE,normal,172,FALSE,0,,,,0\\n411,49,Male,Hungary,asymptomatic,120,297,,normal,132,FALSE,1,flat,,,0\\n412,49,Male,Hungary,asymptomatic,140,,FALSE,normal,130,FALSE,0,,,,0\\n413,50,Female,Hungary,atypical angina,110,202,FALSE,normal,145,FALSE,0,,,,0\\n414,50,Female,Hungary,asymptomatic,120,328,FALSE,normal,110,TRUE,1,flat,,,0\\n415,50,Male,Hungary,atypical angina,120,168,FALSE,normal,160,FALSE,0,,0,,0\\n416,50,Male,Hungary,atypical angina,140,216,FALSE,normal,170,FALSE,0,,,normal,0\\n417,50,Male,Hungary,atypical angina,170,209,FALSE,st-t abnormality,116,FALSE,0,,,,0\\n418,50,Male,Hungary,asymptomatic,140,129,FALSE,normal,135,FALSE,0,,,,0\\n419,50,Male,Hungary,asymptomatic,150,215,FALSE,normal,140,TRUE,0,,,,0\\n420,51,Female,Hungary,atypical angina,160,194,FALSE,normal,170,FALSE,0,,,,0\\n421,51,Female,Hungary,non-anginal,110,190,FALSE,normal,120,FALSE,0,,,,0\\n422,51,Female,Hungary,non-anginal,130,220,FALSE,normal,160,TRUE,2,upsloping,,,0\\n423,51,Female,Hungary,non-anginal,150,200,FALSE,normal,120,FALSE,0.5,upsloping,,,0\\n424,51,Male,Hungary,atypical angina,125,188,FALSE,normal,145,FALSE,0,,,,0\\n425,51,Male,Hungary,atypical angina,130,224,FALSE,normal,150,FALSE,0,,,,0\\n426,51,Male,Hungary,asymptomatic,130,179,FALSE,normal,100,FALSE,0,,,reversable defect,0\\n427,52,Female,Hungary,atypical angina,120,210,FALSE,normal,148,FALSE,0,,,,0\\n428,52,Female,Hungary,atypical angina,140,,FALSE,normal,140,FALSE,0,,,,0\\n429,52,Female,Hungary,non-anginal,125,272,FALSE,normal,139,FALSE,0,,,,0\\n430,52,Female,Hungary,asymptomatic,130,180,FALSE,normal,140,TRUE,1.5,flat,,,0\\n431,52,Male,Hungary,atypical angina,120,284,FALSE,normal,118,FALSE,0,,,,0\\n432,52,Male,Hungary,atypical angina,140,100,FALSE,normal,138,TRUE,0,,,,0\\n433,52,Male,Hungary,atypical angina,160,196,FALSE,normal,165,FALSE,0,,,,0\\n434,52,Male,Hungary,non-anginal,140,259,FALSE,st-t abnormality,170,FALSE,0,,,,0\\n435,53,Female,Hungary,atypical angina,113,468,,normal,127,FALSE,0,,,,0\\n436,53,Female,Hungary,atypical angina,140,216,FALSE,normal,142,TRUE,2,flat,,,0\\n437,53,Female,Hungary,non-anginal,120,274,FALSE,normal,130,FALSE,0,,,,0\\n438,53,Male,Hungary,atypical angina,120,,FALSE,normal,132,FALSE,0,,,,0\\n439,53,Male,Hungary,atypical angina,140,320,FALSE,normal,162,FALSE,0,,,,0\\n440,53,Male,Hungary,non-anginal,120,195,FALSE,normal,140,FALSE,0,,,,0\\n441,53,Male,Hungary,asymptomatic,124,260,FALSE,st-t abnormality,112,TRUE,3,flat,,,0\\n442,53,Male,Hungary,asymptomatic,130,182,FALSE,normal,148,FALSE,0,,,,0\\n443,53,Male,Hungary,asymptomatic,140,243,FALSE,normal,155,FALSE,0,,,,0\\n444,54,Female,Hungary,atypical angina,120,221,FALSE,normal,138,FALSE,1,upsloping,,,0\\n445,54,Female,Hungary,atypical angina,120,230,TRUE,normal,140,FALSE,0,,,,0\\n446,54,Female,Hungary,atypical angina,120,273,FALSE,normal,150,FALSE,1.5,flat,,,0\\n447,54,Female,Hungary,atypical angina,130,253,FALSE,st-t abnormality,155,FALSE,0,,,,0\\n448,54,Female,Hungary,atypical angina,140,309,,st-t abnormality,140,FALSE,0,,,,0\\n449,54,Female,Hungary,atypical angina,150,230,FALSE,normal,130,FALSE,0,,,,0\\n450,54,Female,Hungary,atypical angina,160,312,FALSE,normal,130,FALSE,0,,,,0\\n451,54,Male,Hungary,typical angina,120,171,FALSE,normal,137,FALSE,2,upsloping,,,0\\n452,54,Male,Hungary,atypical angina,110,208,FALSE,normal,142,FALSE,0,,,,0\\n453,54,Male,Hungary,atypical angina,120,238,FALSE,normal,154,FALSE,0,,,,0\\n454,54,Male,Hungary,atypical angina,120,246,FALSE,normal,110,FALSE,0,,,,0\\n455,54,Male,Hungary,atypical angina,160,195,FALSE,st-t abnormality,130,FALSE,1,upsloping,,,0\\n456,54,Male,Hungary,atypical angina,160,305,FALSE,normal,175,FALSE,0,,,,0\\n457,54,Male,Hungary,non-anginal,120,217,FALSE,normal,137,FALSE,0,,,,0\\n458,54,Male,Hungary,non-anginal,150,,FALSE,normal,122,FALSE,0,,,,0\\n459,54,Male,Hungary,asymptomatic,150,365,FALSE,st-t abnormality,134,FALSE,1,upsloping,,,0\\n460,55,Female,Hungary,atypical angina,110,344,FALSE,st-t abnormality,160,FALSE,0,,,,0\\n461,55,Female,Hungary,atypical angina,122,320,FALSE,normal,155,FALSE,0,,,,0\\n462,55,Female,Hungary,atypical angina,130,394,FALSE,lv hypertrophy,150,FALSE,0,,,,0\\n463,55,Male,Hungary,atypical angina,120,256,TRUE,normal,137,FALSE,0,,,reversable defect,0\\n464,55,Male,Hungary,atypical angina,140,196,FALSE,normal,150,FALSE,0,,,reversable defect,0\\n465,55,Male,Hungary,atypical angina,145,326,FALSE,normal,155,FALSE,0,,,,0\\n466,55,Male,Hungary,non-anginal,110,277,FALSE,normal,160,FALSE,0,,,,0\\n467,55,Male,Hungary,non-anginal,120,220,FALSE,lv hypertrophy,134,FALSE,0,,,,0\\n468,55,Male,Hungary,asymptomatic,120,270,FALSE,normal,140,FALSE,0,,,,0\\n469,55,Male,Hungary,asymptomatic,140,229,FALSE,normal,110,TRUE,0.5,flat,,,0\\n470,56,Female,Hungary,non-anginal,130,219,,st-t abnormality,164,FALSE,0,,,reversable defect,0\\n471,56,Male,Hungary,atypical angina,130,184,FALSE,normal,100,FALSE,0,,,,0\\n472,56,Male,Hungary,non-anginal,130,,FALSE,normal,114,FALSE,0,,,,0\\n473,56,Male,Hungary,non-anginal,130,276,FALSE,normal,128,TRUE,1,upsloping,,fixed defect,0\\n474,56,Male,Hungary,asymptomatic,120,85,FALSE,normal,140,FALSE,0,,,,0\\n475,57,Female,Hungary,typical angina,130,308,FALSE,normal,98,FALSE,1,flat,,,0\\n476,57,Female,Hungary,asymptomatic,180,347,FALSE,st-t abnormality,126,TRUE,0.8,flat,,,0\\n477,57,Male,Hungary,atypical angina,140,260,TRUE,normal,140,FALSE,0,,,fixed defect,0\\n478,58,Male,Hungary,atypical angina,130,230,FALSE,normal,150,FALSE,0,,,,0\\n479,58,Male,Hungary,atypical angina,130,251,FALSE,normal,110,FALSE,0,,,,0\\n480,58,Male,Hungary,non-anginal,140,179,FALSE,normal,160,FALSE,0,,,,0\\n481,58,Male,Hungary,asymptomatic,135,222,FALSE,normal,100,FALSE,0,,,,0\\n482,59,Female,Hungary,atypical angina,130,188,FALSE,normal,124,FALSE,1,flat,,,0\\n483,59,Male,Hungary,atypical angina,140,287,FALSE,normal,150,FALSE,0,,,,0\\n484,59,Male,Hungary,non-anginal,130,318,FALSE,normal,120,TRUE,1,flat,,normal,0\\n485,59,Male,Hungary,non-anginal,180,213,FALSE,normal,100,FALSE,0,,,,0\\n486,59,Male,Hungary,asymptomatic,140,,FALSE,normal,140,FALSE,0,,0,,0\\n487,60,Male,Hungary,non-anginal,120,246,FALSE,lv hypertrophy,135,FALSE,0,,,,0\\n488,61,Female,Hungary,asymptomatic,130,294,FALSE,st-t abnormality,120,TRUE,1,flat,,,0\\n489,61,Male,Hungary,asymptomatic,125,292,FALSE,st-t abnormality,115,TRUE,0,,,,0\\n490,62,Female,Hungary,typical angina,160,193,FALSE,normal,116,FALSE,0,,,,0\\n491,62,Male,Hungary,atypical angina,140,271,FALSE,normal,152,FALSE,1,upsloping,,,0\\n492,31,Male,Hungary,asymptomatic,120,270,FALSE,normal,153,TRUE,1.5,flat,,,1\\n493,33,Female,Hungary,asymptomatic,100,246,FALSE,normal,150,TRUE,1,flat,,,1\\n494,34,Male,Hungary,typical angina,140,156,FALSE,normal,180,FALSE,0,,,,1\\n495,35,Male,Hungary,atypical angina,110,257,FALSE,normal,140,FALSE,0,,,,1\\n496,36,Male,Hungary,atypical angina,120,267,FALSE,normal,160,FALSE,3,flat,,,1\\n497,37,Male,Hungary,asymptomatic,140,207,FALSE,normal,130,TRUE,1.5,flat,,,1\\n498,38,Male,Hungary,asymptomatic,110,196,FALSE,normal,166,FALSE,0,,,,1\\n499,38,Male,Hungary,asymptomatic,120,282,FALSE,normal,170,FALSE,0,,,,1\\n500,38,Male,Hungary,asymptomatic,92,117,FALSE,normal,134,TRUE,2.5,flat,,,1\\n501,40,Male,Hungary,asymptomatic,120,466,,normal,152,TRUE,1,flat,,fixed defect,1\\n502,41,Male,Hungary,asymptomatic,110,289,FALSE,normal,170,FALSE,0,,,fixed defect,1\\n503,41,Male,Hungary,asymptomatic,120,237,,normal,138,TRUE,1,flat,,,1\\n504,43,Male,Hungary,asymptomatic,150,247,FALSE,normal,130,TRUE,2,flat,,,1\\n505,46,Male,Hungary,asymptomatic,110,202,FALSE,normal,150,TRUE,0,,,,1\\n506,46,Male,Hungary,asymptomatic,118,186,FALSE,normal,124,FALSE,0,,,reversable defect,1\\n507,46,Male,Hungary,asymptomatic,120,277,FALSE,normal,125,TRUE,1,flat,,,1\\n508,47,Male,Hungary,non-anginal,140,193,FALSE,normal,145,TRUE,1,flat,,,1\\n509,47,Male,Hungary,asymptomatic,150,226,FALSE,normal,98,TRUE,1.5,flat,0,reversable defect,1\\n510,48,Male,Hungary,asymptomatic,106,263,TRUE,normal,110,FALSE,0,,,,1\\n511,48,Male,Hungary,asymptomatic,120,260,FALSE,normal,115,FALSE,2,flat,,,1\\n512,48,Male,Hungary,asymptomatic,160,268,FALSE,normal,103,TRUE,1,flat,,,1\\n513,49,Female,Hungary,non-anginal,160,180,FALSE,normal,156,FALSE,1,flat,,,1\\n514,49,Male,Hungary,non-anginal,115,265,FALSE,normal,175,FALSE,0,,,,1\\n515,49,Male,Hungary,asymptomatic,130,206,FALSE,normal,170,FALSE,0,,,,1\\n516,50,Female,Hungary,non-anginal,140,288,FALSE,normal,140,TRUE,0,,,reversable defect,1\\n517,50,Male,Hungary,asymptomatic,145,264,FALSE,normal,150,FALSE,0,,,,1\\n518,51,Female,Hungary,asymptomatic,160,303,FALSE,normal,150,TRUE,1,flat,,,1\\n519,52,Male,Hungary,asymptomatic,130,225,FALSE,normal,120,TRUE,2,flat,,,1\\n520,54,Male,Hungary,asymptomatic,125,216,FALSE,normal,140,FALSE,0,,,,1\\n521,54,Male,Hungary,asymptomatic,125,224,FALSE,normal,122,FALSE,2,flat,,,1\\n522,55,Male,Hungary,asymptomatic,140,201,FALSE,normal,130,TRUE,3,flat,,,1\\n523,57,Male,Hungary,atypical angina,140,265,FALSE,st-t abnormality,145,TRUE,1,flat,,,1\\n524,58,Male,Hungary,non-anginal,130,213,FALSE,st-t abnormality,140,FALSE,0,,,fixed defect,1\\n525,59,Female,Hungary,asymptomatic,130,338,TRUE,st-t abnormality,130,TRUE,1.5,flat,,,1\\n526,60,Male,Hungary,asymptomatic,100,248,FALSE,normal,125,FALSE,1,flat,,,1\\n527,63,Male,Hungary,asymptomatic,150,223,FALSE,normal,115,FALSE,0,,,,1\\n528,65,Male,Hungary,asymptomatic,140,306,TRUE,normal,87,TRUE,1.5,flat,,,1\\n529,32,Male,Hungary,asymptomatic,118,529,FALSE,normal,130,FALSE,0,,,,1\\n530,38,Male,Hungary,asymptomatic,110,,FALSE,normal,150,TRUE,1,flat,,,1\\n531,39,Male,Hungary,asymptomatic,110,280,FALSE,normal,150,FALSE,0,,,fixed defect,1\\n532,40,Female,Hungary,asymptomatic,150,392,FALSE,normal,130,FALSE,2,flat,,fixed defect,1\\n533,43,Male,Hungary,typical angina,120,291,FALSE,st-t abnormality,155,FALSE,0,,,,1\\n534,45,Male,Hungary,asymptomatic,130,219,FALSE,st-t abnormality,130,TRUE,1,flat,,,1\\n535,46,Male,Hungary,asymptomatic,120,231,FALSE,normal,115,TRUE,0,,,,1\\n536,46,Male,Hungary,asymptomatic,130,222,FALSE,normal,112,FALSE,0,,,,1\\n537,48,Male,Hungary,asymptomatic,122,275,TRUE,st-t abnormality,150,TRUE,2,downsloping,,,1\\n538,48,Male,Hungary,asymptomatic,160,193,FALSE,normal,102,TRUE,3,flat,,,1\\n539,48,Male,Hungary,asymptomatic,160,329,FALSE,normal,92,TRUE,1.5,flat,,,1\\n540,48,Male,Hungary,asymptomatic,160,355,FALSE,normal,99,TRUE,2,flat,,,1\\n541,50,Male,Hungary,asymptomatic,130,233,FALSE,normal,121,TRUE,2,flat,,reversable defect,1\\n542,52,Male,Hungary,asymptomatic,120,182,FALSE,normal,150,FALSE,0,,,,1\\n543,52,Male,Hungary,asymptomatic,170,,FALSE,normal,126,TRUE,1.5,flat,,,1\\n544,53,Male,Hungary,asymptomatic,120,246,FALSE,normal,116,TRUE,0,,,,1\\n545,54,Male,Hungary,non-anginal,120,237,FALSE,normal,150,TRUE,1.5,,,reversable defect,1\\n546,54,Male,Hungary,asymptomatic,130,242,FALSE,normal,91,TRUE,1,flat,,,1\\n547,54,Male,Hungary,asymptomatic,130,603,TRUE,normal,125,TRUE,1,flat,,,1\\n548,54,Male,Hungary,asymptomatic,140,,FALSE,normal,118,TRUE,0,,,,1\\n549,54,Male,Hungary,asymptomatic,200,198,FALSE,normal,142,TRUE,2,flat,,,1\\n550,55,Male,Hungary,asymptomatic,140,268,FALSE,normal,128,TRUE,1.5,flat,,,1\\n551,56,Male,Hungary,asymptomatic,150,213,TRUE,normal,125,TRUE,1,flat,,,1\\n552,57,Male,Hungary,asymptomatic,150,255,FALSE,normal,92,TRUE,3,flat,,,1\\n553,58,Male,Hungary,non-anginal,160,211,TRUE,st-t abnormality,92,FALSE,0,,,,1\\n554,58,Male,Hungary,asymptomatic,130,263,FALSE,normal,140,TRUE,2,flat,,,1\\n555,41,Male,Hungary,asymptomatic,130,172,FALSE,st-t abnormality,130,FALSE,2,flat,,,1\\n556,43,Male,Hungary,asymptomatic,120,175,FALSE,normal,120,TRUE,1,flat,,reversable defect,1\\n557,44,Male,Hungary,atypical angina,150,288,FALSE,normal,150,TRUE,3,flat,,,1\\n558,44,Male,Hungary,asymptomatic,130,290,FALSE,normal,100,TRUE,2,flat,,,1\\n559,46,Male,Hungary,typical angina,140,272,TRUE,normal,175,FALSE,2,flat,,,1\\n560,47,Female,Hungary,non-anginal,135,248,TRUE,normal,170,FALSE,0,,,,1\\n561,48,Female,Hungary,asymptomatic,138,214,FALSE,normal,108,TRUE,1.5,flat,,,1\\n562,49,Male,Hungary,asymptomatic,130,341,FALSE,normal,120,TRUE,1,flat,,,1\\n563,49,Male,Hungary,asymptomatic,140,234,FALSE,normal,140,TRUE,1,flat,,,1\\n564,51,Male,Hungary,non-anginal,135,160,FALSE,normal,150,FALSE,2,flat,,,1\\n565,52,Male,Hungary,asymptomatic,112,342,FALSE,st-t abnormality,96,TRUE,1,flat,,,1\\n566,52,Male,Hungary,asymptomatic,130,298,FALSE,normal,110,TRUE,1,flat,,,1\\n567,52,Male,Hungary,asymptomatic,140,404,FALSE,normal,124,TRUE,2,flat,,,1\\n568,52,Male,Hungary,asymptomatic,160,246,FALSE,st-t abnormality,82,TRUE,4,flat,,,1\\n569,53,Male,Hungary,non-anginal,145,518,FALSE,normal,130,FALSE,0,,,,1\\n570,53,Male,Hungary,asymptomatic,180,285,FALSE,st-t abnormality,120,TRUE,1.5,flat,,,1\\n571,54,Male,Hungary,asymptomatic,140,216,FALSE,normal,105,FALSE,1.5,flat,,,1\\n572,55,Male,Hungary,typical angina,140,295,FALSE,,136,FALSE,0,,,,1\\n573,55,Male,Hungary,atypical angina,160,292,TRUE,normal,143,TRUE,2,flat,,,1\\n574,55,Male,Hungary,asymptomatic,145,248,FALSE,normal,96,TRUE,2,flat,,,1\\n575,56,Female,Hungary,atypical angina,120,279,FALSE,normal,150,FALSE,1,flat,,,1\\n576,56,Male,Hungary,asymptomatic,150,230,FALSE,st-t abnormality,124,TRUE,1.5,flat,,,1\\n577,56,Male,Hungary,asymptomatic,170,388,FALSE,st-t abnormality,122,TRUE,2,flat,,,1\\n578,58,Male,Hungary,atypical angina,136,164,FALSE,st-t abnormality,99,TRUE,2,flat,,,1\\n579,59,Male,Hungary,asymptomatic,130,,FALSE,normal,125,FALSE,0,,,,1\\n580,59,Male,Hungary,asymptomatic,140,264,TRUE,lv hypertrophy,119,TRUE,0,,,,1\\n581,65,Male,Hungary,asymptomatic,170,263,TRUE,normal,112,TRUE,2,flat,,,1\\n582,66,Male,Hungary,asymptomatic,140,,FALSE,normal,94,TRUE,1,flat,,,1\\n583,41,Male,Hungary,asymptomatic,120,336,FALSE,normal,118,TRUE,3,flat,,,1\\n584,43,Male,Hungary,asymptomatic,140,288,FALSE,normal,135,TRUE,2,flat,,,1\\n585,44,Male,Hungary,asymptomatic,135,491,FALSE,normal,135,FALSE,0,,,,1\\n586,47,Female,Hungary,asymptomatic,120,205,FALSE,normal,98,TRUE,2,flat,,fixed defect,1\\n587,47,Male,Hungary,asymptomatic,160,291,FALSE,st-t abnormality,158,TRUE,3,flat,,,1\\n588,49,Male,Hungary,asymptomatic,128,212,FALSE,normal,96,TRUE,0,,,,1\\n589,49,Male,Hungary,asymptomatic,150,222,FALSE,normal,122,FALSE,2,flat,,,1\\n590,50,Male,Hungary,asymptomatic,140,231,FALSE,st-t abnormality,140,TRUE,5,flat,,,1\\n591,50,Male,Hungary,asymptomatic,140,341,FALSE,st-t abnormality,125,TRUE,2.5,flat,,,1\\n592,52,Male,Hungary,asymptomatic,140,266,FALSE,normal,134,TRUE,2,flat,,,1\\n593,52,Male,Hungary,asymptomatic,160,331,FALSE,normal,94,TRUE,2.5,,,,1\\n594,54,Female,Hungary,non-anginal,130,294,FALSE,st-t abnormality,100,TRUE,0,flat,,,1\\n595,56,Male,Hungary,asymptomatic,155,342,TRUE,normal,150,TRUE,3,flat,,,1\\n596,58,Female,Hungary,atypical angina,180,393,FALSE,normal,110,TRUE,1,flat,,reversable defect,1\\n597,65,Male,Hungary,asymptomatic,130,275,FALSE,st-t abnormality,115,TRUE,1,flat,,,1\\n598,32,Male,Switzerland,typical angina,95,0,,normal,127,FALSE,0.7,upsloping,,,1\\n599,34,Male,Switzerland,asymptomatic,115,0,,,154,FALSE,0.2,upsloping,,,1\\n600,35,Male,Switzerland,asymptomatic,,0,,normal,130,TRUE,,,,reversable defect,3\\n601,36,Male,Switzerland,asymptomatic,110,0,,normal,125,TRUE,1,flat,,fixed defect,1\\n602,38,Female,Switzerland,asymptomatic,105,0,,normal,166,FALSE,2.8,upsloping,,,2\\n603,38,Female,Switzerland,asymptomatic,110,0,FALSE,normal,156,FALSE,0,flat,,normal,1\\n604,38,Male,Switzerland,non-anginal,100,0,,normal,179,FALSE,-1.1,upsloping,,,0\\n605,38,Male,Switzerland,non-anginal,115,0,FALSE,normal,128,TRUE,0,flat,,reversable defect,1\\n606,38,Male,Switzerland,asymptomatic,135,0,,normal,150,FALSE,0,,,normal,2\\n607,38,Male,Switzerland,asymptomatic,150,0,,normal,120,TRUE,,,,normal,1\\n608,40,Male,Switzerland,asymptomatic,95,0,,st-t abnormality,144,FALSE,0,upsloping,,,2\\n609,41,Male,Switzerland,asymptomatic,125,0,,normal,176,FALSE,1.6,upsloping,,,2\\n610,42,Male,Switzerland,asymptomatic,105,0,,normal,128,TRUE,-1.5,downsloping,,,1\\n611,42,Male,Switzerland,asymptomatic,145,0,FALSE,normal,99,TRUE,0,flat,,,2\\n612,43,Male,Switzerland,asymptomatic,100,0,,normal,122,FALSE,1.5,downsloping,,,3\\n613,43,Male,Switzerland,asymptomatic,115,0,FALSE,normal,145,TRUE,2,flat,,reversable defect,4\\n614,43,Male,Switzerland,asymptomatic,140,0,FALSE,st-t abnormality,140,TRUE,0.5,upsloping,,reversable defect,2\\n615,45,Male,Switzerland,non-anginal,110,0,,normal,138,FALSE,-0.1,upsloping,,,0\\n616,46,Male,Switzerland,asymptomatic,100,0,,st-t abnormality,133,FALSE,-2.6,flat,,,1\\n617,46,Male,Switzerland,asymptomatic,115,0,FALSE,normal,113,TRUE,1.5,flat,,reversable defect,1\\n618,47,Male,Switzerland,non-anginal,110,0,,normal,120,TRUE,0,,,normal,1\\n619,47,Male,Switzerland,non-anginal,155,0,FALSE,normal,118,TRUE,1,flat,,normal,3\\n620,47,Male,Switzerland,asymptomatic,110,0,,st-t abnormality,149,FALSE,2.1,upsloping,,,2\\n621,47,Male,Switzerland,asymptomatic,160,0,FALSE,normal,124,TRUE,0,flat,,reversable defect,1\\n622,48,Male,Switzerland,asymptomatic,115,0,,normal,128,FALSE,0,flat,,fixed defect,2\\n623,50,Female,Switzerland,asymptomatic,160,0,,normal,110,FALSE,0,,,normal,1\\n624,50,Male,Switzerland,asymptomatic,115,0,FALSE,normal,120,TRUE,0.5,flat,,fixed defect,3\\n625,50,Male,Switzerland,asymptomatic,120,0,FALSE,st-t abnormality,156,TRUE,0,upsloping,,fixed defect,3\\n626,50,Male,Switzerland,asymptomatic,145,0,,normal,139,TRUE,0.7,flat,,,1\\n627,51,Female,Switzerland,asymptomatic,120,0,,normal,127,TRUE,1.5,upsloping,,,2\\n628,51,Male,Switzerland,asymptomatic,110,0,,normal,92,FALSE,0,flat,,,4\\n629,51,Male,Switzerland,asymptomatic,120,0,TRUE,normal,104,FALSE,0,flat,,normal,3\\n630,51,Male,Switzerland,asymptomatic,130,0,,normal,170,FALSE,-0.7,upsloping,,,2\\n631,51,Male,Switzerland,asymptomatic,130,0,,st-t abnormality,163,FALSE,0,,,reversable defect,1\\n632,51,Male,Switzerland,asymptomatic,140,0,FALSE,normal,60,FALSE,0,flat,,normal,2\\n633,51,Male,Switzerland,asymptomatic,95,0,,normal,126,FALSE,2.2,flat,,,2\\n634,52,Male,Switzerland,asymptomatic,130,0,,normal,120,FALSE,0,flat,,reversable defect,2\\n635,52,Male,Switzerland,asymptomatic,135,0,,normal,128,TRUE,2,flat,,reversable defect,2\\n636,52,Male,Switzerland,asymptomatic,165,0,,normal,122,TRUE,1,upsloping,,reversable defect,2\\n637,52,Male,Switzerland,asymptomatic,95,0,,normal,82,TRUE,,,,,2\\n638,53,Male,Switzerland,atypical angina,120,0,FALSE,normal,95,FALSE,0,flat,,normal,3\\n639,53,Male,Switzerland,atypical angina,130,0,,st-t abnormality,120,FALSE,0.7,downsloping,,,0\\n640,53,Male,Switzerland,non-anginal,105,0,FALSE,normal,115,FALSE,0,flat,,reversable defect,1\\n641,53,Male,Switzerland,non-anginal,160,0,,lv hypertrophy,122,TRUE,0,,,reversable defect,1\\n642,53,Male,Switzerland,asymptomatic,120,0,,normal,120,FALSE,0,flat,,reversable defect,1\\n643,53,Male,Switzerland,asymptomatic,125,0,,normal,120,FALSE,1.5,upsloping,,,4\\n644,53,Male,Switzerland,asymptomatic,130,0,FALSE,lv hypertrophy,135,TRUE,1,flat,,reversable defect,2\\n645,53,Male,Switzerland,asymptomatic,80,0,,normal,141,TRUE,2,downsloping,,,0\\n646,54,Male,Switzerland,asymptomatic,120,0,FALSE,normal,155,FALSE,0,flat,,reversable defect,2\\n647,54,Male,Switzerland,asymptomatic,130,0,,normal,110,TRUE,3,flat,,reversable defect,3\\n648,54,Male,Switzerland,asymptomatic,180,0,,normal,150,FALSE,1.5,flat,,reversable defect,1\\n649,55,Male,Switzerland,atypical angina,140,0,,st-t abnormality,150,FALSE,0.2,upsloping,,,0\\n650,55,Male,Switzerland,asymptomatic,115,0,,normal,155,FALSE,0.1,flat,,,1\\n651,55,Male,Switzerland,asymptomatic,120,0,FALSE,st-t abnormality,92,FALSE,0.3,upsloping,,reversable defect,4\\n652,55,Male,Switzerland,asymptomatic,140,0,FALSE,normal,83,FALSE,0,flat,,reversable defect,2\\n653,56,Male,Switzerland,non-anginal,120,0,FALSE,normal,97,FALSE,0,flat,,reversable defect,0\\n654,56,Male,Switzerland,non-anginal,125,0,,normal,98,FALSE,-2,flat,,reversable defect,2\\n655,56,Male,Switzerland,non-anginal,155,0,FALSE,st-t abnormality,99,FALSE,0,flat,,normal,2\\n656,56,Male,Switzerland,asymptomatic,115,0,,st-t abnormality,82,FALSE,-1,upsloping,,,1\\n657,56,Male,Switzerland,asymptomatic,120,0,FALSE,st-t abnormality,100,TRUE,-1,downsloping,,reversable defect,2\\n658,56,Male,Switzerland,asymptomatic,120,0,FALSE,st-t abnormality,148,FALSE,0,flat,,,2\\n659,56,Male,Switzerland,asymptomatic,125,0,TRUE,normal,103,TRUE,1,flat,,reversable defect,3\\n660,56,Male,Switzerland,asymptomatic,140,0,,normal,121,TRUE,1.8,upsloping,,,1\\n661,57,Male,Switzerland,non-anginal,105,0,,normal,148,FALSE,0.3,flat,,,1\\n662,57,Male,Switzerland,asymptomatic,110,0,,st-t abnormality,131,TRUE,1.4,upsloping,1,,3\\n663,57,Male,Switzerland,asymptomatic,140,0,FALSE,normal,120,TRUE,2,flat,,fixed defect,2\\n664,57,Male,Switzerland,asymptomatic,140,0,,normal,100,TRUE,0,,,fixed defect,3\\n665,57,Male,Switzerland,asymptomatic,160,0,,normal,98,TRUE,2,flat,,reversable defect,2\\n666,57,Male,Switzerland,asymptomatic,95,0,,normal,182,FALSE,0.7,downsloping,,,1\\n667,58,Male,Switzerland,asymptomatic,115,0,,normal,138,FALSE,0.5,upsloping,,,1\\n668,58,Male,Switzerland,asymptomatic,130,0,FALSE,st-t abnormality,100,TRUE,1,flat,,fixed defect,4\\n669,58,Male,Switzerland,asymptomatic,170,0,,st-t abnormality,105,TRUE,0,,,normal,1\\n670,59,Male,Switzerland,non-anginal,125,0,,normal,175,FALSE,2.6,flat,,,1\\n671,59,Male,Switzerland,asymptomatic,110,0,,normal,94,FALSE,0,,,fixed defect,3\\n672,59,Male,Switzerland,asymptomatic,120,0,FALSE,normal,115,FALSE,0,flat,,normal,2\\n673,59,Male,Switzerland,asymptomatic,125,0,,normal,119,TRUE,0.9,upsloping,,,1\\n674,59,Male,Switzerland,asymptomatic,135,0,FALSE,normal,115,TRUE,1,flat,,reversable defect,1\\n675,60,Male,Switzerland,non-anginal,115,0,,normal,143,FALSE,2.4,upsloping,,,1\\n676,60,Male,Switzerland,asymptomatic,125,0,,normal,110,FALSE,0.1,upsloping,2,,3\\n677,60,Male,Switzerland,asymptomatic,130,0,,st-t abnormality,130,TRUE,1.1,downsloping,1,,1\\n678,60,Male,Switzerland,asymptomatic,135,0,FALSE,normal,63,TRUE,0.5,upsloping,,reversable defect,3\\n679,60,Male,Switzerland,asymptomatic,160,0,FALSE,st-t abnormality,99,TRUE,0.5,flat,,reversable defect,3\\n680,60,Male,Switzerland,asymptomatic,160,0,,normal,149,FALSE,0.4,flat,,,1\\n681,61,Male,Switzerland,non-anginal,200,0,,st-t abnormality,70,FALSE,0,,,normal,3\\n682,61,Male,Switzerland,asymptomatic,105,0,,normal,110,TRUE,1.5,upsloping,,,1\\n683,61,Male,Switzerland,asymptomatic,110,0,,normal,113,FALSE,1.4,flat,,,1\\n684,61,Male,Switzerland,asymptomatic,125,0,FALSE,normal,105,TRUE,0,downsloping,,reversable defect,3\\n685,61,Male,Switzerland,asymptomatic,130,0,FALSE,lv hypertrophy,115,FALSE,0,flat,,reversable defect,3\\n686,61,Male,Switzerland,asymptomatic,130,0,,normal,77,FALSE,2.5,flat,,,3\\n687,61,Male,Switzerland,asymptomatic,150,0,FALSE,normal,105,TRUE,0,flat,,reversable defect,1\\n688,61,Male,Switzerland,asymptomatic,150,0,FALSE,normal,117,TRUE,2,flat,,reversable defect,2\\n689,61,Male,Switzerland,asymptomatic,160,0,TRUE,st-t abnormality,145,FALSE,1,flat,,reversable defect,2\\n690,62,Female,Switzerland,typical angina,140,0,,normal,143,FALSE,0,,,normal,2\\n691,62,Female,Switzerland,asymptomatic,120,0,,st-t abnormality,123,TRUE,1.7,downsloping,,,1\\n692,62,Male,Switzerland,typical angina,120,0,,lv hypertrophy,134,FALSE,-0.8,flat,2,,1\\n693,62,Male,Switzerland,non-anginal,160,0,FALSE,normal,72,TRUE,0,flat,,normal,3\\n694,62,Male,Switzerland,asymptomatic,115,0,,normal,128,TRUE,2.5,downsloping,,,2\\n695,62,Male,Switzerland,asymptomatic,115,0,,normal,72,TRUE,-0.5,flat,,normal,1\\n696,62,Male,Switzerland,asymptomatic,150,0,,st-t abnormality,78,FALSE,2,flat,,reversable defect,3\\n697,63,Male,Switzerland,asymptomatic,100,0,,normal,109,FALSE,-0.9,flat,,,1\\n698,63,Male,Switzerland,asymptomatic,140,0,,lv hypertrophy,149,FALSE,2,upsloping,,,2\\n699,63,Male,Switzerland,asymptomatic,150,0,FALSE,normal,86,TRUE,2,flat,,,3\\n700,63,Male,Switzerland,asymptomatic,150,0,,st-t abnormality,154,FALSE,3.7,upsloping,,,3\\n701,63,Male,Switzerland,asymptomatic,185,0,FALSE,normal,98,TRUE,0,upsloping,,reversable defect,1\\n702,64,Female,Switzerland,asymptomatic,200,0,FALSE,normal,140,TRUE,1,flat,,normal,3\\n703,64,Female,Switzerland,asymptomatic,95,0,,normal,145,FALSE,1.1,downsloping,,,1\\n704,64,Male,Switzerland,asymptomatic,110,0,,normal,114,TRUE,1.3,downsloping,,,1\\n705,65,Male,Switzerland,asymptomatic,115,0,FALSE,normal,93,TRUE,0,flat,,reversable defect,1\\n706,65,Male,Switzerland,asymptomatic,145,0,,st-t abnormality,67,FALSE,,,,fixed defect,3\\n707,65,Male,Switzerland,asymptomatic,155,0,,normal,154,FALSE,1,upsloping,,,0\\n708,65,Male,Switzerland,asymptomatic,160,0,TRUE,st-t abnormality,122,FALSE,,,,reversable defect,3\\n709,66,Female,Switzerland,asymptomatic,155,0,,normal,90,FALSE,0,,,reversable defect,1\\n710,66,Male,Switzerland,asymptomatic,150,0,FALSE,normal,108,TRUE,2,flat,,reversable defect,3\\n711,67,Male,Switzerland,typical angina,145,0,FALSE,lv hypertrophy,125,FALSE,0,flat,,normal,2\\n712,68,Male,Switzerland,asymptomatic,135,0,FALSE,st-t abnormality,120,TRUE,0,upsloping,,reversable defect,3\\n713,68,Male,Switzerland,asymptomatic,145,0,,normal,136,FALSE,1.8,upsloping,,,1\\n714,69,Male,Switzerland,asymptomatic,135,0,FALSE,normal,130,FALSE,0,flat,,fixed defect,1\\n715,69,Male,Switzerland,asymptomatic,,0,FALSE,st-t abnormality,,,,,,reversable defect,3\\n716,70,Male,Switzerland,asymptomatic,115,0,FALSE,st-t abnormality,92,TRUE,0,flat,,reversable defect,1\\n717,70,Male,Switzerland,asymptomatic,140,0,TRUE,normal,157,TRUE,2,flat,,reversable defect,3\\n718,72,Male,Switzerland,non-anginal,160,0,,lv hypertrophy,114,FALSE,1.6,flat,2,,0\\n719,73,Female,Switzerland,non-anginal,160,0,FALSE,st-t abnormality,121,FALSE,0,upsloping,,normal,1\\n720,74,Male,Switzerland,atypical angina,145,0,,st-t abnormality,123,FALSE,1.3,upsloping,,,1\\n721,63,Male,VA Long Beach,asymptomatic,140,260,FALSE,st-t abnormality,112,TRUE,3,flat,,,2\\n722,44,Male,VA Long Beach,asymptomatic,130,209,FALSE,st-t abnormality,127,FALSE,0,,,,0\\n723,60,Male,VA Long Beach,asymptomatic,132,218,FALSE,st-t abnormality,140,TRUE,1.5,downsloping,,,2\\n724,55,Male,VA Long Beach,asymptomatic,142,228,FALSE,st-t abnormality,149,TRUE,2.5,upsloping,,,1\\n725,66,Male,VA Long Beach,non-anginal,110,213,TRUE,lv hypertrophy,99,TRUE,1.3,flat,,,0\\n726,66,Male,VA Long Beach,non-anginal,120,0,FALSE,st-t abnormality,120,FALSE,-0.5,upsloping,,,0\\n727,65,Male,VA Long Beach,asymptomatic,150,236,TRUE,st-t abnormality,105,TRUE,0,,,,3\\n728,60,Male,VA Long Beach,non-anginal,180,0,FALSE,st-t abnormality,140,TRUE,1.5,flat,,,0\\n729,60,Male,VA Long Beach,non-anginal,120,0,,normal,141,TRUE,2,upsloping,,,3\\n730,60,Male,VA Long Beach,atypical angina,160,267,TRUE,st-t abnormality,157,FALSE,0.5,flat,,,1\\n731,56,Male,VA Long Beach,atypical angina,126,166,FALSE,st-t abnormality,140,FALSE,0,,,,0\\n732,59,Male,VA Long Beach,asymptomatic,140,0,FALSE,st-t abnormality,117,TRUE,1,flat,,,1\\n733,62,Male,VA Long Beach,asymptomatic,110,0,FALSE,normal,120,TRUE,0.5,flat,,normal,1\\n734,63,Male,VA Long Beach,non-anginal,,0,FALSE,lv hypertrophy,,,,,,,1\\n735,57,Male,VA Long Beach,asymptomatic,128,0,TRUE,st-t abnormality,148,TRUE,1,flat,,,1\\n736,62,Male,VA Long Beach,asymptomatic,120,220,FALSE,st-t abnormality,86,FALSE,0,,,,0\\n737,63,Male,VA Long Beach,asymptomatic,170,177,FALSE,normal,84,TRUE,2.5,downsloping,,,4\\n738,46,Male,VA Long Beach,asymptomatic,110,236,FALSE,normal,125,TRUE,2,flat,,,1\\n739,63,Male,VA Long Beach,asymptomatic,126,0,FALSE,st-t abnormality,120,FALSE,1.5,downsloping,,,0\\n740,60,Male,VA Long Beach,asymptomatic,152,0,FALSE,st-t abnormality,118,TRUE,0,,,reversable defect,0\\n741,58,Male,VA Long Beach,asymptomatic,116,0,FALSE,normal,124,FALSE,1,upsloping,,,2\\n742,64,Male,VA Long Beach,asymptomatic,120,0,TRUE,st-t abnormality,106,FALSE,2,flat,,,1\\n743,63,Male,VA Long Beach,non-anginal,130,0,FALSE,st-t abnormality,111,TRUE,0,,,,3\\n744,74,Male,VA Long Beach,non-anginal,,0,FALSE,normal,,,,,,,0\\n745,52,Male,VA Long Beach,non-anginal,128,0,FALSE,st-t abnormality,180,FALSE,3,upsloping,,,2\\n746,69,Male,VA Long Beach,asymptomatic,130,0,TRUE,st-t abnormality,129,FALSE,1,flat,,fixed defect,2\\n747,51,Male,VA Long Beach,asymptomatic,,0,TRUE,st-t abnormality,,,,,,,2\\n748,60,Male,VA Long Beach,asymptomatic,130,186,TRUE,st-t abnormality,140,TRUE,0.5,flat,,,1\\n749,56,Male,VA Long Beach,asymptomatic,120,100,FALSE,normal,120,TRUE,1.5,flat,0,reversable defect,1\\n750,55,Male,VA Long Beach,non-anginal,,228,FALSE,st-t abnormality,,,,,,,3\\n751,54,Male,VA Long Beach,asymptomatic,,0,FALSE,st-t abnormality,,,,,,,3\\n752,77,Male,VA Long Beach,asymptomatic,124,171,FALSE,st-t abnormality,110,TRUE,2,upsloping,,,3\\n753,63,Male,VA Long Beach,asymptomatic,160,230,TRUE,normal,105,TRUE,1,flat,,,3\\n754,55,Male,VA Long Beach,non-anginal,0,0,FALSE,normal,155,FALSE,1.5,flat,,,3\\n755,52,Male,VA Long Beach,non-anginal,122,0,FALSE,normal,110,TRUE,2,downsloping,,,2\\n756,64,Male,VA Long Beach,asymptomatic,144,0,FALSE,st-t abnormality,122,TRUE,1,flat,,,3\\n757,60,Male,VA Long Beach,asymptomatic,,281,FALSE,st-t abnormality,,,,,,,2\\n758,60,Male,VA Long Beach,asymptomatic,120,0,FALSE,normal,133,TRUE,2,upsloping,,reversable defect,0\\n759,58,Male,VA Long Beach,asymptomatic,,203,TRUE,normal,,,,,,,1\\n760,59,Male,VA Long Beach,asymptomatic,154,0,FALSE,st-t abnormality,131,TRUE,1.5,,0,,0\\n761,61,Male,VA Long Beach,non-anginal,120,0,FALSE,normal,80,TRUE,0,flat,,,3\\n762,40,Male,VA Long Beach,asymptomatic,125,0,TRUE,normal,165,FALSE,0,,,reversable defect,1\\n763,61,Male,VA Long Beach,asymptomatic,,0,TRUE,st-t abnormality,86,FALSE,1.5,flat,,reversable defect,3\\n764,41,Male,VA Long Beach,asymptomatic,104,0,FALSE,st-t abnormality,111,FALSE,0,,,,0\\n765,57,Male,VA Long Beach,asymptomatic,,277,TRUE,st-t abnormality,,,,,,,4\\n766,63,Male,VA Long Beach,asymptomatic,136,0,FALSE,normal,84,TRUE,0,,,reversable defect,2\\n767,59,Male,VA Long Beach,asymptomatic,122,233,FALSE,normal,117,TRUE,1.3,downsloping,,,1\\n768,51,Male,VA Long Beach,asymptomatic,128,0,FALSE,normal,107,FALSE,0,,,,0\\n769,59,Male,VA Long Beach,non-anginal,,0,FALSE,normal,128,TRUE,2,downsloping,,,2\\n770,42,Male,VA Long Beach,non-anginal,134,240,,normal,160,FALSE,0,,,,0\\n771,55,Male,VA Long Beach,non-anginal,120,0,FALSE,st-t abnormality,125,TRUE,2.5,flat,,reversable defect,1\\n772,63,Female,VA Long Beach,atypical angina,,0,FALSE,normal,,,,,,,0\\n773,62,Male,VA Long Beach,asymptomatic,152,153,FALSE,st-t abnormality,97,TRUE,1.6,upsloping,,reversable defect,2\\n774,56,Male,VA Long Beach,atypical angina,124,224,TRUE,normal,161,FALSE,2,flat,,,0\\n775,53,Male,VA Long Beach,asymptomatic,126,0,FALSE,normal,106,FALSE,0,,,,1\\n776,68,Male,VA Long Beach,asymptomatic,138,0,FALSE,normal,130,TRUE,3,flat,,,2\\n777,53,Male,VA Long Beach,asymptomatic,154,0,,st-t abnormality,140,TRUE,1.5,flat,,,2\\n778,60,Male,VA Long Beach,non-anginal,,316,TRUE,st-t abnormality,,,,,,,3\\n779,62,Male,VA Long Beach,atypical angina,,0,FALSE,normal,,,,,,,0\\n780,59,Male,VA Long Beach,asymptomatic,178,0,TRUE,lv hypertrophy,120,TRUE,0,,,reversable defect,1\\n781,51,Male,VA Long Beach,asymptomatic,,218,TRUE,lv hypertrophy,,,,,,,0\\n782,61,Male,VA Long Beach,asymptomatic,110,0,,normal,108,TRUE,2,downsloping,,,2\\n783,57,Male,VA Long Beach,asymptomatic,130,311,,st-t abnormality,148,TRUE,2,flat,,,1\\n784,56,Male,VA Long Beach,non-anginal,170,0,FALSE,lv hypertrophy,123,TRUE,2.5,,,,4\\n785,58,Male,VA Long Beach,atypical angina,126,0,TRUE,normal,110,TRUE,2,flat,,,2\\n786,69,Male,VA Long Beach,non-anginal,140,0,,st-t abnormality,118,FALSE,2.5,downsloping,,,2\\n787,67,Male,VA Long Beach,typical angina,142,270,TRUE,normal,125,FALSE,2.5,upsloping,,,3\\n788,58,Male,VA Long Beach,asymptomatic,120,0,FALSE,lv hypertrophy,106,TRUE,1.5,downsloping,,reversable defect,1\\n789,65,Male,VA Long Beach,asymptomatic,,0,FALSE,normal,,,,,,,1\\n790,63,Male,VA Long Beach,atypical angina,,217,TRUE,st-t abnormality,,,,,,,1\\n791,55,Male,VA Long Beach,atypical angina,110,214,TRUE,st-t abnormality,180,FALSE,,,,,0\\n792,57,Male,VA Long Beach,asymptomatic,140,214,FALSE,st-t abnormality,144,TRUE,2,flat,,fixed defect,2\\n793,65,Male,VA Long Beach,typical angina,,252,FALSE,normal,,,,,,,0\\n794,54,Male,VA Long Beach,asymptomatic,136,220,FALSE,normal,140,TRUE,3,flat,,,3\\n795,72,Male,VA Long Beach,non-anginal,120,214,FALSE,normal,102,TRUE,1,flat,,,3\\n796,75,Male,VA Long Beach,asymptomatic,170,203,TRUE,st-t abnormality,108,FALSE,0,,,reversable defect,1\\n797,49,Male,VA Long Beach,typical angina,130,0,FALSE,st-t abnormality,145,FALSE,3,flat,,,2\\n798,51,Male,VA Long Beach,non-anginal,,339,FALSE,normal,,,,,,,3\\n799,60,Male,VA Long Beach,asymptomatic,142,216,FALSE,normal,110,TRUE,2.5,flat,,,2\\n800,64,Female,VA Long Beach,asymptomatic,142,276,FALSE,normal,140,TRUE,1,flat,,reversable defect,1\\n801,58,Male,VA Long Beach,asymptomatic,132,458,TRUE,normal,69,FALSE,1,downsloping,,,0\\n802,61,Male,VA Long Beach,asymptomatic,146,241,FALSE,normal,148,TRUE,3,downsloping,,,2\\n803,67,Male,VA Long Beach,asymptomatic,160,384,TRUE,st-t abnormality,130,TRUE,0,flat,,,2\\n804,62,Male,VA Long Beach,asymptomatic,135,297,FALSE,normal,130,TRUE,1,flat,,,2\\n805,65,Male,VA Long Beach,asymptomatic,136,248,FALSE,normal,140,TRUE,4,downsloping,,,4\\n806,63,Male,VA Long Beach,asymptomatic,130,308,FALSE,normal,138,TRUE,2,flat,,,2\\n807,69,Male,VA Long Beach,asymptomatic,140,208,FALSE,st-t abnormality,140,TRUE,2,,,,3\\n808,51,Male,VA Long Beach,asymptomatic,,227,TRUE,st-t abnormality,,,,,,,0\\n809,62,Male,VA Long Beach,asymptomatic,158,210,TRUE,normal,112,TRUE,3,downsloping,,,1\\n810,55,Male,VA Long Beach,non-anginal,,245,TRUE,st-t abnormality,,,,,,,1\\n811,75,Male,VA Long Beach,asymptomatic,136,225,FALSE,normal,112,TRUE,3,flat,,,3\\n812,40,Male,VA Long Beach,non-anginal,106,240,FALSE,normal,80,TRUE,0,,,reversable defect,0\\n813,67,Male,VA Long Beach,asymptomatic,120,0,TRUE,normal,150,FALSE,1.5,downsloping,,,3\\n814,58,Male,VA Long Beach,asymptomatic,110,198,FALSE,normal,110,FALSE,0,,,,1\\n815,60,Male,VA Long Beach,asymptomatic,,195,FALSE,normal,,,,,,,0\\n816,63,Male,VA Long Beach,asymptomatic,160,267,TRUE,st-t abnormality,88,TRUE,2,,,,3\\n817,35,Male,VA Long Beach,non-anginal,,161,FALSE,st-t abnormality,,,,,,,0\\n818,62,Male,VA Long Beach,typical angina,112,258,FALSE,st-t abnormality,150,TRUE,,,,,1\\n819,43,Male,VA Long Beach,asymptomatic,122,0,FALSE,normal,120,FALSE,0.5,upsloping,,,1\\n820,63,Male,VA Long Beach,non-anginal,130,0,TRUE,st-t abnormality,160,FALSE,3,flat,,,0\\n821,68,Male,VA Long Beach,non-anginal,150,195,TRUE,normal,132,FALSE,0,,,fixed defect,1\\n822,65,Male,VA Long Beach,asymptomatic,150,235,FALSE,normal,120,TRUE,1.5,flat,,,3\\n823,48,Male,VA Long Beach,non-anginal,102,0,,st-t abnormality,110,TRUE,1,downsloping,,,1\\n824,63,Male,VA Long Beach,asymptomatic,96,305,FALSE,st-t abnormality,121,TRUE,1,upsloping,,,1\\n825,64,Male,VA Long Beach,asymptomatic,130,223,FALSE,st-t abnormality,128,FALSE,0.5,flat,,,0\\n826,61,Male,VA Long Beach,asymptomatic,120,282,FALSE,st-t abnormality,135,TRUE,4,downsloping,,fixed defect,3\\n827,50,Male,VA Long Beach,asymptomatic,144,349,FALSE,lv hypertrophy,120,TRUE,1,upsloping,,reversable defect,1\\n828,59,Male,VA Long Beach,asymptomatic,124,,FALSE,normal,117,TRUE,1,flat,,,1\\n829,55,Male,VA Long Beach,asymptomatic,150,160,FALSE,st-t abnormality,150,FALSE,0,,,,0\\n830,45,Male,VA Long Beach,non-anginal,,236,FALSE,normal,,,,,,,0\\n831,65,Male,VA Long Beach,asymptomatic,,312,FALSE,lv hypertrophy,,,,,,,3\\n832,61,Male,VA Long Beach,atypical angina,,283,FALSE,normal,,,,,,,0\\n833,49,Male,VA Long Beach,non-anginal,,142,FALSE,normal,,,,,,,3\\n834,72,Male,VA Long Beach,asymptomatic,,211,FALSE,normal,,,,,,,1\\n835,50,Male,VA Long Beach,asymptomatic,,218,FALSE,normal,,,,,,,1\\n836,64,Male,VA Long Beach,asymptomatic,,306,TRUE,st-t abnormality,,,,,,,3\\n837,55,Male,VA Long Beach,asymptomatic,116,186,TRUE,st-t abnormality,102,FALSE,0,,,,2\\n838,63,Male,VA Long Beach,asymptomatic,110,252,FALSE,st-t abnormality,140,TRUE,2,flat,,,2\\n839,59,Male,VA Long Beach,asymptomatic,125,222,FALSE,normal,135,TRUE,2.5,downsloping,,,3\\n840,56,Male,VA Long Beach,asymptomatic,,0,FALSE,lv hypertrophy,,,,,,,1\\n841,62,Male,VA Long Beach,non-anginal,,0,TRUE,st-t abnormality,,,,,,,2\\n842,74,Male,VA Long Beach,asymptomatic,150,258,TRUE,st-t abnormality,130,TRUE,4,downsloping,,,3\\n843,54,Male,VA Long Beach,asymptomatic,130,202,TRUE,normal,112,TRUE,2,flat,,,1\\n844,57,Male,VA Long Beach,asymptomatic,110,197,FALSE,lv hypertrophy,100,FALSE,0,,,,0\\n845,62,Male,VA Long Beach,non-anginal,,204,FALSE,st-t abnormality,,,,,,,1\\n846,76,Male,VA Long Beach,non-anginal,104,,FALSE,lv hypertrophy,120,FALSE,3.5,downsloping,,,4\\n847,54,Female,VA Long Beach,asymptomatic,138,274,FALSE,normal,105,TRUE,1.5,flat,,,1\\n848,70,Male,VA Long Beach,asymptomatic,170,192,FALSE,st-t abnormality,129,TRUE,3,downsloping,,,2\\n849,61,Female,VA Long Beach,atypical angina,140,298,TRUE,normal,120,TRUE,0,,,reversable defect,0\\n850,48,Male,VA Long Beach,asymptomatic,,272,FALSE,st-t abnormality,,,,,,,0\\n851,48,Male,VA Long Beach,non-anginal,132,220,TRUE,st-t abnormality,162,FALSE,0,,,fixed defect,1\\n852,61,Male,VA Long Beach,typical angina,142,200,TRUE,st-t abnormality,100,FALSE,1.5,downsloping,,,3\\n853,66,Male,VA Long Beach,asymptomatic,112,261,FALSE,normal,140,FALSE,1.5,upsloping,,,1\\n854,68,Male,VA Long Beach,typical angina,,181,TRUE,st-t abnormality,,,,,,,0\\n855,55,Male,VA Long Beach,asymptomatic,172,260,FALSE,normal,73,FALSE,2,,,,3\\n856,62,Male,VA Long Beach,non-anginal,120,220,FALSE,lv hypertrophy,86,FALSE,0,,,,0\\n857,71,Male,VA Long Beach,non-anginal,,221,FALSE,normal,,,,,,,3\\n858,74,Male,VA Long Beach,typical angina,,216,TRUE,normal,,,,,,,3\\n859,53,Male,VA Long Beach,non-anginal,155,175,TRUE,st-t abnormality,160,FALSE,,,,fixed defect,0\\n860,58,Male,VA Long Beach,non-anginal,150,219,FALSE,st-t abnormality,118,TRUE,0,,,,2\\n861,75,Male,VA Long Beach,asymptomatic,160,310,TRUE,normal,112,TRUE,2,downsloping,,reversable defect,0\\n862,56,Male,VA Long Beach,non-anginal,,208,TRUE,st-t abnormality,,,,,,,4\\n863,58,Male,VA Long Beach,non-anginal,,232,FALSE,st-t abnormality,,,,,,,2\\n864,64,Male,VA Long Beach,asymptomatic,134,273,FALSE,normal,102,TRUE,4,downsloping,,,4\\n865,54,Male,VA Long Beach,non-anginal,,203,FALSE,st-t abnormality,,,,,,,0\\n866,54,Male,VA Long Beach,atypical angina,,182,FALSE,st-t abnormality,,,,,,,0\\n867,59,Male,VA Long Beach,asymptomatic,140,274,FALSE,normal,154,TRUE,2,flat,,,0\\n868,55,Male,VA Long Beach,asymptomatic,,204,TRUE,st-t abnormality,,,,,,,1\\n869,57,Male,VA Long Beach,asymptomatic,144,270,TRUE,st-t abnormality,160,TRUE,2,flat,,,3\\n870,61,Male,VA Long Beach,asymptomatic,,292,FALSE,st-t abnormality,,,,,,,3\\n871,41,Male,VA Long Beach,asymptomatic,150,171,FALSE,normal,128,TRUE,1.5,flat,,,0\\n872,71,Male,VA Long Beach,asymptomatic,130,221,FALSE,st-t abnormality,115,TRUE,0,,,,3\\n873,38,Male,VA Long Beach,asymptomatic,110,289,FALSE,normal,105,TRUE,1.5,downsloping,,,1\\n874,55,Male,VA Long Beach,asymptomatic,158,217,FALSE,normal,110,TRUE,2.5,flat,,,1\\n875,56,Male,VA Long Beach,asymptomatic,128,223,FALSE,st-t abnormality,119,TRUE,2,downsloping,,,2\\n876,69,Male,VA Long Beach,asymptomatic,,,TRUE,normal,,,,,,,2\\n877,64,Male,VA Long Beach,asymptomatic,150,193,FALSE,st-t abnormality,135,TRUE,0.5,flat,,,2\\n878,72,Male,VA Long Beach,asymptomatic,160,,TRUE,lv hypertrophy,130,FALSE,1.5,,,,2\\n879,69,Male,VA Long Beach,asymptomatic,,210,TRUE,st-t abnormality,,,,,,,2\\n880,56,Male,VA Long Beach,asymptomatic,,282,TRUE,normal,,,,,,,1\\n881,62,Male,VA Long Beach,asymptomatic,,170,FALSE,st-t abnormality,120,TRUE,3,,,,4\\n882,67,Male,VA Long Beach,asymptomatic,,369,FALSE,normal,,,,,,,3\\n883,57,Male,VA Long Beach,asymptomatic,156,173,FALSE,lv hypertrophy,119,TRUE,3,downsloping,,,3\\n884,69,Male,VA Long Beach,asymptomatic,,289,TRUE,st-t abnormality,,,,,,,3\\n885,51,Male,VA Long Beach,asymptomatic,,,TRUE,lv hypertrophy,,,,,,reversable defect,1\\n886,48,Male,VA Long Beach,asymptomatic,140,,FALSE,normal,159,TRUE,1.5,upsloping,,,3\\n887,69,Male,VA Long Beach,asymptomatic,122,216,TRUE,lv hypertrophy,84,TRUE,0,,,reversable defect,2\\n888,69,Male,VA Long Beach,non-anginal,,271,FALSE,lv hypertrophy,,,,,,,0\\n889,64,Male,VA Long Beach,asymptomatic,,244,TRUE,st-t abnormality,,,,,,,2\\n890,57,Male,VA Long Beach,atypical angina,180,285,TRUE,st-t abnormality,120,FALSE,0.8,,,,1\\n891,53,Male,VA Long Beach,asymptomatic,124,243,FALSE,normal,122,TRUE,2,flat,,reversable defect,1\\n892,37,Male,VA Long Beach,non-anginal,118,240,FALSE,lv hypertrophy,165,FALSE,1,flat,,normal,0\\n893,67,Male,VA Long Beach,asymptomatic,140,219,FALSE,st-t abnormality,122,TRUE,2,flat,,reversable defect,3\\n894,74,Male,VA Long Beach,non-anginal,140,237,TRUE,normal,94,FALSE,0,,,,1\\n895,63,Male,VA Long Beach,atypical angina,,165,FALSE,st-t abnormality,,,,,,,0\\n896,58,Male,VA Long Beach,asymptomatic,100,213,FALSE,st-t abnormality,110,FALSE,0,,,,0\\n897,61,Male,VA Long Beach,asymptomatic,190,287,TRUE,lv hypertrophy,150,TRUE,2,downsloping,,,4\\n898,64,Male,VA Long Beach,asymptomatic,130,258,TRUE,lv hypertrophy,130,FALSE,0,,,fixed defect,2\\n899,58,Male,VA Long Beach,asymptomatic,160,256,TRUE,lv hypertrophy,113,TRUE,1,upsloping,,,3\\n900,60,Male,VA Long Beach,asymptomatic,130,186,TRUE,lv hypertrophy,140,TRUE,0.5,flat,,,1\\n901,57,Male,VA Long Beach,asymptomatic,122,264,FALSE,lv hypertrophy,100,FALSE,0,,,,1\\n902,55,Male,VA Long Beach,non-anginal,,,FALSE,st-t abnormality,,,,,,,0\\n903,55,Male,VA Long Beach,asymptomatic,120,226,FALSE,lv hypertrophy,127,TRUE,1.7,downsloping,,reversable defect,1\\n904,56,Male,VA Long Beach,asymptomatic,130,203,TRUE,normal,98,FALSE,1.5,flat,,reversable defect,1\\n905,57,Male,VA Long Beach,asymptomatic,130,207,FALSE,st-t abnormality,96,TRUE,1,flat,,,0\\n906,61,Male,VA Long Beach,non-anginal,,284,FALSE,normal,,,,,,,1\\n907,61,Male,VA Long Beach,non-anginal,120,337,FALSE,normal,98,TRUE,0,,,,3\\n908,58,Male,VA Long Beach,non-anginal,150,219,FALSE,st-t abnormality,118,TRUE,0,,,,2\\n909,74,Male,VA Long Beach,asymptomatic,155,310,FALSE,normal,112,TRUE,1.5,downsloping,,,2\\n910,68,Male,VA Long Beach,non-anginal,134,254,TRUE,normal,151,TRUE,0,,,normal,0\\n911,51,Female,VA Long Beach,asymptomatic,114,258,TRUE,lv hypertrophy,96,FALSE,1,upsloping,,,0\\n912,62,Male,VA Long Beach,asymptomatic,160,254,TRUE,st-t abnormality,108,TRUE,3,flat,,,4\\n913,53,Male,VA Long Beach,asymptomatic,144,300,TRUE,st-t abnormality,128,TRUE,1.5,flat,,,3\\n914,62,Male,VA Long Beach,asymptomatic,158,170,FALSE,st-t abnormality,138,TRUE,0,,,,1\\n915,46,Male,VA Long Beach,asymptomatic,134,310,FALSE,normal,126,FALSE,0,,,normal,2\\n916,54,Female,VA Long Beach,asymptomatic,127,333,TRUE,st-t abnormality,154,FALSE,0,,,,1\\n917,62,Male,VA Long Beach,typical angina,,139,FALSE,st-t abnormality,,,,,,,0\\n918,55,Male,VA Long Beach,asymptomatic,122,223,TRUE,st-t abnormality,100,FALSE,0,,,fixed defect,2\\n919,58,Male,VA Long Beach,asymptomatic,,385,TRUE,lv hypertrophy,,,,,,,0\\n920,62,Male,VA Long Beach,atypical angina,120,254,FALSE,lv hypertrophy,93,TRUE,0,,,,1\\n'}"
            ]
          },
          "metadata": {},
          "execution_count": 28
        }
      ]
    },
    {
      "cell_type": "code",
      "source": [
        "df = pd.read_csv(\"heart.csv\")\n",
        "df.head()"
      ],
      "metadata": {
        "colab": {
          "base_uri": "https://localhost:8080/",
          "height": 318
        },
        "id": "toI1v5jW9tJN",
        "outputId": "f8164656-13d7-4647-d3d5-389807b986f6"
      },
      "execution_count": 29,
      "outputs": [
        {
          "output_type": "error",
          "ename": "FileNotFoundError",
          "evalue": "[Errno 2] No such file or directory: 'heart.csv'",
          "traceback": [
            "\u001b[0;31m---------------------------------------------------------------------------\u001b[0m",
            "\u001b[0;31mFileNotFoundError\u001b[0m                         Traceback (most recent call last)",
            "\u001b[0;32m/tmp/ipython-input-2428486153.py\u001b[0m in \u001b[0;36m<cell line: 0>\u001b[0;34m()\u001b[0m\n\u001b[0;32m----> 1\u001b[0;31m \u001b[0mdf\u001b[0m \u001b[0;34m=\u001b[0m \u001b[0mpd\u001b[0m\u001b[0;34m.\u001b[0m\u001b[0mread_csv\u001b[0m\u001b[0;34m(\u001b[0m\u001b[0;34m\"heart.csv\"\u001b[0m\u001b[0;34m)\u001b[0m\u001b[0;34m\u001b[0m\u001b[0;34m\u001b[0m\u001b[0m\n\u001b[0m\u001b[1;32m      2\u001b[0m \u001b[0mdf\u001b[0m\u001b[0;34m.\u001b[0m\u001b[0mhead\u001b[0m\u001b[0;34m(\u001b[0m\u001b[0;34m)\u001b[0m\u001b[0;34m\u001b[0m\u001b[0;34m\u001b[0m\u001b[0m\n",
            "\u001b[0;32m/usr/local/lib/python3.12/dist-packages/pandas/io/parsers/readers.py\u001b[0m in \u001b[0;36mread_csv\u001b[0;34m(filepath_or_buffer, sep, delimiter, header, names, index_col, usecols, dtype, engine, converters, true_values, false_values, skipinitialspace, skiprows, skipfooter, nrows, na_values, keep_default_na, na_filter, verbose, skip_blank_lines, parse_dates, infer_datetime_format, keep_date_col, date_parser, date_format, dayfirst, cache_dates, iterator, chunksize, compression, thousands, decimal, lineterminator, quotechar, quoting, doublequote, escapechar, comment, encoding, encoding_errors, dialect, on_bad_lines, delim_whitespace, low_memory, memory_map, float_precision, storage_options, dtype_backend)\u001b[0m\n\u001b[1;32m   1024\u001b[0m     \u001b[0mkwds\u001b[0m\u001b[0;34m.\u001b[0m\u001b[0mupdate\u001b[0m\u001b[0;34m(\u001b[0m\u001b[0mkwds_defaults\u001b[0m\u001b[0;34m)\u001b[0m\u001b[0;34m\u001b[0m\u001b[0;34m\u001b[0m\u001b[0m\n\u001b[1;32m   1025\u001b[0m \u001b[0;34m\u001b[0m\u001b[0m\n\u001b[0;32m-> 1026\u001b[0;31m     \u001b[0;32mreturn\u001b[0m \u001b[0m_read\u001b[0m\u001b[0;34m(\u001b[0m\u001b[0mfilepath_or_buffer\u001b[0m\u001b[0;34m,\u001b[0m \u001b[0mkwds\u001b[0m\u001b[0;34m)\u001b[0m\u001b[0;34m\u001b[0m\u001b[0;34m\u001b[0m\u001b[0m\n\u001b[0m\u001b[1;32m   1027\u001b[0m \u001b[0;34m\u001b[0m\u001b[0m\n\u001b[1;32m   1028\u001b[0m \u001b[0;34m\u001b[0m\u001b[0m\n",
            "\u001b[0;32m/usr/local/lib/python3.12/dist-packages/pandas/io/parsers/readers.py\u001b[0m in \u001b[0;36m_read\u001b[0;34m(filepath_or_buffer, kwds)\u001b[0m\n\u001b[1;32m    618\u001b[0m \u001b[0;34m\u001b[0m\u001b[0m\n\u001b[1;32m    619\u001b[0m     \u001b[0;31m# Create the parser.\u001b[0m\u001b[0;34m\u001b[0m\u001b[0;34m\u001b[0m\u001b[0m\n\u001b[0;32m--> 620\u001b[0;31m     \u001b[0mparser\u001b[0m \u001b[0;34m=\u001b[0m \u001b[0mTextFileReader\u001b[0m\u001b[0;34m(\u001b[0m\u001b[0mfilepath_or_buffer\u001b[0m\u001b[0;34m,\u001b[0m \u001b[0;34m**\u001b[0m\u001b[0mkwds\u001b[0m\u001b[0;34m)\u001b[0m\u001b[0;34m\u001b[0m\u001b[0;34m\u001b[0m\u001b[0m\n\u001b[0m\u001b[1;32m    621\u001b[0m \u001b[0;34m\u001b[0m\u001b[0m\n\u001b[1;32m    622\u001b[0m     \u001b[0;32mif\u001b[0m \u001b[0mchunksize\u001b[0m \u001b[0;32mor\u001b[0m \u001b[0miterator\u001b[0m\u001b[0;34m:\u001b[0m\u001b[0;34m\u001b[0m\u001b[0;34m\u001b[0m\u001b[0m\n",
            "\u001b[0;32m/usr/local/lib/python3.12/dist-packages/pandas/io/parsers/readers.py\u001b[0m in \u001b[0;36m__init__\u001b[0;34m(self, f, engine, **kwds)\u001b[0m\n\u001b[1;32m   1618\u001b[0m \u001b[0;34m\u001b[0m\u001b[0m\n\u001b[1;32m   1619\u001b[0m         \u001b[0mself\u001b[0m\u001b[0;34m.\u001b[0m\u001b[0mhandles\u001b[0m\u001b[0;34m:\u001b[0m \u001b[0mIOHandles\u001b[0m \u001b[0;34m|\u001b[0m \u001b[0;32mNone\u001b[0m \u001b[0;34m=\u001b[0m \u001b[0;32mNone\u001b[0m\u001b[0;34m\u001b[0m\u001b[0;34m\u001b[0m\u001b[0m\n\u001b[0;32m-> 1620\u001b[0;31m         \u001b[0mself\u001b[0m\u001b[0;34m.\u001b[0m\u001b[0m_engine\u001b[0m \u001b[0;34m=\u001b[0m \u001b[0mself\u001b[0m\u001b[0;34m.\u001b[0m\u001b[0m_make_engine\u001b[0m\u001b[0;34m(\u001b[0m\u001b[0mf\u001b[0m\u001b[0;34m,\u001b[0m \u001b[0mself\u001b[0m\u001b[0;34m.\u001b[0m\u001b[0mengine\u001b[0m\u001b[0;34m)\u001b[0m\u001b[0;34m\u001b[0m\u001b[0;34m\u001b[0m\u001b[0m\n\u001b[0m\u001b[1;32m   1621\u001b[0m \u001b[0;34m\u001b[0m\u001b[0m\n\u001b[1;32m   1622\u001b[0m     \u001b[0;32mdef\u001b[0m \u001b[0mclose\u001b[0m\u001b[0;34m(\u001b[0m\u001b[0mself\u001b[0m\u001b[0;34m)\u001b[0m \u001b[0;34m->\u001b[0m \u001b[0;32mNone\u001b[0m\u001b[0;34m:\u001b[0m\u001b[0;34m\u001b[0m\u001b[0;34m\u001b[0m\u001b[0m\n",
            "\u001b[0;32m/usr/local/lib/python3.12/dist-packages/pandas/io/parsers/readers.py\u001b[0m in \u001b[0;36m_make_engine\u001b[0;34m(self, f, engine)\u001b[0m\n\u001b[1;32m   1878\u001b[0m                 \u001b[0;32mif\u001b[0m \u001b[0;34m\"b\"\u001b[0m \u001b[0;32mnot\u001b[0m \u001b[0;32min\u001b[0m \u001b[0mmode\u001b[0m\u001b[0;34m:\u001b[0m\u001b[0;34m\u001b[0m\u001b[0;34m\u001b[0m\u001b[0m\n\u001b[1;32m   1879\u001b[0m                     \u001b[0mmode\u001b[0m \u001b[0;34m+=\u001b[0m \u001b[0;34m\"b\"\u001b[0m\u001b[0;34m\u001b[0m\u001b[0;34m\u001b[0m\u001b[0m\n\u001b[0;32m-> 1880\u001b[0;31m             self.handles = get_handle(\n\u001b[0m\u001b[1;32m   1881\u001b[0m                 \u001b[0mf\u001b[0m\u001b[0;34m,\u001b[0m\u001b[0;34m\u001b[0m\u001b[0;34m\u001b[0m\u001b[0m\n\u001b[1;32m   1882\u001b[0m                 \u001b[0mmode\u001b[0m\u001b[0;34m,\u001b[0m\u001b[0;34m\u001b[0m\u001b[0;34m\u001b[0m\u001b[0m\n",
            "\u001b[0;32m/usr/local/lib/python3.12/dist-packages/pandas/io/common.py\u001b[0m in \u001b[0;36mget_handle\u001b[0;34m(path_or_buf, mode, encoding, compression, memory_map, is_text, errors, storage_options)\u001b[0m\n\u001b[1;32m    871\u001b[0m         \u001b[0;32mif\u001b[0m \u001b[0mioargs\u001b[0m\u001b[0;34m.\u001b[0m\u001b[0mencoding\u001b[0m \u001b[0;32mand\u001b[0m \u001b[0;34m\"b\"\u001b[0m \u001b[0;32mnot\u001b[0m \u001b[0;32min\u001b[0m \u001b[0mioargs\u001b[0m\u001b[0;34m.\u001b[0m\u001b[0mmode\u001b[0m\u001b[0;34m:\u001b[0m\u001b[0;34m\u001b[0m\u001b[0;34m\u001b[0m\u001b[0m\n\u001b[1;32m    872\u001b[0m             \u001b[0;31m# Encoding\u001b[0m\u001b[0;34m\u001b[0m\u001b[0;34m\u001b[0m\u001b[0m\n\u001b[0;32m--> 873\u001b[0;31m             handle = open(\n\u001b[0m\u001b[1;32m    874\u001b[0m                 \u001b[0mhandle\u001b[0m\u001b[0;34m,\u001b[0m\u001b[0;34m\u001b[0m\u001b[0;34m\u001b[0m\u001b[0m\n\u001b[1;32m    875\u001b[0m                 \u001b[0mioargs\u001b[0m\u001b[0;34m.\u001b[0m\u001b[0mmode\u001b[0m\u001b[0;34m,\u001b[0m\u001b[0;34m\u001b[0m\u001b[0;34m\u001b[0m\u001b[0m\n",
            "\u001b[0;31mFileNotFoundError\u001b[0m: [Errno 2] No such file or directory: 'heart.csv'"
          ]
        }
      ]
    },
    {
      "cell_type": "code",
      "source": [
        "import pandas as pd\n",
        "\n",
        "df = pd.read_csv(\"heart_disease_uci.csv\")\n",
        "df.head()\n"
      ],
      "metadata": {
        "colab": {
          "base_uri": "https://localhost:8080/",
          "height": 206
        },
        "id": "86XfwbC3-t3W",
        "outputId": "3d8ab6df-2f07-4c4f-a88b-57a2f0f586e0"
      },
      "execution_count": 30,
      "outputs": [
        {
          "output_type": "execute_result",
          "data": {
            "text/plain": [
              "   id  age     sex    dataset               cp  trestbps   chol    fbs  \\\n",
              "0   1   63    Male  Cleveland   typical angina     145.0  233.0   True   \n",
              "1   2   67    Male  Cleveland     asymptomatic     160.0  286.0  False   \n",
              "2   3   67    Male  Cleveland     asymptomatic     120.0  229.0  False   \n",
              "3   4   37    Male  Cleveland      non-anginal     130.0  250.0  False   \n",
              "4   5   41  Female  Cleveland  atypical angina     130.0  204.0  False   \n",
              "\n",
              "          restecg  thalch  exang  oldpeak        slope   ca  \\\n",
              "0  lv hypertrophy   150.0  False      2.3  downsloping  0.0   \n",
              "1  lv hypertrophy   108.0   True      1.5         flat  3.0   \n",
              "2  lv hypertrophy   129.0   True      2.6         flat  2.0   \n",
              "3          normal   187.0  False      3.5  downsloping  0.0   \n",
              "4  lv hypertrophy   172.0  False      1.4    upsloping  0.0   \n",
              "\n",
              "                thal  num  \n",
              "0       fixed defect    0  \n",
              "1             normal    2  \n",
              "2  reversable defect    1  \n",
              "3             normal    0  \n",
              "4             normal    0  "
            ],
            "text/html": [
              "\n",
              "  <div id=\"df-c7eb61cc-119c-47b1-b66e-1a1a79988a31\" class=\"colab-df-container\">\n",
              "    <div>\n",
              "<style scoped>\n",
              "    .dataframe tbody tr th:only-of-type {\n",
              "        vertical-align: middle;\n",
              "    }\n",
              "\n",
              "    .dataframe tbody tr th {\n",
              "        vertical-align: top;\n",
              "    }\n",
              "\n",
              "    .dataframe thead th {\n",
              "        text-align: right;\n",
              "    }\n",
              "</style>\n",
              "<table border=\"1\" class=\"dataframe\">\n",
              "  <thead>\n",
              "    <tr style=\"text-align: right;\">\n",
              "      <th></th>\n",
              "      <th>id</th>\n",
              "      <th>age</th>\n",
              "      <th>sex</th>\n",
              "      <th>dataset</th>\n",
              "      <th>cp</th>\n",
              "      <th>trestbps</th>\n",
              "      <th>chol</th>\n",
              "      <th>fbs</th>\n",
              "      <th>restecg</th>\n",
              "      <th>thalch</th>\n",
              "      <th>exang</th>\n",
              "      <th>oldpeak</th>\n",
              "      <th>slope</th>\n",
              "      <th>ca</th>\n",
              "      <th>thal</th>\n",
              "      <th>num</th>\n",
              "    </tr>\n",
              "  </thead>\n",
              "  <tbody>\n",
              "    <tr>\n",
              "      <th>0</th>\n",
              "      <td>1</td>\n",
              "      <td>63</td>\n",
              "      <td>Male</td>\n",
              "      <td>Cleveland</td>\n",
              "      <td>typical angina</td>\n",
              "      <td>145.0</td>\n",
              "      <td>233.0</td>\n",
              "      <td>True</td>\n",
              "      <td>lv hypertrophy</td>\n",
              "      <td>150.0</td>\n",
              "      <td>False</td>\n",
              "      <td>2.3</td>\n",
              "      <td>downsloping</td>\n",
              "      <td>0.0</td>\n",
              "      <td>fixed defect</td>\n",
              "      <td>0</td>\n",
              "    </tr>\n",
              "    <tr>\n",
              "      <th>1</th>\n",
              "      <td>2</td>\n",
              "      <td>67</td>\n",
              "      <td>Male</td>\n",
              "      <td>Cleveland</td>\n",
              "      <td>asymptomatic</td>\n",
              "      <td>160.0</td>\n",
              "      <td>286.0</td>\n",
              "      <td>False</td>\n",
              "      <td>lv hypertrophy</td>\n",
              "      <td>108.0</td>\n",
              "      <td>True</td>\n",
              "      <td>1.5</td>\n",
              "      <td>flat</td>\n",
              "      <td>3.0</td>\n",
              "      <td>normal</td>\n",
              "      <td>2</td>\n",
              "    </tr>\n",
              "    <tr>\n",
              "      <th>2</th>\n",
              "      <td>3</td>\n",
              "      <td>67</td>\n",
              "      <td>Male</td>\n",
              "      <td>Cleveland</td>\n",
              "      <td>asymptomatic</td>\n",
              "      <td>120.0</td>\n",
              "      <td>229.0</td>\n",
              "      <td>False</td>\n",
              "      <td>lv hypertrophy</td>\n",
              "      <td>129.0</td>\n",
              "      <td>True</td>\n",
              "      <td>2.6</td>\n",
              "      <td>flat</td>\n",
              "      <td>2.0</td>\n",
              "      <td>reversable defect</td>\n",
              "      <td>1</td>\n",
              "    </tr>\n",
              "    <tr>\n",
              "      <th>3</th>\n",
              "      <td>4</td>\n",
              "      <td>37</td>\n",
              "      <td>Male</td>\n",
              "      <td>Cleveland</td>\n",
              "      <td>non-anginal</td>\n",
              "      <td>130.0</td>\n",
              "      <td>250.0</td>\n",
              "      <td>False</td>\n",
              "      <td>normal</td>\n",
              "      <td>187.0</td>\n",
              "      <td>False</td>\n",
              "      <td>3.5</td>\n",
              "      <td>downsloping</td>\n",
              "      <td>0.0</td>\n",
              "      <td>normal</td>\n",
              "      <td>0</td>\n",
              "    </tr>\n",
              "    <tr>\n",
              "      <th>4</th>\n",
              "      <td>5</td>\n",
              "      <td>41</td>\n",
              "      <td>Female</td>\n",
              "      <td>Cleveland</td>\n",
              "      <td>atypical angina</td>\n",
              "      <td>130.0</td>\n",
              "      <td>204.0</td>\n",
              "      <td>False</td>\n",
              "      <td>lv hypertrophy</td>\n",
              "      <td>172.0</td>\n",
              "      <td>False</td>\n",
              "      <td>1.4</td>\n",
              "      <td>upsloping</td>\n",
              "      <td>0.0</td>\n",
              "      <td>normal</td>\n",
              "      <td>0</td>\n",
              "    </tr>\n",
              "  </tbody>\n",
              "</table>\n",
              "</div>\n",
              "    <div class=\"colab-df-buttons\">\n",
              "\n",
              "  <div class=\"colab-df-container\">\n",
              "    <button class=\"colab-df-convert\" onclick=\"convertToInteractive('df-c7eb61cc-119c-47b1-b66e-1a1a79988a31')\"\n",
              "            title=\"Convert this dataframe to an interactive table.\"\n",
              "            style=\"display:none;\">\n",
              "\n",
              "  <svg xmlns=\"http://www.w3.org/2000/svg\" height=\"24px\" viewBox=\"0 -960 960 960\">\n",
              "    <path d=\"M120-120v-720h720v720H120Zm60-500h600v-160H180v160Zm220 220h160v-160H400v160Zm0 220h160v-160H400v160ZM180-400h160v-160H180v160Zm440 0h160v-160H620v160ZM180-180h160v-160H180v160Zm440 0h160v-160H620v160Z\"/>\n",
              "  </svg>\n",
              "    </button>\n",
              "\n",
              "  <style>\n",
              "    .colab-df-container {\n",
              "      display:flex;\n",
              "      gap: 12px;\n",
              "    }\n",
              "\n",
              "    .colab-df-convert {\n",
              "      background-color: #E8F0FE;\n",
              "      border: none;\n",
              "      border-radius: 50%;\n",
              "      cursor: pointer;\n",
              "      display: none;\n",
              "      fill: #1967D2;\n",
              "      height: 32px;\n",
              "      padding: 0 0 0 0;\n",
              "      width: 32px;\n",
              "    }\n",
              "\n",
              "    .colab-df-convert:hover {\n",
              "      background-color: #E2EBFA;\n",
              "      box-shadow: 0px 1px 2px rgba(60, 64, 67, 0.3), 0px 1px 3px 1px rgba(60, 64, 67, 0.15);\n",
              "      fill: #174EA6;\n",
              "    }\n",
              "\n",
              "    .colab-df-buttons div {\n",
              "      margin-bottom: 4px;\n",
              "    }\n",
              "\n",
              "    [theme=dark] .colab-df-convert {\n",
              "      background-color: #3B4455;\n",
              "      fill: #D2E3FC;\n",
              "    }\n",
              "\n",
              "    [theme=dark] .colab-df-convert:hover {\n",
              "      background-color: #434B5C;\n",
              "      box-shadow: 0px 1px 3px 1px rgba(0, 0, 0, 0.15);\n",
              "      filter: drop-shadow(0px 1px 2px rgba(0, 0, 0, 0.3));\n",
              "      fill: #FFFFFF;\n",
              "    }\n",
              "  </style>\n",
              "\n",
              "    <script>\n",
              "      const buttonEl =\n",
              "        document.querySelector('#df-c7eb61cc-119c-47b1-b66e-1a1a79988a31 button.colab-df-convert');\n",
              "      buttonEl.style.display =\n",
              "        google.colab.kernel.accessAllowed ? 'block' : 'none';\n",
              "\n",
              "      async function convertToInteractive(key) {\n",
              "        const element = document.querySelector('#df-c7eb61cc-119c-47b1-b66e-1a1a79988a31');\n",
              "        const dataTable =\n",
              "          await google.colab.kernel.invokeFunction('convertToInteractive',\n",
              "                                                    [key], {});\n",
              "        if (!dataTable) return;\n",
              "\n",
              "        const docLinkHtml = 'Like what you see? Visit the ' +\n",
              "          '<a target=\"_blank\" href=https://colab.research.google.com/notebooks/data_table.ipynb>data table notebook</a>'\n",
              "          + ' to learn more about interactive tables.';\n",
              "        element.innerHTML = '';\n",
              "        dataTable['output_type'] = 'display_data';\n",
              "        await google.colab.output.renderOutput(dataTable, element);\n",
              "        const docLink = document.createElement('div');\n",
              "        docLink.innerHTML = docLinkHtml;\n",
              "        element.appendChild(docLink);\n",
              "      }\n",
              "    </script>\n",
              "  </div>\n",
              "\n",
              "\n",
              "    <div id=\"df-2b41e717-9c27-4acd-9710-184a7f5615d5\">\n",
              "      <button class=\"colab-df-quickchart\" onclick=\"quickchart('df-2b41e717-9c27-4acd-9710-184a7f5615d5')\"\n",
              "                title=\"Suggest charts\"\n",
              "                style=\"display:none;\">\n",
              "\n",
              "<svg xmlns=\"http://www.w3.org/2000/svg\" height=\"24px\"viewBox=\"0 0 24 24\"\n",
              "     width=\"24px\">\n",
              "    <g>\n",
              "        <path d=\"M19 3H5c-1.1 0-2 .9-2 2v14c0 1.1.9 2 2 2h14c1.1 0 2-.9 2-2V5c0-1.1-.9-2-2-2zM9 17H7v-7h2v7zm4 0h-2V7h2v10zm4 0h-2v-4h2v4z\"/>\n",
              "    </g>\n",
              "</svg>\n",
              "      </button>\n",
              "\n",
              "<style>\n",
              "  .colab-df-quickchart {\n",
              "      --bg-color: #E8F0FE;\n",
              "      --fill-color: #1967D2;\n",
              "      --hover-bg-color: #E2EBFA;\n",
              "      --hover-fill-color: #174EA6;\n",
              "      --disabled-fill-color: #AAA;\n",
              "      --disabled-bg-color: #DDD;\n",
              "  }\n",
              "\n",
              "  [theme=dark] .colab-df-quickchart {\n",
              "      --bg-color: #3B4455;\n",
              "      --fill-color: #D2E3FC;\n",
              "      --hover-bg-color: #434B5C;\n",
              "      --hover-fill-color: #FFFFFF;\n",
              "      --disabled-bg-color: #3B4455;\n",
              "      --disabled-fill-color: #666;\n",
              "  }\n",
              "\n",
              "  .colab-df-quickchart {\n",
              "    background-color: var(--bg-color);\n",
              "    border: none;\n",
              "    border-radius: 50%;\n",
              "    cursor: pointer;\n",
              "    display: none;\n",
              "    fill: var(--fill-color);\n",
              "    height: 32px;\n",
              "    padding: 0;\n",
              "    width: 32px;\n",
              "  }\n",
              "\n",
              "  .colab-df-quickchart:hover {\n",
              "    background-color: var(--hover-bg-color);\n",
              "    box-shadow: 0 1px 2px rgba(60, 64, 67, 0.3), 0 1px 3px 1px rgba(60, 64, 67, 0.15);\n",
              "    fill: var(--button-hover-fill-color);\n",
              "  }\n",
              "\n",
              "  .colab-df-quickchart-complete:disabled,\n",
              "  .colab-df-quickchart-complete:disabled:hover {\n",
              "    background-color: var(--disabled-bg-color);\n",
              "    fill: var(--disabled-fill-color);\n",
              "    box-shadow: none;\n",
              "  }\n",
              "\n",
              "  .colab-df-spinner {\n",
              "    border: 2px solid var(--fill-color);\n",
              "    border-color: transparent;\n",
              "    border-bottom-color: var(--fill-color);\n",
              "    animation:\n",
              "      spin 1s steps(1) infinite;\n",
              "  }\n",
              "\n",
              "  @keyframes spin {\n",
              "    0% {\n",
              "      border-color: transparent;\n",
              "      border-bottom-color: var(--fill-color);\n",
              "      border-left-color: var(--fill-color);\n",
              "    }\n",
              "    20% {\n",
              "      border-color: transparent;\n",
              "      border-left-color: var(--fill-color);\n",
              "      border-top-color: var(--fill-color);\n",
              "    }\n",
              "    30% {\n",
              "      border-color: transparent;\n",
              "      border-left-color: var(--fill-color);\n",
              "      border-top-color: var(--fill-color);\n",
              "      border-right-color: var(--fill-color);\n",
              "    }\n",
              "    40% {\n",
              "      border-color: transparent;\n",
              "      border-right-color: var(--fill-color);\n",
              "      border-top-color: var(--fill-color);\n",
              "    }\n",
              "    60% {\n",
              "      border-color: transparent;\n",
              "      border-right-color: var(--fill-color);\n",
              "    }\n",
              "    80% {\n",
              "      border-color: transparent;\n",
              "      border-right-color: var(--fill-color);\n",
              "      border-bottom-color: var(--fill-color);\n",
              "    }\n",
              "    90% {\n",
              "      border-color: transparent;\n",
              "      border-bottom-color: var(--fill-color);\n",
              "    }\n",
              "  }\n",
              "</style>\n",
              "\n",
              "      <script>\n",
              "        async function quickchart(key) {\n",
              "          const quickchartButtonEl =\n",
              "            document.querySelector('#' + key + ' button');\n",
              "          quickchartButtonEl.disabled = true;  // To prevent multiple clicks.\n",
              "          quickchartButtonEl.classList.add('colab-df-spinner');\n",
              "          try {\n",
              "            const charts = await google.colab.kernel.invokeFunction(\n",
              "                'suggestCharts', [key], {});\n",
              "          } catch (error) {\n",
              "            console.error('Error during call to suggestCharts:', error);\n",
              "          }\n",
              "          quickchartButtonEl.classList.remove('colab-df-spinner');\n",
              "          quickchartButtonEl.classList.add('colab-df-quickchart-complete');\n",
              "        }\n",
              "        (() => {\n",
              "          let quickchartButtonEl =\n",
              "            document.querySelector('#df-2b41e717-9c27-4acd-9710-184a7f5615d5 button');\n",
              "          quickchartButtonEl.style.display =\n",
              "            google.colab.kernel.accessAllowed ? 'block' : 'none';\n",
              "        })();\n",
              "      </script>\n",
              "    </div>\n",
              "\n",
              "    </div>\n",
              "  </div>\n"
            ],
            "application/vnd.google.colaboratory.intrinsic+json": {
              "type": "dataframe",
              "variable_name": "df",
              "summary": "{\n  \"name\": \"df\",\n  \"rows\": 920,\n  \"fields\": [\n    {\n      \"column\": \"id\",\n      \"properties\": {\n        \"dtype\": \"number\",\n        \"std\": 265,\n        \"min\": 1,\n        \"max\": 920,\n        \"num_unique_values\": 920,\n        \"samples\": [\n          320,\n          378,\n          539\n        ],\n        \"semantic_type\": \"\",\n        \"description\": \"\"\n      }\n    },\n    {\n      \"column\": \"age\",\n      \"properties\": {\n        \"dtype\": \"number\",\n        \"std\": 9,\n        \"min\": 28,\n        \"max\": 77,\n        \"num_unique_values\": 50,\n        \"samples\": [\n          64,\n          74,\n          39\n        ],\n        \"semantic_type\": \"\",\n        \"description\": \"\"\n      }\n    },\n    {\n      \"column\": \"sex\",\n      \"properties\": {\n        \"dtype\": \"category\",\n        \"num_unique_values\": 2,\n        \"samples\": [\n          \"Female\",\n          \"Male\"\n        ],\n        \"semantic_type\": \"\",\n        \"description\": \"\"\n      }\n    },\n    {\n      \"column\": \"dataset\",\n      \"properties\": {\n        \"dtype\": \"category\",\n        \"num_unique_values\": 4,\n        \"samples\": [\n          \"Hungary\",\n          \"VA Long Beach\"\n        ],\n        \"semantic_type\": \"\",\n        \"description\": \"\"\n      }\n    },\n    {\n      \"column\": \"cp\",\n      \"properties\": {\n        \"dtype\": \"category\",\n        \"num_unique_values\": 4,\n        \"samples\": [\n          \"asymptomatic\",\n          \"atypical angina\"\n        ],\n        \"semantic_type\": \"\",\n        \"description\": \"\"\n      }\n    },\n    {\n      \"column\": \"trestbps\",\n      \"properties\": {\n        \"dtype\": \"number\",\n        \"std\": 19.066069518587458,\n        \"min\": 0.0,\n        \"max\": 200.0,\n        \"num_unique_values\": 61,\n        \"samples\": [\n          145.0,\n          172.0\n        ],\n        \"semantic_type\": \"\",\n        \"description\": \"\"\n      }\n    },\n    {\n      \"column\": \"chol\",\n      \"properties\": {\n        \"dtype\": \"number\",\n        \"std\": 110.78081035323044,\n        \"min\": 0.0,\n        \"max\": 603.0,\n        \"num_unique_values\": 217,\n        \"samples\": [\n          384.0,\n          333.0\n        ],\n        \"semantic_type\": \"\",\n        \"description\": \"\"\n      }\n    },\n    {\n      \"column\": \"fbs\",\n      \"properties\": {\n        \"dtype\": \"category\",\n        \"num_unique_values\": 2,\n        \"samples\": [\n          false,\n          true\n        ],\n        \"semantic_type\": \"\",\n        \"description\": \"\"\n      }\n    },\n    {\n      \"column\": \"restecg\",\n      \"properties\": {\n        \"dtype\": \"category\",\n        \"num_unique_values\": 3,\n        \"samples\": [\n          \"lv hypertrophy\",\n          \"normal\"\n        ],\n        \"semantic_type\": \"\",\n        \"description\": \"\"\n      }\n    },\n    {\n      \"column\": \"thalch\",\n      \"properties\": {\n        \"dtype\": \"number\",\n        \"std\": 25.926276492797612,\n        \"min\": 60.0,\n        \"max\": 202.0,\n        \"num_unique_values\": 119,\n        \"samples\": [\n          185.0,\n          134.0\n        ],\n        \"semantic_type\": \"\",\n        \"description\": \"\"\n      }\n    },\n    {\n      \"column\": \"exang\",\n      \"properties\": {\n        \"dtype\": \"category\",\n        \"num_unique_values\": 2,\n        \"samples\": [\n          true,\n          false\n        ],\n        \"semantic_type\": \"\",\n        \"description\": \"\"\n      }\n    },\n    {\n      \"column\": \"oldpeak\",\n      \"properties\": {\n        \"dtype\": \"number\",\n        \"std\": 1.0912262483465265,\n        \"min\": -2.6,\n        \"max\": 6.2,\n        \"num_unique_values\": 53,\n        \"samples\": [\n          2.4,\n          -1.1\n        ],\n        \"semantic_type\": \"\",\n        \"description\": \"\"\n      }\n    },\n    {\n      \"column\": \"slope\",\n      \"properties\": {\n        \"dtype\": \"category\",\n        \"num_unique_values\": 3,\n        \"samples\": [\n          \"downsloping\",\n          \"flat\"\n        ],\n        \"semantic_type\": \"\",\n        \"description\": \"\"\n      }\n    },\n    {\n      \"column\": \"ca\",\n      \"properties\": {\n        \"dtype\": \"number\",\n        \"std\": 0.9356530125599879,\n        \"min\": 0.0,\n        \"max\": 3.0,\n        \"num_unique_values\": 4,\n        \"samples\": [\n          3.0,\n          1.0\n        ],\n        \"semantic_type\": \"\",\n        \"description\": \"\"\n      }\n    },\n    {\n      \"column\": \"thal\",\n      \"properties\": {\n        \"dtype\": \"category\",\n        \"num_unique_values\": 3,\n        \"samples\": [\n          \"fixed defect\",\n          \"normal\"\n        ],\n        \"semantic_type\": \"\",\n        \"description\": \"\"\n      }\n    },\n    {\n      \"column\": \"num\",\n      \"properties\": {\n        \"dtype\": \"number\",\n        \"std\": 1,\n        \"min\": 0,\n        \"max\": 4,\n        \"num_unique_values\": 5,\n        \"samples\": [\n          2,\n          4\n        ],\n        \"semantic_type\": \"\",\n        \"description\": \"\"\n      }\n    }\n  ]\n}"
            }
          },
          "metadata": {},
          "execution_count": 30
        }
      ]
    },
    {
      "cell_type": "code",
      "source": [
        "df.fillna(df.mean(), inplace=True)"
      ],
      "metadata": {
        "colab": {
          "base_uri": "https://localhost:8080/",
          "height": 300
        },
        "id": "6ndnsHTJ-_6X",
        "outputId": "89a56c0b-82ac-4833-b1b7-216e2d9a9f5b"
      },
      "execution_count": 31,
      "outputs": [
        {
          "output_type": "error",
          "ename": "TypeError",
          "evalue": "can only concatenate str (not \"int\") to str",
          "traceback": [
            "\u001b[0;31m---------------------------------------------------------------------------\u001b[0m",
            "\u001b[0;31mTypeError\u001b[0m                                 Traceback (most recent call last)",
            "\u001b[0;32m/tmp/ipython-input-820435583.py\u001b[0m in \u001b[0;36m<cell line: 0>\u001b[0;34m()\u001b[0m\n\u001b[0;32m----> 1\u001b[0;31m \u001b[0mdf\u001b[0m\u001b[0;34m.\u001b[0m\u001b[0mfillna\u001b[0m\u001b[0;34m(\u001b[0m\u001b[0mdf\u001b[0m\u001b[0;34m.\u001b[0m\u001b[0mmean\u001b[0m\u001b[0;34m(\u001b[0m\u001b[0;34m)\u001b[0m\u001b[0;34m,\u001b[0m \u001b[0minplace\u001b[0m\u001b[0;34m=\u001b[0m\u001b[0;32mTrue\u001b[0m\u001b[0;34m)\u001b[0m\u001b[0;34m\u001b[0m\u001b[0;34m\u001b[0m\u001b[0m\n\u001b[0m",
            "\u001b[0;32m/usr/local/lib/python3.12/dist-packages/pandas/core/frame.py\u001b[0m in \u001b[0;36mmean\u001b[0;34m(self, axis, skipna, numeric_only, **kwargs)\u001b[0m\n\u001b[1;32m  11691\u001b[0m         \u001b[0;34m**\u001b[0m\u001b[0mkwargs\u001b[0m\u001b[0;34m,\u001b[0m\u001b[0;34m\u001b[0m\u001b[0;34m\u001b[0m\u001b[0m\n\u001b[1;32m  11692\u001b[0m     ):\n\u001b[0;32m> 11693\u001b[0;31m         \u001b[0mresult\u001b[0m \u001b[0;34m=\u001b[0m \u001b[0msuper\u001b[0m\u001b[0;34m(\u001b[0m\u001b[0;34m)\u001b[0m\u001b[0;34m.\u001b[0m\u001b[0mmean\u001b[0m\u001b[0;34m(\u001b[0m\u001b[0maxis\u001b[0m\u001b[0;34m,\u001b[0m \u001b[0mskipna\u001b[0m\u001b[0;34m,\u001b[0m \u001b[0mnumeric_only\u001b[0m\u001b[0;34m,\u001b[0m \u001b[0;34m**\u001b[0m\u001b[0mkwargs\u001b[0m\u001b[0;34m)\u001b[0m\u001b[0;34m\u001b[0m\u001b[0;34m\u001b[0m\u001b[0m\n\u001b[0m\u001b[1;32m  11694\u001b[0m         \u001b[0;32mif\u001b[0m \u001b[0misinstance\u001b[0m\u001b[0;34m(\u001b[0m\u001b[0mresult\u001b[0m\u001b[0;34m,\u001b[0m \u001b[0mSeries\u001b[0m\u001b[0;34m)\u001b[0m\u001b[0;34m:\u001b[0m\u001b[0;34m\u001b[0m\u001b[0;34m\u001b[0m\u001b[0m\n\u001b[1;32m  11695\u001b[0m             \u001b[0mresult\u001b[0m \u001b[0;34m=\u001b[0m \u001b[0mresult\u001b[0m\u001b[0;34m.\u001b[0m\u001b[0m__finalize__\u001b[0m\u001b[0;34m(\u001b[0m\u001b[0mself\u001b[0m\u001b[0;34m,\u001b[0m \u001b[0mmethod\u001b[0m\u001b[0;34m=\u001b[0m\u001b[0;34m\"mean\"\u001b[0m\u001b[0;34m)\u001b[0m\u001b[0;34m\u001b[0m\u001b[0;34m\u001b[0m\u001b[0m\n",
            "\u001b[0;32m/usr/local/lib/python3.12/dist-packages/pandas/core/generic.py\u001b[0m in \u001b[0;36mmean\u001b[0;34m(self, axis, skipna, numeric_only, **kwargs)\u001b[0m\n\u001b[1;32m  12418\u001b[0m         \u001b[0;34m**\u001b[0m\u001b[0mkwargs\u001b[0m\u001b[0;34m,\u001b[0m\u001b[0;34m\u001b[0m\u001b[0;34m\u001b[0m\u001b[0m\n\u001b[1;32m  12419\u001b[0m     ) -> Series | float:\n\u001b[0;32m> 12420\u001b[0;31m         return self._stat_function(\n\u001b[0m\u001b[1;32m  12421\u001b[0m             \u001b[0;34m\"mean\"\u001b[0m\u001b[0;34m,\u001b[0m \u001b[0mnanops\u001b[0m\u001b[0;34m.\u001b[0m\u001b[0mnanmean\u001b[0m\u001b[0;34m,\u001b[0m \u001b[0maxis\u001b[0m\u001b[0;34m,\u001b[0m \u001b[0mskipna\u001b[0m\u001b[0;34m,\u001b[0m \u001b[0mnumeric_only\u001b[0m\u001b[0;34m,\u001b[0m \u001b[0;34m**\u001b[0m\u001b[0mkwargs\u001b[0m\u001b[0;34m\u001b[0m\u001b[0;34m\u001b[0m\u001b[0m\n\u001b[1;32m  12422\u001b[0m         )\n",
            "\u001b[0;32m/usr/local/lib/python3.12/dist-packages/pandas/core/generic.py\u001b[0m in \u001b[0;36m_stat_function\u001b[0;34m(self, name, func, axis, skipna, numeric_only, **kwargs)\u001b[0m\n\u001b[1;32m  12375\u001b[0m         \u001b[0mvalidate_bool_kwarg\u001b[0m\u001b[0;34m(\u001b[0m\u001b[0mskipna\u001b[0m\u001b[0;34m,\u001b[0m \u001b[0;34m\"skipna\"\u001b[0m\u001b[0;34m,\u001b[0m \u001b[0mnone_allowed\u001b[0m\u001b[0;34m=\u001b[0m\u001b[0;32mFalse\u001b[0m\u001b[0;34m)\u001b[0m\u001b[0;34m\u001b[0m\u001b[0;34m\u001b[0m\u001b[0m\n\u001b[1;32m  12376\u001b[0m \u001b[0;34m\u001b[0m\u001b[0m\n\u001b[0;32m> 12377\u001b[0;31m         return self._reduce(\n\u001b[0m\u001b[1;32m  12378\u001b[0m             \u001b[0mfunc\u001b[0m\u001b[0;34m,\u001b[0m \u001b[0mname\u001b[0m\u001b[0;34m=\u001b[0m\u001b[0mname\u001b[0m\u001b[0;34m,\u001b[0m \u001b[0maxis\u001b[0m\u001b[0;34m=\u001b[0m\u001b[0maxis\u001b[0m\u001b[0;34m,\u001b[0m \u001b[0mskipna\u001b[0m\u001b[0;34m=\u001b[0m\u001b[0mskipna\u001b[0m\u001b[0;34m,\u001b[0m \u001b[0mnumeric_only\u001b[0m\u001b[0;34m=\u001b[0m\u001b[0mnumeric_only\u001b[0m\u001b[0;34m\u001b[0m\u001b[0;34m\u001b[0m\u001b[0m\n\u001b[1;32m  12379\u001b[0m         )\n",
            "\u001b[0;32m/usr/local/lib/python3.12/dist-packages/pandas/core/frame.py\u001b[0m in \u001b[0;36m_reduce\u001b[0;34m(self, op, name, axis, skipna, numeric_only, filter_type, **kwds)\u001b[0m\n\u001b[1;32m  11560\u001b[0m         \u001b[0;31m# After possibly _get_data and transposing, we are now in the\u001b[0m\u001b[0;34m\u001b[0m\u001b[0;34m\u001b[0m\u001b[0m\n\u001b[1;32m  11561\u001b[0m         \u001b[0;31m#  simple case where we can use BlockManager.reduce\u001b[0m\u001b[0;34m\u001b[0m\u001b[0;34m\u001b[0m\u001b[0m\n\u001b[0;32m> 11562\u001b[0;31m         \u001b[0mres\u001b[0m \u001b[0;34m=\u001b[0m \u001b[0mdf\u001b[0m\u001b[0;34m.\u001b[0m\u001b[0m_mgr\u001b[0m\u001b[0;34m.\u001b[0m\u001b[0mreduce\u001b[0m\u001b[0;34m(\u001b[0m\u001b[0mblk_func\u001b[0m\u001b[0;34m)\u001b[0m\u001b[0;34m\u001b[0m\u001b[0;34m\u001b[0m\u001b[0m\n\u001b[0m\u001b[1;32m  11563\u001b[0m         \u001b[0mout\u001b[0m \u001b[0;34m=\u001b[0m \u001b[0mdf\u001b[0m\u001b[0;34m.\u001b[0m\u001b[0m_constructor_from_mgr\u001b[0m\u001b[0;34m(\u001b[0m\u001b[0mres\u001b[0m\u001b[0;34m,\u001b[0m \u001b[0maxes\u001b[0m\u001b[0;34m=\u001b[0m\u001b[0mres\u001b[0m\u001b[0;34m.\u001b[0m\u001b[0maxes\u001b[0m\u001b[0;34m)\u001b[0m\u001b[0;34m.\u001b[0m\u001b[0miloc\u001b[0m\u001b[0;34m[\u001b[0m\u001b[0;36m0\u001b[0m\u001b[0;34m]\u001b[0m\u001b[0;34m\u001b[0m\u001b[0;34m\u001b[0m\u001b[0m\n\u001b[1;32m  11564\u001b[0m         \u001b[0;32mif\u001b[0m \u001b[0mout_dtype\u001b[0m \u001b[0;32mis\u001b[0m \u001b[0;32mnot\u001b[0m \u001b[0;32mNone\u001b[0m \u001b[0;32mand\u001b[0m \u001b[0mout\u001b[0m\u001b[0;34m.\u001b[0m\u001b[0mdtype\u001b[0m \u001b[0;34m!=\u001b[0m \u001b[0;34m\"boolean\"\u001b[0m\u001b[0;34m:\u001b[0m\u001b[0;34m\u001b[0m\u001b[0;34m\u001b[0m\u001b[0m\n",
            "\u001b[0;32m/usr/local/lib/python3.12/dist-packages/pandas/core/internals/managers.py\u001b[0m in \u001b[0;36mreduce\u001b[0;34m(self, func)\u001b[0m\n\u001b[1;32m   1498\u001b[0m         \u001b[0mres_blocks\u001b[0m\u001b[0;34m:\u001b[0m \u001b[0mlist\u001b[0m\u001b[0;34m[\u001b[0m\u001b[0mBlock\u001b[0m\u001b[0;34m]\u001b[0m \u001b[0;34m=\u001b[0m \u001b[0;34m[\u001b[0m\u001b[0;34m]\u001b[0m\u001b[0;34m\u001b[0m\u001b[0;34m\u001b[0m\u001b[0m\n\u001b[1;32m   1499\u001b[0m         \u001b[0;32mfor\u001b[0m \u001b[0mblk\u001b[0m \u001b[0;32min\u001b[0m \u001b[0mself\u001b[0m\u001b[0;34m.\u001b[0m\u001b[0mblocks\u001b[0m\u001b[0;34m:\u001b[0m\u001b[0;34m\u001b[0m\u001b[0;34m\u001b[0m\u001b[0m\n\u001b[0;32m-> 1500\u001b[0;31m             \u001b[0mnbs\u001b[0m \u001b[0;34m=\u001b[0m \u001b[0mblk\u001b[0m\u001b[0;34m.\u001b[0m\u001b[0mreduce\u001b[0m\u001b[0;34m(\u001b[0m\u001b[0mfunc\u001b[0m\u001b[0;34m)\u001b[0m\u001b[0;34m\u001b[0m\u001b[0;34m\u001b[0m\u001b[0m\n\u001b[0m\u001b[1;32m   1501\u001b[0m             \u001b[0mres_blocks\u001b[0m\u001b[0;34m.\u001b[0m\u001b[0mextend\u001b[0m\u001b[0;34m(\u001b[0m\u001b[0mnbs\u001b[0m\u001b[0;34m)\u001b[0m\u001b[0;34m\u001b[0m\u001b[0;34m\u001b[0m\u001b[0m\n\u001b[1;32m   1502\u001b[0m \u001b[0;34m\u001b[0m\u001b[0m\n",
            "\u001b[0;32m/usr/local/lib/python3.12/dist-packages/pandas/core/internals/blocks.py\u001b[0m in \u001b[0;36mreduce\u001b[0;34m(self, func)\u001b[0m\n\u001b[1;32m    402\u001b[0m         \u001b[0;32massert\u001b[0m \u001b[0mself\u001b[0m\u001b[0;34m.\u001b[0m\u001b[0mndim\u001b[0m \u001b[0;34m==\u001b[0m \u001b[0;36m2\u001b[0m\u001b[0;34m\u001b[0m\u001b[0;34m\u001b[0m\u001b[0m\n\u001b[1;32m    403\u001b[0m \u001b[0;34m\u001b[0m\u001b[0m\n\u001b[0;32m--> 404\u001b[0;31m         \u001b[0mresult\u001b[0m \u001b[0;34m=\u001b[0m \u001b[0mfunc\u001b[0m\u001b[0;34m(\u001b[0m\u001b[0mself\u001b[0m\u001b[0;34m.\u001b[0m\u001b[0mvalues\u001b[0m\u001b[0;34m)\u001b[0m\u001b[0;34m\u001b[0m\u001b[0;34m\u001b[0m\u001b[0m\n\u001b[0m\u001b[1;32m    405\u001b[0m \u001b[0;34m\u001b[0m\u001b[0m\n\u001b[1;32m    406\u001b[0m         \u001b[0;32mif\u001b[0m \u001b[0mself\u001b[0m\u001b[0;34m.\u001b[0m\u001b[0mvalues\u001b[0m\u001b[0;34m.\u001b[0m\u001b[0mndim\u001b[0m \u001b[0;34m==\u001b[0m \u001b[0;36m1\u001b[0m\u001b[0;34m:\u001b[0m\u001b[0;34m\u001b[0m\u001b[0;34m\u001b[0m\u001b[0m\n",
            "\u001b[0;32m/usr/local/lib/python3.12/dist-packages/pandas/core/frame.py\u001b[0m in \u001b[0;36mblk_func\u001b[0;34m(values, axis)\u001b[0m\n\u001b[1;32m  11479\u001b[0m                     \u001b[0;32mreturn\u001b[0m \u001b[0mnp\u001b[0m\u001b[0;34m.\u001b[0m\u001b[0marray\u001b[0m\u001b[0;34m(\u001b[0m\u001b[0;34m[\u001b[0m\u001b[0mresult\u001b[0m\u001b[0;34m]\u001b[0m\u001b[0;34m)\u001b[0m\u001b[0;34m\u001b[0m\u001b[0;34m\u001b[0m\u001b[0m\n\u001b[1;32m  11480\u001b[0m             \u001b[0;32melse\u001b[0m\u001b[0;34m:\u001b[0m\u001b[0;34m\u001b[0m\u001b[0;34m\u001b[0m\u001b[0m\n\u001b[0;32m> 11481\u001b[0;31m                 \u001b[0;32mreturn\u001b[0m \u001b[0mop\u001b[0m\u001b[0;34m(\u001b[0m\u001b[0mvalues\u001b[0m\u001b[0;34m,\u001b[0m \u001b[0maxis\u001b[0m\u001b[0;34m=\u001b[0m\u001b[0maxis\u001b[0m\u001b[0;34m,\u001b[0m \u001b[0mskipna\u001b[0m\u001b[0;34m=\u001b[0m\u001b[0mskipna\u001b[0m\u001b[0;34m,\u001b[0m \u001b[0;34m**\u001b[0m\u001b[0mkwds\u001b[0m\u001b[0;34m)\u001b[0m\u001b[0;34m\u001b[0m\u001b[0;34m\u001b[0m\u001b[0m\n\u001b[0m\u001b[1;32m  11482\u001b[0m \u001b[0;34m\u001b[0m\u001b[0m\n\u001b[1;32m  11483\u001b[0m         \u001b[0;32mdef\u001b[0m \u001b[0m_get_data\u001b[0m\u001b[0;34m(\u001b[0m\u001b[0;34m)\u001b[0m \u001b[0;34m->\u001b[0m \u001b[0mDataFrame\u001b[0m\u001b[0;34m:\u001b[0m\u001b[0;34m\u001b[0m\u001b[0;34m\u001b[0m\u001b[0m\n",
            "\u001b[0;32m/usr/local/lib/python3.12/dist-packages/pandas/core/nanops.py\u001b[0m in \u001b[0;36mf\u001b[0;34m(values, axis, skipna, **kwds)\u001b[0m\n\u001b[1;32m    145\u001b[0m                     \u001b[0mresult\u001b[0m \u001b[0;34m=\u001b[0m \u001b[0malt\u001b[0m\u001b[0;34m(\u001b[0m\u001b[0mvalues\u001b[0m\u001b[0;34m,\u001b[0m \u001b[0maxis\u001b[0m\u001b[0;34m=\u001b[0m\u001b[0maxis\u001b[0m\u001b[0;34m,\u001b[0m \u001b[0mskipna\u001b[0m\u001b[0;34m=\u001b[0m\u001b[0mskipna\u001b[0m\u001b[0;34m,\u001b[0m \u001b[0;34m**\u001b[0m\u001b[0mkwds\u001b[0m\u001b[0;34m)\u001b[0m\u001b[0;34m\u001b[0m\u001b[0;34m\u001b[0m\u001b[0m\n\u001b[1;32m    146\u001b[0m             \u001b[0;32melse\u001b[0m\u001b[0;34m:\u001b[0m\u001b[0;34m\u001b[0m\u001b[0;34m\u001b[0m\u001b[0m\n\u001b[0;32m--> 147\u001b[0;31m                 \u001b[0mresult\u001b[0m \u001b[0;34m=\u001b[0m \u001b[0malt\u001b[0m\u001b[0;34m(\u001b[0m\u001b[0mvalues\u001b[0m\u001b[0;34m,\u001b[0m \u001b[0maxis\u001b[0m\u001b[0;34m=\u001b[0m\u001b[0maxis\u001b[0m\u001b[0;34m,\u001b[0m \u001b[0mskipna\u001b[0m\u001b[0;34m=\u001b[0m\u001b[0mskipna\u001b[0m\u001b[0;34m,\u001b[0m \u001b[0;34m**\u001b[0m\u001b[0mkwds\u001b[0m\u001b[0;34m)\u001b[0m\u001b[0;34m\u001b[0m\u001b[0;34m\u001b[0m\u001b[0m\n\u001b[0m\u001b[1;32m    148\u001b[0m \u001b[0;34m\u001b[0m\u001b[0m\n\u001b[1;32m    149\u001b[0m             \u001b[0;32mreturn\u001b[0m \u001b[0mresult\u001b[0m\u001b[0;34m\u001b[0m\u001b[0;34m\u001b[0m\u001b[0m\n",
            "\u001b[0;32m/usr/local/lib/python3.12/dist-packages/pandas/core/nanops.py\u001b[0m in \u001b[0;36mnew_func\u001b[0;34m(values, axis, skipna, mask, **kwargs)\u001b[0m\n\u001b[1;32m    402\u001b[0m             \u001b[0mmask\u001b[0m \u001b[0;34m=\u001b[0m \u001b[0misna\u001b[0m\u001b[0;34m(\u001b[0m\u001b[0mvalues\u001b[0m\u001b[0;34m)\u001b[0m\u001b[0;34m\u001b[0m\u001b[0;34m\u001b[0m\u001b[0m\n\u001b[1;32m    403\u001b[0m \u001b[0;34m\u001b[0m\u001b[0m\n\u001b[0;32m--> 404\u001b[0;31m         \u001b[0mresult\u001b[0m \u001b[0;34m=\u001b[0m \u001b[0mfunc\u001b[0m\u001b[0;34m(\u001b[0m\u001b[0mvalues\u001b[0m\u001b[0;34m,\u001b[0m \u001b[0maxis\u001b[0m\u001b[0;34m=\u001b[0m\u001b[0maxis\u001b[0m\u001b[0;34m,\u001b[0m \u001b[0mskipna\u001b[0m\u001b[0;34m=\u001b[0m\u001b[0mskipna\u001b[0m\u001b[0;34m,\u001b[0m \u001b[0mmask\u001b[0m\u001b[0;34m=\u001b[0m\u001b[0mmask\u001b[0m\u001b[0;34m,\u001b[0m \u001b[0;34m**\u001b[0m\u001b[0mkwargs\u001b[0m\u001b[0;34m)\u001b[0m\u001b[0;34m\u001b[0m\u001b[0;34m\u001b[0m\u001b[0m\n\u001b[0m\u001b[1;32m    405\u001b[0m \u001b[0;34m\u001b[0m\u001b[0m\n\u001b[1;32m    406\u001b[0m         \u001b[0;32mif\u001b[0m \u001b[0mdatetimelike\u001b[0m\u001b[0;34m:\u001b[0m\u001b[0;34m\u001b[0m\u001b[0;34m\u001b[0m\u001b[0m\n",
            "\u001b[0;32m/usr/local/lib/python3.12/dist-packages/pandas/core/nanops.py\u001b[0m in \u001b[0;36mnanmean\u001b[0;34m(values, axis, skipna, mask)\u001b[0m\n\u001b[1;32m    717\u001b[0m \u001b[0;34m\u001b[0m\u001b[0m\n\u001b[1;32m    718\u001b[0m     \u001b[0mcount\u001b[0m \u001b[0;34m=\u001b[0m \u001b[0m_get_counts\u001b[0m\u001b[0;34m(\u001b[0m\u001b[0mvalues\u001b[0m\u001b[0;34m.\u001b[0m\u001b[0mshape\u001b[0m\u001b[0;34m,\u001b[0m \u001b[0mmask\u001b[0m\u001b[0;34m,\u001b[0m \u001b[0maxis\u001b[0m\u001b[0;34m,\u001b[0m \u001b[0mdtype\u001b[0m\u001b[0;34m=\u001b[0m\u001b[0mdtype_count\u001b[0m\u001b[0;34m)\u001b[0m\u001b[0;34m\u001b[0m\u001b[0;34m\u001b[0m\u001b[0m\n\u001b[0;32m--> 719\u001b[0;31m     \u001b[0mthe_sum\u001b[0m \u001b[0;34m=\u001b[0m \u001b[0mvalues\u001b[0m\u001b[0;34m.\u001b[0m\u001b[0msum\u001b[0m\u001b[0;34m(\u001b[0m\u001b[0maxis\u001b[0m\u001b[0;34m,\u001b[0m \u001b[0mdtype\u001b[0m\u001b[0;34m=\u001b[0m\u001b[0mdtype_sum\u001b[0m\u001b[0;34m)\u001b[0m\u001b[0;34m\u001b[0m\u001b[0;34m\u001b[0m\u001b[0m\n\u001b[0m\u001b[1;32m    720\u001b[0m     \u001b[0mthe_sum\u001b[0m \u001b[0;34m=\u001b[0m \u001b[0m_ensure_numeric\u001b[0m\u001b[0;34m(\u001b[0m\u001b[0mthe_sum\u001b[0m\u001b[0;34m)\u001b[0m\u001b[0;34m\u001b[0m\u001b[0;34m\u001b[0m\u001b[0m\n\u001b[1;32m    721\u001b[0m \u001b[0;34m\u001b[0m\u001b[0m\n",
            "\u001b[0;32m/usr/local/lib/python3.12/dist-packages/numpy/_core/_methods.py\u001b[0m in \u001b[0;36m_sum\u001b[0;34m(a, axis, dtype, out, keepdims, initial, where)\u001b[0m\n\u001b[1;32m     50\u001b[0m def _sum(a, axis=None, dtype=None, out=None, keepdims=False,\n\u001b[1;32m     51\u001b[0m          initial=_NoValue, where=True):\n\u001b[0;32m---> 52\u001b[0;31m     \u001b[0;32mreturn\u001b[0m \u001b[0mumr_sum\u001b[0m\u001b[0;34m(\u001b[0m\u001b[0ma\u001b[0m\u001b[0;34m,\u001b[0m \u001b[0maxis\u001b[0m\u001b[0;34m,\u001b[0m \u001b[0mdtype\u001b[0m\u001b[0;34m,\u001b[0m \u001b[0mout\u001b[0m\u001b[0;34m,\u001b[0m \u001b[0mkeepdims\u001b[0m\u001b[0;34m,\u001b[0m \u001b[0minitial\u001b[0m\u001b[0;34m,\u001b[0m \u001b[0mwhere\u001b[0m\u001b[0;34m)\u001b[0m\u001b[0;34m\u001b[0m\u001b[0;34m\u001b[0m\u001b[0m\n\u001b[0m\u001b[1;32m     53\u001b[0m \u001b[0;34m\u001b[0m\u001b[0m\n\u001b[1;32m     54\u001b[0m def _prod(a, axis=None, dtype=None, out=None, keepdims=False,\n",
            "\u001b[0;31mTypeError\u001b[0m: can only concatenate str (not \"int\") to str"
          ]
        }
      ]
    },
    {
      "cell_type": "code",
      "source": [
        "for col in df.columns:\n",
        "    if df[col].dtype == \"object\":   # categorical\n",
        "        df[col].fillna(df[col].mode()[0], inplace=True)\n",
        "    else:   # numeric\n",
        "        df[col].fillna(df[col].mean(), inplace=True)"
      ],
      "metadata": {
        "colab": {
          "base_uri": "https://localhost:8080/"
        },
        "id": "6M5os-AJ_X71",
        "outputId": "212df475-aa44-4554-9987-df865e47543c"
      },
      "execution_count": 32,
      "outputs": [
        {
          "output_type": "stream",
          "name": "stderr",
          "text": [
            "/tmp/ipython-input-3581600240.py:5: FutureWarning: A value is trying to be set on a copy of a DataFrame or Series through chained assignment using an inplace method.\n",
            "The behavior will change in pandas 3.0. This inplace method will never work because the intermediate object on which we are setting values always behaves as a copy.\n",
            "\n",
            "For example, when doing 'df[col].method(value, inplace=True)', try using 'df.method({col: value}, inplace=True)' or df[col] = df[col].method(value) instead, to perform the operation inplace on the original object.\n",
            "\n",
            "\n",
            "  df[col].fillna(df[col].mean(), inplace=True)\n",
            "/tmp/ipython-input-3581600240.py:3: FutureWarning: A value is trying to be set on a copy of a DataFrame or Series through chained assignment using an inplace method.\n",
            "The behavior will change in pandas 3.0. This inplace method will never work because the intermediate object on which we are setting values always behaves as a copy.\n",
            "\n",
            "For example, when doing 'df[col].method(value, inplace=True)', try using 'df.method({col: value}, inplace=True)' or df[col] = df[col].method(value) instead, to perform the operation inplace on the original object.\n",
            "\n",
            "\n",
            "  df[col].fillna(df[col].mode()[0], inplace=True)\n",
            "/tmp/ipython-input-3581600240.py:3: FutureWarning: Downcasting object dtype arrays on .fillna, .ffill, .bfill is deprecated and will change in a future version. Call result.infer_objects(copy=False) instead. To opt-in to the future behavior, set `pd.set_option('future.no_silent_downcasting', True)`\n",
            "  df[col].fillna(df[col].mode()[0], inplace=True)\n"
          ]
        }
      ]
    },
    {
      "cell_type": "code",
      "source": [
        "df = pd.get_dummies(df, drop_first=True)"
      ],
      "metadata": {
        "id": "V3OqVLUn_etI"
      },
      "execution_count": 33,
      "outputs": []
    },
    {
      "cell_type": "code",
      "source": [
        "print(df.isnull().sum())"
      ],
      "metadata": {
        "colab": {
          "base_uri": "https://localhost:8080/"
        },
        "id": "-11pYMJ8_lm1",
        "outputId": "825d2b57-d480-459a-8be6-e31ad1a50bb5"
      },
      "execution_count": 34,
      "outputs": [
        {
          "output_type": "stream",
          "name": "stdout",
          "text": [
            "id                          0\n",
            "age                         0\n",
            "trestbps                    0\n",
            "chol                        0\n",
            "fbs                         0\n",
            "thalch                      0\n",
            "exang                       0\n",
            "oldpeak                     0\n",
            "ca                          0\n",
            "num                         0\n",
            "sex_Male                    0\n",
            "dataset_Hungary             0\n",
            "dataset_Switzerland         0\n",
            "dataset_VA Long Beach       0\n",
            "cp_atypical angina          0\n",
            "cp_non-anginal              0\n",
            "cp_typical angina           0\n",
            "restecg_normal              0\n",
            "restecg_st-t abnormality    0\n",
            "slope_flat                  0\n",
            "slope_upsloping             0\n",
            "thal_normal                 0\n",
            "thal_reversable defect      0\n",
            "dtype: int64\n"
          ]
        }
      ]
    },
    {
      "cell_type": "code",
      "source": [
        "df.fillna(df.mean(), inplace=True)"
      ],
      "metadata": {
        "id": "3y_yYkE2AZc4"
      },
      "execution_count": 35,
      "outputs": []
    },
    {
      "cell_type": "code",
      "source": [
        "df = pd.get_dummies(df, drop_first=True)"
      ],
      "metadata": {
        "id": "NTtCCPFNAdGR"
      },
      "execution_count": 36,
      "outputs": []
    },
    {
      "cell_type": "code",
      "source": [
        "X = df.drop(\"target\", axis=1)\n",
        "y = df[\"target\"]"
      ],
      "metadata": {
        "colab": {
          "base_uri": "https://localhost:8080/",
          "height": 318
        },
        "id": "PcZ2tiKYAkHv",
        "outputId": "cda7a809-8b0c-46a0-c15e-16b23ce7ff30"
      },
      "execution_count": 37,
      "outputs": [
        {
          "output_type": "error",
          "ename": "KeyError",
          "evalue": "\"['target'] not found in axis\"",
          "traceback": [
            "\u001b[0;31m---------------------------------------------------------------------------\u001b[0m",
            "\u001b[0;31mKeyError\u001b[0m                                  Traceback (most recent call last)",
            "\u001b[0;32m/tmp/ipython-input-380556269.py\u001b[0m in \u001b[0;36m<cell line: 0>\u001b[0;34m()\u001b[0m\n\u001b[0;32m----> 1\u001b[0;31m \u001b[0mX\u001b[0m \u001b[0;34m=\u001b[0m \u001b[0mdf\u001b[0m\u001b[0;34m.\u001b[0m\u001b[0mdrop\u001b[0m\u001b[0;34m(\u001b[0m\u001b[0;34m\"target\"\u001b[0m\u001b[0;34m,\u001b[0m \u001b[0maxis\u001b[0m\u001b[0;34m=\u001b[0m\u001b[0;36m1\u001b[0m\u001b[0;34m)\u001b[0m\u001b[0;34m\u001b[0m\u001b[0;34m\u001b[0m\u001b[0m\n\u001b[0m\u001b[1;32m      2\u001b[0m \u001b[0my\u001b[0m \u001b[0;34m=\u001b[0m \u001b[0mdf\u001b[0m\u001b[0;34m[\u001b[0m\u001b[0;34m\"target\"\u001b[0m\u001b[0;34m]\u001b[0m\u001b[0;34m\u001b[0m\u001b[0;34m\u001b[0m\u001b[0m\n",
            "\u001b[0;32m/usr/local/lib/python3.12/dist-packages/pandas/core/frame.py\u001b[0m in \u001b[0;36mdrop\u001b[0;34m(self, labels, axis, index, columns, level, inplace, errors)\u001b[0m\n\u001b[1;32m   5579\u001b[0m                 \u001b[0mweight\u001b[0m  \u001b[0;36m1.0\u001b[0m     \u001b[0;36m0.8\u001b[0m\u001b[0;34m\u001b[0m\u001b[0;34m\u001b[0m\u001b[0m\n\u001b[1;32m   5580\u001b[0m         \"\"\"\n\u001b[0;32m-> 5581\u001b[0;31m         return super().drop(\n\u001b[0m\u001b[1;32m   5582\u001b[0m             \u001b[0mlabels\u001b[0m\u001b[0;34m=\u001b[0m\u001b[0mlabels\u001b[0m\u001b[0;34m,\u001b[0m\u001b[0;34m\u001b[0m\u001b[0;34m\u001b[0m\u001b[0m\n\u001b[1;32m   5583\u001b[0m             \u001b[0maxis\u001b[0m\u001b[0;34m=\u001b[0m\u001b[0maxis\u001b[0m\u001b[0;34m,\u001b[0m\u001b[0;34m\u001b[0m\u001b[0;34m\u001b[0m\u001b[0m\n",
            "\u001b[0;32m/usr/local/lib/python3.12/dist-packages/pandas/core/generic.py\u001b[0m in \u001b[0;36mdrop\u001b[0;34m(self, labels, axis, index, columns, level, inplace, errors)\u001b[0m\n\u001b[1;32m   4786\u001b[0m         \u001b[0;32mfor\u001b[0m \u001b[0maxis\u001b[0m\u001b[0;34m,\u001b[0m \u001b[0mlabels\u001b[0m \u001b[0;32min\u001b[0m \u001b[0maxes\u001b[0m\u001b[0;34m.\u001b[0m\u001b[0mitems\u001b[0m\u001b[0;34m(\u001b[0m\u001b[0;34m)\u001b[0m\u001b[0;34m:\u001b[0m\u001b[0;34m\u001b[0m\u001b[0;34m\u001b[0m\u001b[0m\n\u001b[1;32m   4787\u001b[0m             \u001b[0;32mif\u001b[0m \u001b[0mlabels\u001b[0m \u001b[0;32mis\u001b[0m \u001b[0;32mnot\u001b[0m \u001b[0;32mNone\u001b[0m\u001b[0;34m:\u001b[0m\u001b[0;34m\u001b[0m\u001b[0;34m\u001b[0m\u001b[0m\n\u001b[0;32m-> 4788\u001b[0;31m                 \u001b[0mobj\u001b[0m \u001b[0;34m=\u001b[0m \u001b[0mobj\u001b[0m\u001b[0;34m.\u001b[0m\u001b[0m_drop_axis\u001b[0m\u001b[0;34m(\u001b[0m\u001b[0mlabels\u001b[0m\u001b[0;34m,\u001b[0m \u001b[0maxis\u001b[0m\u001b[0;34m,\u001b[0m \u001b[0mlevel\u001b[0m\u001b[0;34m=\u001b[0m\u001b[0mlevel\u001b[0m\u001b[0;34m,\u001b[0m \u001b[0merrors\u001b[0m\u001b[0;34m=\u001b[0m\u001b[0merrors\u001b[0m\u001b[0;34m)\u001b[0m\u001b[0;34m\u001b[0m\u001b[0;34m\u001b[0m\u001b[0m\n\u001b[0m\u001b[1;32m   4789\u001b[0m \u001b[0;34m\u001b[0m\u001b[0m\n\u001b[1;32m   4790\u001b[0m         \u001b[0;32mif\u001b[0m \u001b[0minplace\u001b[0m\u001b[0;34m:\u001b[0m\u001b[0;34m\u001b[0m\u001b[0;34m\u001b[0m\u001b[0m\n",
            "\u001b[0;32m/usr/local/lib/python3.12/dist-packages/pandas/core/generic.py\u001b[0m in \u001b[0;36m_drop_axis\u001b[0;34m(self, labels, axis, level, errors, only_slice)\u001b[0m\n\u001b[1;32m   4828\u001b[0m                 \u001b[0mnew_axis\u001b[0m \u001b[0;34m=\u001b[0m \u001b[0maxis\u001b[0m\u001b[0;34m.\u001b[0m\u001b[0mdrop\u001b[0m\u001b[0;34m(\u001b[0m\u001b[0mlabels\u001b[0m\u001b[0;34m,\u001b[0m \u001b[0mlevel\u001b[0m\u001b[0;34m=\u001b[0m\u001b[0mlevel\u001b[0m\u001b[0;34m,\u001b[0m \u001b[0merrors\u001b[0m\u001b[0;34m=\u001b[0m\u001b[0merrors\u001b[0m\u001b[0;34m)\u001b[0m\u001b[0;34m\u001b[0m\u001b[0;34m\u001b[0m\u001b[0m\n\u001b[1;32m   4829\u001b[0m             \u001b[0;32melse\u001b[0m\u001b[0;34m:\u001b[0m\u001b[0;34m\u001b[0m\u001b[0;34m\u001b[0m\u001b[0m\n\u001b[0;32m-> 4830\u001b[0;31m                 \u001b[0mnew_axis\u001b[0m \u001b[0;34m=\u001b[0m \u001b[0maxis\u001b[0m\u001b[0;34m.\u001b[0m\u001b[0mdrop\u001b[0m\u001b[0;34m(\u001b[0m\u001b[0mlabels\u001b[0m\u001b[0;34m,\u001b[0m \u001b[0merrors\u001b[0m\u001b[0;34m=\u001b[0m\u001b[0merrors\u001b[0m\u001b[0;34m)\u001b[0m\u001b[0;34m\u001b[0m\u001b[0;34m\u001b[0m\u001b[0m\n\u001b[0m\u001b[1;32m   4831\u001b[0m             \u001b[0mindexer\u001b[0m \u001b[0;34m=\u001b[0m \u001b[0maxis\u001b[0m\u001b[0;34m.\u001b[0m\u001b[0mget_indexer\u001b[0m\u001b[0;34m(\u001b[0m\u001b[0mnew_axis\u001b[0m\u001b[0;34m)\u001b[0m\u001b[0;34m\u001b[0m\u001b[0;34m\u001b[0m\u001b[0m\n\u001b[1;32m   4832\u001b[0m \u001b[0;34m\u001b[0m\u001b[0m\n",
            "\u001b[0;32m/usr/local/lib/python3.12/dist-packages/pandas/core/indexes/base.py\u001b[0m in \u001b[0;36mdrop\u001b[0;34m(self, labels, errors)\u001b[0m\n\u001b[1;32m   7068\u001b[0m         \u001b[0;32mif\u001b[0m \u001b[0mmask\u001b[0m\u001b[0;34m.\u001b[0m\u001b[0many\u001b[0m\u001b[0;34m(\u001b[0m\u001b[0;34m)\u001b[0m\u001b[0;34m:\u001b[0m\u001b[0;34m\u001b[0m\u001b[0;34m\u001b[0m\u001b[0m\n\u001b[1;32m   7069\u001b[0m             \u001b[0;32mif\u001b[0m \u001b[0merrors\u001b[0m \u001b[0;34m!=\u001b[0m \u001b[0;34m\"ignore\"\u001b[0m\u001b[0;34m:\u001b[0m\u001b[0;34m\u001b[0m\u001b[0;34m\u001b[0m\u001b[0m\n\u001b[0;32m-> 7070\u001b[0;31m                 \u001b[0;32mraise\u001b[0m \u001b[0mKeyError\u001b[0m\u001b[0;34m(\u001b[0m\u001b[0;34mf\"{labels[mask].tolist()} not found in axis\"\u001b[0m\u001b[0;34m)\u001b[0m\u001b[0;34m\u001b[0m\u001b[0;34m\u001b[0m\u001b[0m\n\u001b[0m\u001b[1;32m   7071\u001b[0m             \u001b[0mindexer\u001b[0m \u001b[0;34m=\u001b[0m \u001b[0mindexer\u001b[0m\u001b[0;34m[\u001b[0m\u001b[0;34m~\u001b[0m\u001b[0mmask\u001b[0m\u001b[0;34m]\u001b[0m\u001b[0;34m\u001b[0m\u001b[0;34m\u001b[0m\u001b[0m\n\u001b[1;32m   7072\u001b[0m         \u001b[0;32mreturn\u001b[0m \u001b[0mself\u001b[0m\u001b[0;34m.\u001b[0m\u001b[0mdelete\u001b[0m\u001b[0;34m(\u001b[0m\u001b[0mindexer\u001b[0m\u001b[0;34m)\u001b[0m\u001b[0;34m\u001b[0m\u001b[0;34m\u001b[0m\u001b[0m\n",
            "\u001b[0;31mKeyError\u001b[0m: \"['target'] not found in axis\""
          ]
        }
      ]
    },
    {
      "cell_type": "code",
      "source": [
        "df = df.drop(\"id\", axis=1)"
      ],
      "metadata": {
        "id": "tBNqi9v9AtrW"
      },
      "execution_count": 38,
      "outputs": []
    },
    {
      "cell_type": "code",
      "source": [
        "df[\"num\"] = df[\"num\"].apply(lambda x: 1 if x > 0 else 0)\n",
        "\n",
        "X = df.drop(\"num\", axis=1)\n",
        "y = df[\"num\"]"
      ],
      "metadata": {
        "id": "Psfo09diAx-e"
      },
      "execution_count": 40,
      "outputs": []
    },
    {
      "cell_type": "code",
      "source": [
        "from sklearn.model_selection import train_test_split\n",
        "\n",
        "X_train, X_test, y_train, y_test = train_test_split(\n",
        "    X, y, test_size=0.2, random_state=42\n",
        ")"
      ],
      "metadata": {
        "id": "ic3Lh68fEbco"
      },
      "execution_count": 41,
      "outputs": []
    },
    {
      "cell_type": "code",
      "source": [
        "from sklearn.preprocessing import StandardScaler\n",
        "\n",
        "scaler = StandardScaler()\n",
        "X_train = scaler.fit_transform(X_train)\n",
        "X_test = scaler.transform(X_test)"
      ],
      "metadata": {
        "id": "3v9l_hWOEyQT"
      },
      "execution_count": 42,
      "outputs": []
    },
    {
      "cell_type": "code",
      "source": [
        "from sklearn.linear_model import LogisticRegression\n",
        "from sklearn.tree import DecisionTreeClassifier\n",
        "from sklearn.ensemble import RandomForestClassifier\n",
        "\n",
        "# Logistic Regression\n",
        "lr = LogisticRegression(max_iter=1000)\n",
        "lr.fit(X_train, y_train)\n",
        "y_pred_lr = lr.predict(X_test)\n",
        "\n",
        "# Decision Tree\n",
        "dt = DecisionTreeClassifier(random_state=42)\n",
        "dt.fit(X_train, y_train)\n",
        "y_pred_dt = dt.predict(X_test)\n",
        "\n",
        "# Random Forest\n",
        "rf = RandomForestClassifier(random_state=42)\n",
        "rf.fit(X_train, y_train)\n",
        "y_pred_rf = rf.predict(X_test)"
      ],
      "metadata": {
        "id": "K6-8fpXKE3h4"
      },
      "execution_count": 43,
      "outputs": []
    },
    {
      "cell_type": "code",
      "source": [
        "from sklearn.metrics import accuracy_score, precision_score, recall_score, f1_score, roc_auc_score, confusion_matrix\n",
        "import seaborn as sns\n",
        "import matplotlib.pyplot as plt\n",
        "\n",
        "def evaluate_model(y_true, y_pred, model_name):\n",
        "    print(f\"\\n📊 {model_name} Results:\")\n",
        "    print(\"Accuracy :\", accuracy_score(y_true, y_pred))\n",
        "    print(\"Precision:\", precision_score(y_true, y_pred))\n",
        "    print(\"Recall   :\", recall_score(y_true, y_pred))\n",
        "    print(\"F1 Score :\", f1_score(y_true, y_pred))\n",
        "    print(\"ROC-AUC  :\", roc_auc_score(y_true, y_pred))\n",
        "\n",
        "# Evaluate all\n",
        "evaluate_model(y_test, y_pred_lr, \"Logistic Regression\")\n",
        "evaluate_model(y_test, y_pred_dt, \"Decision Tree\")\n",
        "evaluate_model(y_test, y_pred_rf, \"Random Forest\")"
      ],
      "metadata": {
        "colab": {
          "base_uri": "https://localhost:8080/"
        },
        "id": "QOWGLU0MIKuZ",
        "outputId": "dfc6ad02-a4aa-4dc9-86e3-531ef7395f13"
      },
      "execution_count": 44,
      "outputs": [
        {
          "output_type": "stream",
          "name": "stdout",
          "text": [
            "\n",
            "📊 Logistic Regression Results:\n",
            "Accuracy : 0.842391304347826\n",
            "Precision: 0.8773584905660378\n",
            "Recall   : 0.8532110091743119\n",
            "F1 Score : 0.8651162790697674\n",
            "ROC-AUC  : 0.8399388379204893\n",
            "\n",
            "📊 Decision Tree Results:\n",
            "Accuracy : 0.7717391304347826\n",
            "Precision: 0.8526315789473684\n",
            "Recall   : 0.7431192660550459\n",
            "F1 Score : 0.7941176470588235\n",
            "ROC-AUC  : 0.7782262996941897\n",
            "\n",
            "📊 Random Forest Results:\n",
            "Accuracy : 0.8532608695652174\n",
            "Precision: 0.91\n",
            "Recall   : 0.8348623853211009\n",
            "F1 Score : 0.8708133971291866\n",
            "ROC-AUC  : 0.8574311926605505\n"
          ]
        }
      ]
    },
    {
      "cell_type": "code",
      "source": [
        "sns.heatmap(confusion_matrix(y_test, y_pred_rf), annot=True, fmt='d', cmap=\"Blues\")\n",
        "plt.title(\"Confusion Matrix - Random Forest\")\n",
        "plt.xlabel(\"Predicted\")\n",
        "plt.ylabel(\"Actual\")\n",
        "plt.show()"
      ],
      "metadata": {
        "colab": {
          "base_uri": "https://localhost:8080/",
          "height": 472
        },
        "id": "64Gg9d0hIcGR",
        "outputId": "ef373d69-c9f5-4099-cf5a-344f80f3f3f4"
      },
      "execution_count": 45,
      "outputs": [
        {
          "output_type": "display_data",
          "data": {
            "text/plain": [
              "<Figure size 640x480 with 2 Axes>"
            ],
            "image/png": "[encoded data removed]"
          },
          "metadata": {}
        }
      ]
    },
    {
      "cell_type": "code",
      "source": [
        "from sklearn.metrics import RocCurveDisplay\n",
        "\n",
        "RocCurveDisplay.from_estimator(rf, X_test, y_test)\n",
        "plt.show()"
      ],
      "metadata": {
        "colab": {
          "base_uri": "https://localhost:8080/",
          "height": 451
        },
        "id": "9LKXcsphI8Fx",
        "outputId": "986d09bb-6871-4fd6-9460-b8fd1981cd01"
      },
      "execution_count": 46,
      "outputs": [
        {
          "output_type": "display_data",
          "data": {
            "text/plain": [
              "<Figure size 640x480 with 1 Axes>"
            ],
            "image/png": "[encoded data removed]"
          },
          "metadata": {}
        }
      ]
    },
    {
      "cell_type": "code",
      "source": [
        "from sklearn.model_selection import GridSearchCV\n",
        "\n",
        "param_grid = {\n",
        "    'n_estimators': [100, 200, 300],\n",
        "    'max_depth': [None, 5, 10]\n",
        "}\n",
        "grid = GridSearchCV(RandomForestClassifier(random_state=42), param_grid, cv=5)\n",
        "grid.fit(X_train, y_train)\n",
        "print(\"Best Parameters:\", grid.best_params_)"
      ],
      "metadata": {
        "colab": {
          "base_uri": "https://localhost:8080/"
        },
        "id": "qQ_cmY7mJMTW",
        "outputId": "bcfe1f69-0932-422f-fd68-27e8cdb5927a"
      },
      "execution_count": 47,
      "outputs": [
        {
          "output_type": "stream",
          "name": "stdout",
          "text": [
            "Best Parameters: {'max_depth': 5, 'n_estimators': 300}\n"
          ]
        }
      ]
    },
    {
      "cell_type": "code",
      "source": [
        "import numpy as np\n",
        "\n",
        "importance = rf.feature_importances_\n",
        "features = X.columns\n",
        "for f, score in zip(features, importance):\n",
        "    print(f, \":\", np.round(score, 3))"
      ],
      "metadata": {
        "colab": {
          "base_uri": "https://localhost:8080/"
        },
        "id": "nmbcYheLM7ua",
        "outputId": "0f0b9418-a4c2-42a1-83ca-a5e505bfe605"
      },
      "execution_count": 48,
      "outputs": [
        {
          "output_type": "stream",
          "name": "stdout",
          "text": [
            "age : 0.099\n",
            "trestbps : 0.065\n",
            "chol : 0.117\n",
            "fbs : 0.013\n",
            "thalch : 0.118\n",
            "exang : 0.082\n",
            "oldpeak : 0.116\n",
            "ca : 0.059\n",
            "sex_Male : 0.047\n",
            "dataset_Hungary : 0.02\n",
            "dataset_Switzerland : 0.035\n",
            "dataset_VA Long Beach : 0.015\n",
            "cp_atypical angina : 0.068\n",
            "cp_non-anginal : 0.031\n",
            "cp_typical angina : 0.016\n",
            "restecg_normal : 0.016\n",
            "restecg_st-t abnormality : 0.011\n",
            "slope_flat : 0.013\n",
            "slope_upsloping : 0.014\n",
            "thal_normal : 0.028\n",
            "thal_reversable defect : 0.017\n"
          ]
        }
      ]
    },
    {
      "cell_type": "code",
      "source": [
        "import joblib\n",
        "joblib.dump(rf, \"disease_model.pkl\")"
      ],
      "metadata": {
        "colab": {
          "base_uri": "https://localhost:8080/"
        },
        "id": "bQ9DlUrAM97S",
        "outputId": "f038562c-cfbd-42e1-b572-07d15804faa8"
      },
      "execution_count": 49,
      "outputs": [
        {
          "output_type": "execute_result",
          "data": {
            "text/plain": [
              "['disease_model.pkl']"
            ]
          },
          "metadata": {},
          "execution_count": 49
        }
      ]
    },
    {
      "cell_type": "code",
      "source": [
        "# Load model\n",
        "model = joblib.load(\"disease_model.pkl\")\n",
        "\n",
        "# Example: pick one test sample\n",
        "sample = X_test[0].reshape(1, -1)\n",
        "print(\"Prediction (1 = Disease, 0 = No Disease):\", model.predict(sample))"
      ],
      "metadata": {
        "colab": {
          "base_uri": "https://localhost:8080/"
        },
        "id": "NuydSdJadlTb",
        "outputId": "5e2c8664-ab6f-4abb-b8f1-b2ce811131bc"
      },
      "execution_count": 50,
      "outputs": [
        {
          "output_type": "stream",
          "name": "stdout",
          "text": [
            "Prediction (1 = Disease, 0 = No Disease): [0]\n"
          ]
        }
      ]
    },
    {
      "cell_type": "code",
      "source": [
        "# Build results table\n",
        "results = []\n",
        "\n",
        "models = {\n",
        "    \"Logistic Regression\": (lr, y_pred_lr),\n",
        "    \"Decision Tree\": (dt, y_pred_dt),\n",
        "    \"Random Forest\": (rf, y_pred_rf)\n",
        "}\n",
        "\n",
        "for name, (model, y_pred) in models.items():\n",
        "    results.append({\n",
        "        \"Model\": name,\n",
        "        \"Accuracy\": round(accuracy_score(y_test, y_pred), 3),\n",
        "        \"Precision\": round(precision_score(y_test, y_pred), 3),\n",
        "        \"Recall\": round(recall_score(y_test, y_pred), 3),\n",
        "        \"F1 Score\": round(f1_score(y_test, y_pred), 3),\n",
        "        \"ROC-AUC\": round(roc_auc_score(y_test, y_pred), 3)\n",
        "    })\n",
        "\n",
        "results_df = pd.DataFrame(results)\n",
        "results_df"
      ],
      "metadata": {
        "colab": {
          "base_uri": "https://localhost:8080/",
          "height": 143
        },
        "id": "I38ZfObgfH8k",
        "outputId": "6b0bed24-9451-46b1-9464-564538e50570"
      },
      "execution_count": 51,
      "outputs": [
        {
          "output_type": "execute_result",
          "data": {
            "text/plain": [
              "                 Model  Accuracy  Precision  Recall  F1 Score  ROC-AUC\n",
              "0  Logistic Regression     0.842      0.877   0.853     0.865    0.840\n",
              "1        Decision Tree     0.772      0.853   0.743     0.794    0.778\n",
              "2        Random Forest     0.853      0.910   0.835     0.871    0.857"
            ],
            "text/html": [
              "\n",
              "  <div id=\"df-c6e9b6fe-e002-477d-ba90-14533185ff71\" class=\"colab-df-container\">\n",
              "    <div>\n",
              "<style scoped>\n",
              "    .dataframe tbody tr th:only-of-type {\n",
              "        vertical-align: middle;\n",
              "    }\n",
              "\n",
              "    .dataframe tbody tr th {\n",
              "        vertical-align: top;\n",
              "    }\n",
              "\n",
              "    .dataframe thead th {\n",
              "        text-align: right;\n",
              "    }\n",
              "</style>\n",
              "<table border=\"1\" class=\"dataframe\">\n",
              "  <thead>\n",
              "    <tr style=\"text-align: right;\">\n",
              "      <th></th>\n",
              "      <th>Model</th>\n",
              "      <th>Accuracy</th>\n",
              "      <th>Precision</th>\n",
              "      <th>Recall</th>\n",
              "      <th>F1 Score</th>\n",
              "      <th>ROC-AUC</th>\n",
              "    </tr>\n",
              "  </thead>\n",
              "  <tbody>\n",
              "    <tr>\n",
              "      <th>0</th>\n",
              "      <td>Logistic Regression</td>\n",
              "      <td>0.842</td>\n",
              "      <td>0.877</td>\n",
              "      <td>0.853</td>\n",
              "      <td>0.865</td>\n",
              "      <td>0.840</td>\n",
              "    </tr>\n",
              "    <tr>\n",
              "      <th>1</th>\n",
              "      <td>Decision Tree</td>\n",
              "      <td>0.772</td>\n",
              "      <td>0.853</td>\n",
              "      <td>0.743</td>\n",
              "      <td>0.794</td>\n",
              "      <td>0.778</td>\n",
              "    </tr>\n",
              "    <tr>\n",
              "      <th>2</th>\n",
              "      <td>Random Forest</td>\n",
              "      <td>0.853</td>\n",
              "      <td>0.910</td>\n",
              "      <td>0.835</td>\n",
              "      <td>0.871</td>\n",
              "      <td>0.857</td>\n",
              "    </tr>\n",
              "  </tbody>\n",
              "</table>\n",
              "</div>\n",
              "    <div class=\"colab-df-buttons\">\n",
              "\n",
              "  <div class=\"colab-df-container\">\n",
              "    <button class=\"colab-df-convert\" onclick=\"convertToInteractive('df-c6e9b6fe-e002-477d-ba90-14533185ff71')\"\n",
              "            title=\"Convert this dataframe to an interactive table.\"\n",
              "            style=\"display:none;\">\n",
              "\n",
              "  <svg xmlns=\"http://www.w3.org/2000/svg\" height=\"24px\" viewBox=\"0 -960 960 960\">\n",
              "    <path d=\"M120-120v-720h720v720H120Zm60-500h600v-160H180v160Zm220 220h160v-160H400v160Zm0 220h160v-160H400v160ZM180-400h160v-160H180v160Zm440 0h160v-160H620v160ZM180-180h160v-160H180v160Zm440 0h160v-160H620v160Z\"/>\n",
              "  </svg>\n",
              "    </button>\n",
              "\n",
              "  <style>\n",
              "    .colab-df-container {\n",
              "      display:flex;\n",
              "      gap: 12px;\n",
              "    }\n",
              "\n",
              "    .colab-df-convert {\n",
              "      background-color: #E8F0FE;\n",
              "      border: none;\n",
              "      border-radius: 50%;\n",
              "      cursor: pointer;\n",
              "      display: none;\n",
              "      fill: #1967D2;\n",
              "      height: 32px;\n",
              "      padding: 0 0 0 0;\n",
              "      width: 32px;\n",
              "    }\n",
              "\n",
              "    .colab-df-convert:hover {\n",
              "      background-color: #E2EBFA;\n",
              "      box-shadow: 0px 1px 2px rgba(60, 64, 67, 0.3), 0px 1px 3px 1px rgba(60, 64, 67, 0.15);\n",
              "      fill: #174EA6;\n",
              "    }\n",
              "\n",
              "    .colab-df-buttons div {\n",
              "      margin-bottom: 4px;\n",
              "    }\n",
              "\n",
              "    [theme=dark] .colab-df-convert {\n",
              "      background-color: #3B4455;\n",
              "      fill: #D2E3FC;\n",
              "    }\n",
              "\n",
              "    [theme=dark] .colab-df-convert:hover {\n",
              "      background-color: #434B5C;\n",
              "      box-shadow: 0px 1px 3px 1px rgba(0, 0, 0, 0.15);\n",
              "      filter: drop-shadow(0px 1px 2px rgba(0, 0, 0, 0.3));\n",
              "      fill: #FFFFFF;\n",
              "    }\n",
              "  </style>\n",
              "\n",
              "    <script>\n",
              "      const buttonEl =\n",
              "        document.querySelector('#df-c6e9b6fe-e002-477d-ba90-14533185ff71 button.colab-df-convert');\n",
              "      buttonEl.style.display =\n",
              "        google.colab.kernel.accessAllowed ? 'block' : 'none';\n",
              "\n",
              "      async function convertToInteractive(key) {\n",
              "        const element = document.querySelector('#df-c6e9b6fe-e002-477d-ba90-14533185ff71');\n",
              "        const dataTable =\n",
              "          await google.colab.kernel.invokeFunction('convertToInteractive',\n",
              "                                                    [key], {});\n",
              "        if (!dataTable) return;\n",
              "\n",
              "        const docLinkHtml = 'Like what you see? Visit the ' +\n",
              "          '<a target=\"_blank\" href=https://colab.research.google.com/notebooks/data_table.ipynb>data table notebook</a>'\n",
              "          + ' to learn more about interactive tables.';\n",
              "        element.innerHTML = '';\n",
              "        dataTable['output_type'] = 'display_data';\n",
              "        await google.colab.output.renderOutput(dataTable, element);\n",
              "        const docLink = document.createElement('div');\n",
              "        docLink.innerHTML = docLinkHtml;\n",
              "        element.appendChild(docLink);\n",
              "      }\n",
              "    </script>\n",
              "  </div>\n",
              "\n",
              "\n",
              "    <div id=\"df-feca4c23-13dc-4500-acca-bc2a1798cb43\">\n",
              "      <button class=\"colab-df-quickchart\" onclick=\"quickchart('df-feca4c23-13dc-4500-acca-bc2a1798cb43')\"\n",
              "                title=\"Suggest charts\"\n",
              "                style=\"display:none;\">\n",
              "\n",
              "<svg xmlns=\"http://www.w3.org/2000/svg\" height=\"24px\"viewBox=\"0 0 24 24\"\n",
              "     width=\"24px\">\n",
              "    <g>\n",
              "        <path d=\"M19 3H5c-1.1 0-2 .9-2 2v14c0 1.1.9 2 2 2h14c1.1 0 2-.9 2-2V5c0-1.1-.9-2-2-2zM9 17H7v-7h2v7zm4 0h-2V7h2v10zm4 0h-2v-4h2v4z\"/>\n",
              "    </g>\n",
              "</svg>\n",
              "      </button>\n",
              "\n",
              "<style>\n",
              "  .colab-df-quickchart {\n",
              "      --bg-color: #E8F0FE;\n",
              "      --fill-color: #1967D2;\n",
              "      --hover-bg-color: #E2EBFA;\n",
              "      --hover-fill-color: #174EA6;\n",
              "      --disabled-fill-color: #AAA;\n",
              "      --disabled-bg-color: #DDD;\n",
              "  }\n",
              "\n",
              "  [theme=dark] .colab-df-quickchart {\n",
              "      --bg-color: #3B4455;\n",
              "      --fill-color: #D2E3FC;\n",
              "      --hover-bg-color: #434B5C;\n",
              "      --hover-fill-color: #FFFFFF;\n",
              "      --disabled-bg-color: #3B4455;\n",
              "      --disabled-fill-color: #666;\n",
              "  }\n",
              "\n",
              "  .colab-df-quickchart {\n",
              "    background-color: var(--bg-color);\n",
              "    border: none;\n",
              "    border-radius: 50%;\n",
              "    cursor: pointer;\n",
              "    display: none;\n",
              "    fill: var(--fill-color);\n",
              "    height: 32px;\n",
              "    padding: 0;\n",
              "    width: 32px;\n",
              "  }\n",
              "\n",
              "  .colab-df-quickchart:hover {\n",
              "    background-color: var(--hover-bg-color);\n",
              "    box-shadow: 0 1px 2px rgba(60, 64, 67, 0.3), 0 1px 3px 1px rgba(60, 64, 67, 0.15);\n",
              "    fill: var(--button-hover-fill-color);\n",
              "  }\n",
              "\n",
              "  .colab-df-quickchart-complete:disabled,\n",
              "  .colab-df-quickchart-complete:disabled:hover {\n",
              "    background-color: var(--disabled-bg-color);\n",
              "    fill: var(--disabled-fill-color);\n",
              "    box-shadow: none;\n",
              "  }\n",
              "\n",
              "  .colab-df-spinner {\n",
              "    border: 2px solid var(--fill-color);\n",
              "    border-color: transparent;\n",
              "    border-bottom-color: var(--fill-color);\n",
              "    animation:\n",
              "      spin 1s steps(1) infinite;\n",
              "  }\n",
              "\n",
              "  @keyframes spin {\n",
              "    0% {\n",
              "      border-color: transparent;\n",
              "      border-bottom-color: var(--fill-color);\n",
              "      border-left-color: var(--fill-color);\n",
              "    }\n",
              "    20% {\n",
              "      border-color: transparent;\n",
              "      border-left-color: var(--fill-color);\n",
              "      border-top-color: var(--fill-color);\n",
              "    }\n",
              "    30% {\n",
              "      border-color: transparent;\n",
              "      border-left-color: var(--fill-color);\n",
              "      border-top-color: var(--fill-color);\n",
              "      border-right-color: var(--fill-color);\n",
              "    }\n",
              "    40% {\n",
              "      border-color: transparent;\n",
              "      border-right-color: var(--fill-color);\n",
              "      border-top-color: var(--fill-color);\n",
              "    }\n",
              "    60% {\n",
              "      border-color: transparent;\n",
              "      border-right-color: var(--fill-color);\n",
              "    }\n",
              "    80% {\n",
              "      border-color: transparent;\n",
              "      border-right-color: var(--fill-color);\n",
              "      border-bottom-color: var(--fill-color);\n",
              "    }\n",
              "    90% {\n",
              "      border-color: transparent;\n",
              "      border-bottom-color: var(--fill-color);\n",
              "    }\n",
              "  }\n",
              "</style>\n",
              "\n",
              "      <script>\n",
              "        async function quickchart(key) {\n",
              "          const quickchartButtonEl =\n",
              "            document.querySelector('#' + key + ' button');\n",
              "          quickchartButtonEl.disabled = true;  // To prevent multiple clicks.\n",
              "          quickchartButtonEl.classList.add('colab-df-spinner');\n",
              "          try {\n",
              "            const charts = await google.colab.kernel.invokeFunction(\n",
              "                'suggestCharts', [key], {});\n",
              "          } catch (error) {\n",
              "            console.error('Error during call to suggestCharts:', error);\n",
              "          }\n",
              "          quickchartButtonEl.classList.remove('colab-df-spinner');\n",
              "          quickchartButtonEl.classList.add('colab-df-quickchart-complete');\n",
              "        }\n",
              "        (() => {\n",
              "          let quickchartButtonEl =\n",
              "            document.querySelector('#df-feca4c23-13dc-4500-acca-bc2a1798cb43 button');\n",
              "          quickchartButtonEl.style.display =\n",
              "            google.colab.kernel.accessAllowed ? 'block' : 'none';\n",
              "        })();\n",
              "      </script>\n",
              "    </div>\n",
              "\n",
              "  <div id=\"id_c149b3ef-44d4-4684-aee1-d0a0dcb755c7\">\n",
              "    <style>\n",
              "      .colab-df-generate {\n",
              "        background-color: #E8F0FE;\n",
              "        border: none;\n",
              "        border-radius: 50%;\n",
              "        cursor: pointer;\n",
              "        display: none;\n",
              "        fill: #1967D2;\n",
              "        height: 32px;\n",
              "        padding: 0 0 0 0;\n",
              "        width: 32px;\n",
              "      }\n",
              "\n",
              "      .colab-df-generate:hover {\n",
              "        background-color: #E2EBFA;\n",
              "        box-shadow: 0px 1px 2px rgba(60, 64, 67, 0.3), 0px 1px 3px 1px rgba(60, 64, 67, 0.15);\n",
              "        fill: #174EA6;\n",
              "      }\n",
              "\n",
              "      [theme=dark] .colab-df-generate {\n",
              "        background-color: #3B4455;\n",
              "        fill: #D2E3FC;\n",
              "      }\n",
              "\n",
              "      [theme=dark] .colab-df-generate:hover {\n",
              "        background-color: #434B5C;\n",
              "        box-shadow: 0px 1px 3px 1px rgba(0, 0, 0, 0.15);\n",
              "        filter: drop-shadow(0px 1px 2px rgba(0, 0, 0, 0.3));\n",
              "        fill: #FFFFFF;\n",
              "      }\n",
              "    </style>\n",
              "    <button class=\"colab-df-generate\" onclick=\"generateWithVariable('results_df')\"\n",
              "            title=\"Generate code using this dataframe.\"\n",
              "            style=\"display:none;\">\n",
              "\n",
              "  <svg xmlns=\"http://www.w3.org/2000/svg\" height=\"24px\"viewBox=\"0 0 24 24\"\n",
              "       width=\"24px\">\n",
              "    <path d=\"M7,19H8.4L18.45,9,17,7.55,7,17.6ZM5,21V16.75L18.45,3.32a2,2,0,0,1,2.83,0l1.4,1.43a1.91,1.91,0,0,1,.58,1.4,1.91,1.91,0,0,1-.58,1.4L9.25,21ZM18.45,9,17,7.55Zm-12,3A5.31,5.31,0,0,0,4.9,8.1,5.31,5.31,0,0,0,1,6.5,5.31,5.31,0,0,0,4.9,4.9,5.31,5.31,0,0,0,6.5,1,5.31,5.31,0,0,0,8.1,4.9,5.31,5.31,0,0,0,12,6.5,5.46,5.46,0,0,0,6.5,12Z\"/>\n",
              "  </svg>\n",
              "    </button>\n",
              "    <script>\n",
              "      (() => {\n",
              "      const buttonEl =\n",
              "        document.querySelector('#id_c149b3ef-44d4-4684-aee1-d0a0dcb755c7 button.colab-df-generate');\n",
              "      buttonEl.style.display =\n",
              "        google.colab.kernel.accessAllowed ? 'block' : 'none';\n",
              "\n",
              "      buttonEl.onclick = () => {\n",
              "        google.colab.notebook.generateWithVariable('results_df');\n",
              "      }\n",
              "      })();\n",
              "    </script>\n",
              "  </div>\n",
              "\n",
              "    </div>\n",
              "  </div>\n"
            ],
            "application/vnd.google.colaboratory.intrinsic+json": {
              "type": "dataframe",
              "variable_name": "results_df",
              "summary": "{\n  \"name\": \"results_df\",\n  \"rows\": 3,\n  \"fields\": [\n    {\n      \"column\": \"Model\",\n      \"properties\": {\n        \"dtype\": \"string\",\n        \"num_unique_values\": 3,\n        \"samples\": [\n          \"Logistic Regression\",\n          \"Decision Tree\",\n          \"Random Forest\"\n        ],\n        \"semantic_type\": \"\",\n        \"description\": \"\"\n      }\n    },\n    {\n      \"column\": \"Accuracy\",\n      \"properties\": {\n        \"dtype\": \"number\",\n        \"std\": 0.04393555887129844,\n        \"min\": 0.772,\n        \"max\": 0.853,\n        \"num_unique_values\": 3,\n        \"samples\": [\n          0.842,\n          0.772,\n          0.853\n        ],\n        \"semantic_type\": \"\",\n        \"description\": \"\"\n      }\n    },\n    {\n      \"column\": \"Precision\",\n      \"properties\": {\n        \"dtype\": \"number\",\n        \"std\": 0.028618176042508395,\n        \"min\": 0.853,\n        \"max\": 0.91,\n        \"num_unique_values\": 3,\n        \"samples\": [\n          0.877,\n          0.853,\n          0.91\n        ],\n        \"semantic_type\": \"\",\n        \"description\": \"\"\n      }\n    },\n    {\n      \"column\": \"Recall\",\n      \"properties\": {\n        \"dtype\": \"number\",\n        \"std\": 0.05900282479113463,\n        \"min\": 0.743,\n        \"max\": 0.853,\n        \"num_unique_values\": 3,\n        \"samples\": [\n          0.853,\n          0.743,\n          0.835\n        ],\n        \"semantic_type\": \"\",\n        \"description\": \"\"\n      }\n    },\n    {\n      \"column\": \"F1 Score\",\n      \"properties\": {\n        \"dtype\": \"number\",\n        \"std\": 0.042829117821096094,\n        \"min\": 0.794,\n        \"max\": 0.871,\n        \"num_unique_values\": 3,\n        \"samples\": [\n          0.865,\n          0.794,\n          0.871\n        ],\n        \"semantic_type\": \"\",\n        \"description\": \"\"\n      }\n    },\n    {\n      \"column\": \"ROC-AUC\",\n      \"properties\": {\n        \"dtype\": \"number\",\n        \"std\": 0.041581245772583555,\n        \"min\": 0.778,\n        \"max\": 0.857,\n        \"num_unique_values\": 3,\n        \"samples\": [\n          0.84,\n          0.778,\n          0.857\n        ],\n        \"semantic_type\": \"\",\n        \"description\": \"\"\n      }\n    }\n  ]\n}"
            }
          },
          "metadata": {},
          "execution_count": 51
        }
      ]
    },
    {
      "cell_type": "code",
      "source": [
        "model = joblib.load(\"disease_model.pkl\")"
      ],
      "metadata": {
        "id": "dp7-MTkkftQj"
      },
      "execution_count": 53,
      "outputs": []
    },
    {
      "cell_type": "code",
      "source": [
        "sample = X_test[0].reshape(1, -1)\n",
        "print(\"Prediction (1 = Disease, 0 = No Disease):\", model.predict(sample))"
      ],
      "metadata": {
        "colab": {
          "base_uri": "https://localhost:8080/"
        },
        "id": "ngoj3cyagVVL",
        "outputId": "a67216be-fc7f-496b-a269-3b415ab3f11e"
      },
      "execution_count": 55,
      "outputs": [
        {
          "output_type": "stream",
          "name": "stdout",
          "text": [
            "Prediction (1 = Disease, 0 = No Disease): [0]\n"
          ]
        }
      ]
    },
    {
      "cell_type": "code",
      "source": [
        "import numpy as np\n",
        "custom_patient = np.array([[63, 145, 233, 1, 150, 0, 2.3, 0, 1, 0, 0, 0, 0, 1, 0, 0, 0, 1, 0, 0, 1, 0]])\n",
        "custom_patient_scaled = scaler.transform(custom_patient)\n",
        "\n",
        "# Predict\n",
        "prediction = model.predict(custom_patient_scaled)\n",
        "print(\"Custom Patient Prediction (1 = Disease, 0 = No Disease):\", prediction)\n"
      ],
      "metadata": {
        "colab": {
          "base_uri": "https://localhost:8080/",
          "height": 410
        },
        "id": "9V2RsWoFgbR7",
        "outputId": "5cdeac0a-4e25-4fce-c646-547bdc67aad5"
      },
      "execution_count": 56,
      "outputs": [
        {
          "output_type": "stream",
          "name": "stderr",
          "text": [
            "/usr/local/lib/python3.12/dist-packages/sklearn/utils/validation.py:2739: UserWarning: X does not have valid feature names, but StandardScaler was fitted with feature names\n",
            "  warnings.warn(\n"
          ]
        },
        {
          "output_type": "error",
          "ename": "ValueError",
          "evalue": "X has 22 features, but StandardScaler is expecting 21 features as input.",
          "traceback": [
            "\u001b[0;31m---------------------------------------------------------------------------\u001b[0m",
            "\u001b[0;31mValueError\u001b[0m                                Traceback (most recent call last)",
            "\u001b[0;32m/tmp/ipython-input-1461594466.py\u001b[0m in \u001b[0;36m<cell line: 0>\u001b[0;34m()\u001b[0m\n\u001b[1;32m      1\u001b[0m \u001b[0;32mimport\u001b[0m \u001b[0mnumpy\u001b[0m \u001b[0;32mas\u001b[0m \u001b[0mnp\u001b[0m\u001b[0;34m\u001b[0m\u001b[0;34m\u001b[0m\u001b[0m\n\u001b[1;32m      2\u001b[0m \u001b[0mcustom_patient\u001b[0m \u001b[0;34m=\u001b[0m \u001b[0mnp\u001b[0m\u001b[0;34m.\u001b[0m\u001b[0marray\u001b[0m\u001b[0;34m(\u001b[0m\u001b[0;34m[\u001b[0m\u001b[0;34m[\u001b[0m\u001b[0;36m63\u001b[0m\u001b[0;34m,\u001b[0m \u001b[0;36m145\u001b[0m\u001b[0;34m,\u001b[0m \u001b[0;36m233\u001b[0m\u001b[0;34m,\u001b[0m \u001b[0;36m1\u001b[0m\u001b[0;34m,\u001b[0m \u001b[0;36m150\u001b[0m\u001b[0;34m,\u001b[0m \u001b[0;36m0\u001b[0m\u001b[0;34m,\u001b[0m \u001b[0;36m2.3\u001b[0m\u001b[0;34m,\u001b[0m \u001b[0;36m0\u001b[0m\u001b[0;34m,\u001b[0m \u001b[0;36m1\u001b[0m\u001b[0;34m,\u001b[0m \u001b[0;36m0\u001b[0m\u001b[0;34m,\u001b[0m \u001b[0;36m0\u001b[0m\u001b[0;34m,\u001b[0m \u001b[0;36m0\u001b[0m\u001b[0;34m,\u001b[0m \u001b[0;36m0\u001b[0m\u001b[0;34m,\u001b[0m \u001b[0;36m1\u001b[0m\u001b[0;34m,\u001b[0m \u001b[0;36m0\u001b[0m\u001b[0;34m,\u001b[0m \u001b[0;36m0\u001b[0m\u001b[0;34m,\u001b[0m \u001b[0;36m0\u001b[0m\u001b[0;34m,\u001b[0m \u001b[0;36m1\u001b[0m\u001b[0;34m,\u001b[0m \u001b[0;36m0\u001b[0m\u001b[0;34m,\u001b[0m \u001b[0;36m0\u001b[0m\u001b[0;34m,\u001b[0m \u001b[0;36m1\u001b[0m\u001b[0;34m,\u001b[0m \u001b[0;36m0\u001b[0m\u001b[0;34m]\u001b[0m\u001b[0;34m]\u001b[0m\u001b[0;34m)\u001b[0m\u001b[0;34m\u001b[0m\u001b[0;34m\u001b[0m\u001b[0m\n\u001b[0;32m----> 3\u001b[0;31m \u001b[0mcustom_patient_scaled\u001b[0m \u001b[0;34m=\u001b[0m \u001b[0mscaler\u001b[0m\u001b[0;34m.\u001b[0m\u001b[0mtransform\u001b[0m\u001b[0;34m(\u001b[0m\u001b[0mcustom_patient\u001b[0m\u001b[0;34m)\u001b[0m\u001b[0;34m\u001b[0m\u001b[0;34m\u001b[0m\u001b[0m\n\u001b[0m\u001b[1;32m      4\u001b[0m \u001b[0;34m\u001b[0m\u001b[0m\n\u001b[1;32m      5\u001b[0m \u001b[0;31m# Predict\u001b[0m\u001b[0;34m\u001b[0m\u001b[0;34m\u001b[0m\u001b[0m\n",
            "\u001b[0;32m/usr/local/lib/python3.12/dist-packages/sklearn/utils/_set_output.py\u001b[0m in \u001b[0;36mwrapped\u001b[0;34m(self, X, *args, **kwargs)\u001b[0m\n\u001b[1;32m    317\u001b[0m     \u001b[0;34m@\u001b[0m\u001b[0mwraps\u001b[0m\u001b[0;34m(\u001b[0m\u001b[0mf\u001b[0m\u001b[0;34m)\u001b[0m\u001b[0;34m\u001b[0m\u001b[0;34m\u001b[0m\u001b[0m\n\u001b[1;32m    318\u001b[0m     \u001b[0;32mdef\u001b[0m \u001b[0mwrapped\u001b[0m\u001b[0;34m(\u001b[0m\u001b[0mself\u001b[0m\u001b[0;34m,\u001b[0m \u001b[0mX\u001b[0m\u001b[0;34m,\u001b[0m \u001b[0;34m*\u001b[0m\u001b[0margs\u001b[0m\u001b[0;34m,\u001b[0m \u001b[0;34m**\u001b[0m\u001b[0mkwargs\u001b[0m\u001b[0;34m)\u001b[0m\u001b[0;34m:\u001b[0m\u001b[0;34m\u001b[0m\u001b[0;34m\u001b[0m\u001b[0m\n\u001b[0;32m--> 319\u001b[0;31m         \u001b[0mdata_to_wrap\u001b[0m \u001b[0;34m=\u001b[0m \u001b[0mf\u001b[0m\u001b[0;34m(\u001b[0m\u001b[0mself\u001b[0m\u001b[0;34m,\u001b[0m \u001b[0mX\u001b[0m\u001b[0;34m,\u001b[0m \u001b[0;34m*\u001b[0m\u001b[0margs\u001b[0m\u001b[0;34m,\u001b[0m \u001b[0;34m**\u001b[0m\u001b[0mkwargs\u001b[0m\u001b[0;34m)\u001b[0m\u001b[0;34m\u001b[0m\u001b[0;34m\u001b[0m\u001b[0m\n\u001b[0m\u001b[1;32m    320\u001b[0m         \u001b[0;32mif\u001b[0m \u001b[0misinstance\u001b[0m\u001b[0;34m(\u001b[0m\u001b[0mdata_to_wrap\u001b[0m\u001b[0;34m,\u001b[0m \u001b[0mtuple\u001b[0m\u001b[0;34m)\u001b[0m\u001b[0;34m:\u001b[0m\u001b[0;34m\u001b[0m\u001b[0;34m\u001b[0m\u001b[0m\n\u001b[1;32m    321\u001b[0m             \u001b[0;31m# only wrap the first output for cross decomposition\u001b[0m\u001b[0;34m\u001b[0m\u001b[0;34m\u001b[0m\u001b[0m\n",
            "\u001b[0;32m/usr/local/lib/python3.12/dist-packages/sklearn/preprocessing/_data.py\u001b[0m in \u001b[0;36mtransform\u001b[0;34m(self, X, copy)\u001b[0m\n\u001b[1;32m   1060\u001b[0m \u001b[0;34m\u001b[0m\u001b[0m\n\u001b[1;32m   1061\u001b[0m         \u001b[0mcopy\u001b[0m \u001b[0;34m=\u001b[0m \u001b[0mcopy\u001b[0m \u001b[0;32mif\u001b[0m \u001b[0mcopy\u001b[0m \u001b[0;32mis\u001b[0m \u001b[0;32mnot\u001b[0m \u001b[0;32mNone\u001b[0m \u001b[0;32melse\u001b[0m \u001b[0mself\u001b[0m\u001b[0;34m.\u001b[0m\u001b[0mcopy\u001b[0m\u001b[0;34m\u001b[0m\u001b[0;34m\u001b[0m\u001b[0m\n\u001b[0;32m-> 1062\u001b[0;31m         X = validate_data(\n\u001b[0m\u001b[1;32m   1063\u001b[0m             \u001b[0mself\u001b[0m\u001b[0;34m,\u001b[0m\u001b[0;34m\u001b[0m\u001b[0;34m\u001b[0m\u001b[0m\n\u001b[1;32m   1064\u001b[0m             \u001b[0mX\u001b[0m\u001b[0;34m,\u001b[0m\u001b[0;34m\u001b[0m\u001b[0;34m\u001b[0m\u001b[0m\n",
            "\u001b[0;32m/usr/local/lib/python3.12/dist-packages/sklearn/utils/validation.py\u001b[0m in \u001b[0;36mvalidate_data\u001b[0;34m(_estimator, X, y, reset, validate_separately, skip_check_array, **check_params)\u001b[0m\n\u001b[1;32m   2963\u001b[0m \u001b[0;34m\u001b[0m\u001b[0m\n\u001b[1;32m   2964\u001b[0m     \u001b[0;32mif\u001b[0m \u001b[0;32mnot\u001b[0m \u001b[0mno_val_X\u001b[0m \u001b[0;32mand\u001b[0m \u001b[0mcheck_params\u001b[0m\u001b[0;34m.\u001b[0m\u001b[0mget\u001b[0m\u001b[0;34m(\u001b[0m\u001b[0;34m\"ensure_2d\"\u001b[0m\u001b[0;34m,\u001b[0m \u001b[0;32mTrue\u001b[0m\u001b[0;34m)\u001b[0m\u001b[0;34m:\u001b[0m\u001b[0;34m\u001b[0m\u001b[0;34m\u001b[0m\u001b[0m\n\u001b[0;32m-> 2965\u001b[0;31m         \u001b[0m_check_n_features\u001b[0m\u001b[0;34m(\u001b[0m\u001b[0m_estimator\u001b[0m\u001b[0;34m,\u001b[0m \u001b[0mX\u001b[0m\u001b[0;34m,\u001b[0m \u001b[0mreset\u001b[0m\u001b[0;34m=\u001b[0m\u001b[0mreset\u001b[0m\u001b[0;34m)\u001b[0m\u001b[0;34m\u001b[0m\u001b[0;34m\u001b[0m\u001b[0m\n\u001b[0m\u001b[1;32m   2966\u001b[0m \u001b[0;34m\u001b[0m\u001b[0m\n\u001b[1;32m   2967\u001b[0m     \u001b[0;32mreturn\u001b[0m \u001b[0mout\u001b[0m\u001b[0;34m\u001b[0m\u001b[0;34m\u001b[0m\u001b[0m\n",
            "\u001b[0;32m/usr/local/lib/python3.12/dist-packages/sklearn/utils/validation.py\u001b[0m in \u001b[0;36m_check_n_features\u001b[0;34m(estimator, X, reset)\u001b[0m\n\u001b[1;32m   2827\u001b[0m \u001b[0;34m\u001b[0m\u001b[0m\n\u001b[1;32m   2828\u001b[0m     \u001b[0;32mif\u001b[0m \u001b[0mn_features\u001b[0m \u001b[0;34m!=\u001b[0m \u001b[0mestimator\u001b[0m\u001b[0;34m.\u001b[0m\u001b[0mn_features_in_\u001b[0m\u001b[0;34m:\u001b[0m\u001b[0;34m\u001b[0m\u001b[0;34m\u001b[0m\u001b[0m\n\u001b[0;32m-> 2829\u001b[0;31m         raise ValueError(\n\u001b[0m\u001b[1;32m   2830\u001b[0m             \u001b[0;34mf\"X has {n_features} features, but {estimator.__class__.__name__} \"\u001b[0m\u001b[0;34m\u001b[0m\u001b[0;34m\u001b[0m\u001b[0m\n\u001b[1;32m   2831\u001b[0m             \u001b[0;34mf\"is expecting {estimator.n_features_in_} features as input.\"\u001b[0m\u001b[0;34m\u001b[0m\u001b[0;34m\u001b[0m\u001b[0m\n",
            "\u001b[0;31mValueError\u001b[0m: X has 22 features, but StandardScaler is expecting 21 features as input."
          ]
        }
      ]
    },
    {
      "cell_type": "code",
      "source": [
        "print(\"Number of features:\", X.shape[1])\n",
        "print(\"Feature names:\", list(X.columns))"
      ],
      "metadata": {
        "colab": {
          "base_uri": "https://localhost:8080/"
        },
        "id": "DHI4TpIdg4at",
        "outputId": "da1a84b1-ed86-4e7a-c62a-353d4f746a27"
      },
      "execution_count": 58,
      "outputs": [
        {
          "output_type": "stream",
          "name": "stdout",
          "text": [
            "Number of features: 21\n",
            "Feature names: ['age', 'trestbps', 'chol', 'fbs', 'thalch', 'exang', 'oldpeak', 'ca', 'sex_Male', 'dataset_Hungary', 'dataset_Switzerland', 'dataset_VA Long Beach', 'cp_atypical angina', 'cp_non-anginal', 'cp_typical angina', 'restecg_normal', 'restecg_st-t abnormality', 'slope_flat', 'slope_upsloping', 'thal_normal', 'thal_reversable defect']\n"
          ]
        }
      ]
    },
    {
      "cell_type": "code",
      "source": [
        "custom_patient = np.array([[63, 145, 233, 1, 150, 0, 2.3, 0,\n",
        "                            1, 0, 0, 0, 0, 1, 0,\n",
        "                            0, 0, 1, 0, 0, 1]])"
      ],
      "metadata": {
        "id": "a1ssWeTBg-0b"
      },
      "execution_count": 60,
      "outputs": []
    },
    {
      "cell_type": "code",
      "source": [
        "custom_patient_scaled = scaler.transform(custom_patient.reshape(1, -1))\n",
        "prediction = model.predict(custom_patient_scaled)\n",
        "print(\"Prediction (1 = Disease, 0 = No Disease):\", prediction)"
      ],
      "metadata": {
        "colab": {
          "base_uri": "https://localhost:8080/"
        },
        "id": "-t8UIfqUhLIr",
        "outputId": "4efbc95b-32c3-4d57-9b92-d2af30f85631"
      },
      "execution_count": 61,
      "outputs": [
        {
          "output_type": "stream",
          "name": "stdout",
          "text": [
            "Prediction (1 = Disease, 0 = No Disease): [1]\n"
          ]
        },
        {
          "output_type": "stream",
          "name": "stderr",
          "text": [
            "/usr/local/lib/python3.12/dist-packages/sklearn/utils/validation.py:2739: UserWarning: X does not have valid feature names, but StandardScaler was fitted with feature names\n",
            "  warnings.warn(\n"
          ]
        }
      ]
    },
    {
      "cell_type": "code",
      "source": [],
      "metadata": {
        "id": "vY8SGy0Zi4xn"
      },
      "execution_count": null,
      "outputs": []
    }
  ]
}